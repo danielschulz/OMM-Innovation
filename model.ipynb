{
 "cells": [
  {
   "cell_type": "code",
   "execution_count": 7,
   "metadata": {},
   "outputs": [
    {
     "data": {
      "text/html": [
       "<div>\n",
       "<style scoped>\n",
       "    .dataframe tbody tr th:only-of-type {\n",
       "        vertical-align: middle;\n",
       "    }\n",
       "\n",
       "    .dataframe tbody tr th {\n",
       "        vertical-align: top;\n",
       "    }\n",
       "\n",
       "    .dataframe thead th {\n",
       "        text-align: right;\n",
       "    }\n",
       "</style>\n",
       "<table border=\"1\" class=\"dataframe\">\n",
       "  <thead>\n",
       "    <tr style=\"text-align: right;\">\n",
       "      <th></th>\n",
       "      <th>0</th>\n",
       "    </tr>\n",
       "  </thead>\n",
       "  <tbody>\n",
       "    <tr>\n",
       "      <th>0</th>\n",
       "      <td>len head screw x h002 custom screw len head sc...</td>\n",
       "    </tr>\n",
       "    <tr>\n",
       "      <th>1</th>\n",
       "      <td>cp bodi laser print wt hv fr r239 xxx use anym...</td>\n",
       "    </tr>\n",
       "    <tr>\n",
       "      <th>2</th>\n",
       "      <td>user se wt hv fr fr x810 print materi gener us...</td>\n",
       "    </tr>\n",
       "    <tr>\n",
       "      <th>3</th>\n",
       "      <td>fascia panel gv uc int white r250 inject part ...</td>\n",
       "    </tr>\n",
       "    <tr>\n",
       "      <th>4</th>\n",
       "      <td>cabl har operat ee sp l592 idcidc jumper cabl ...</td>\n",
       "    </tr>\n",
       "  </tbody>\n",
       "</table>\n",
       "</div>"
      ],
      "text/plain": [
       "                                                   0\n",
       "0  len head screw x h002 custom screw len head sc...\n",
       "1  cp bodi laser print wt hv fr r239 xxx use anym...\n",
       "2  user se wt hv fr fr x810 print materi gener us...\n",
       "3  fascia panel gv uc int white r250 inject part ...\n",
       "4  cabl har operat ee sp l592 idcidc jumper cabl ..."
      ]
     },
     "execution_count": 7,
     "metadata": {},
     "output_type": "execute_result"
    }
   ],
   "source": [
    "import pandas as pd\n",
    "\n",
    "df = pd.read_csv(r'data/pandas_df2_cleaned.csv', dtype='str').iloc[:, 1:]\n",
    "df.head()"
   ]
  },
  {
   "cell_type": "code",
   "execution_count": 8,
   "metadata": {},
   "outputs": [
    {
     "data": {
      "text/plain": [
       "['len head screw x h002 custom screw len head screw m4x8 1300 materi extern procur h10 fcgb inserra bortolo',\n",
       " 'cp bodi laser print wt hv fr r239 xxx use anymor cp bodi laser print wt45hv14fr 0318 materi potenti produc intern wd0 flcd default fdw',\n",
       " 'user se wt hv fr fr x810 print materi gener user se wt45hv14fr fr 0020 materi potenti produc intern wd0 flcd default fdw',\n",
       " 'fascia panel gv uc int white r250 inject part gener fascia panel gv650auc int white 300 0000 materi potenti produc intern g8a fdg neukirchnerdaniel',\n",
       " 'cabl har operat ee sp l592 idcidc jumper cabl har operat ee 590 sp 26800 materi extern procur vbi fcgb schuhmach jochen',\n",
       " 'cabl har operat ee mm sp l592 idcidc jumper cabl har operat ee740mm sp 28700 materi extern procur vbi fcgb schuhmach jochen',\n",
       " 'wire yellow green 01 dummi wire yellowgreen 0000 materi potenti produc intern h4w fcgl schmitt benoit',\n",
       " 'wire yellow green 01 dummi wire yellowgreen 0000 materi potenti produc intern h4w fcgl schmitt benoit',\n",
       " 'wire yellow green 01 dummi wire yellowgreen 0000 materi potenti produc intern h4w fcgl schmitt benoit',\n",
       " 'dough hook mum compl h73 spare part wire good dough hook mum4 compl 0049 materi potenti produc intern cs0 fne default',\n",
       " 'coupl gearbox bu r310 technic part gener coupl gearbox bu 30 0008 materi potenti produc intern z42 fne gortnar primoz',\n",
       " 'equip insert q110 corrug board fold box gener equipmentinsert887 50000 materi extern procur ef4 fcpr marek siutaj',\n",
       " 'lower insert q110 corrug board fold box gener lowerinsert1200097 37000 materi extern procur ef4 fcpr marek siutaj',\n",
       " 'citr press mill grinder insert mm q110 corrug board fold box gener citrpressandmillgrinderinsert mm 50000 materi extern procur ef4 fcpr marek siutaj',\n",
       " 'worm beta h312 turn part made stainless steel worm beta 80 2700 materi extern procur cs3 fne breucker manfr',\n",
       " 'bottom contribut x q110 corrug board fold box gener bottomcontribut 270x325 45000 materi extern procur eg1 fcpr katarzyna chrunik',\n",
       " 'top contribut mfw x q110 corrug board fold box gener top contribut mfw3x10 55000 materi extern procur eg1 fcpr katarzyna chrunik',\n",
       " 'gift box mmwpl q110 corrug board fold box gener gift box mmwpl3000 430000 materi extern procur ef0 fcpr robert raczka',\n",
       " 'pusher b r310 technic part gener pusher b10 0000 materi potenti produc intern z09 fne krivec luka',\n",
       " 'gift box mmwpl q110 corrug board fold box gener gift box mmwpl3003 395000 materi extern procur ef5 fcpr lukasz maciolek',\n",
       " 'pi label mfw x b 01 dummi pi label mfw3x10b 0540 materi potenti produc intern ef5 fcpr lukasz maciolek',\n",
       " 'pi label mfw x w 01 dummi pi label mfw3x10w 0540 materi potenti produc intern ef5 fcpr lukasz maciolek',\n",
       " 'pi label mfw x b 01 dummi pi label mfw3x13b 0540 materi potenti produc intern ef5 fcpr lukasz maciolek',\n",
       " 'pi label mfw x w 01 dummi pi label mfw3x13w 0540 materi potenti produc intern ef5 fcpr lukasz maciolek',\n",
       " 'pi label mfw x b 01 dummi pi label mfw3x14b 0540 materi potenti produc intern ef5 fcpr lukasz maciolek',\n",
       " 'pi label mfw x w 01 dummi pi label mfw3x14w 0540 materi potenti produc intern ef5 fcpr lukasz maciolek',\n",
       " 'pi label mfw x b 01 dummi pi label mfw3x15b 0540 materi potenti produc intern ef5 fcpr lukasz maciolek',\n",
       " 'pi label mfw x w 01 dummi pi label mfw3x15w 0540 materi potenti produc intern ef5 fcpr lukasz maciolek',\n",
       " 'pi label mfw x b 01 dummi pi label mfw3x18b 0540 materi potenti produc intern ef5 fcpr lukasz maciolek',\n",
       " 'pi label mfw x w 01 dummi pi label mfw3x18w 0540 materi potenti produc intern ef5 fcpr lukasz maciolek',\n",
       " 'side panel ri x vzf 01 dummi side panel ri 2001 x 565 vzf07020 04 4364 materi potenti produc intern kw5 frfwr lesniewski andrzej',\n",
       " 'gift box mfw x q110 corrug board fold box gener gift box mfw3x10 430000 materi extern procur ef8 fcpr karolina piela',\n",
       " 'gift box mfw x q110 corrug board fold box gener gift box mfw3x13 395000 materi extern procur ef8 fcpr karolina piela',\n",
       " 'gift box mfw x q110 corrug board fold box gener gift box mfw3x14 395000 materi extern procur ef8 fcpr karolina piela',\n",
       " 'gift box mfw x q110 corrug board fold box gener gift box mfw3x15 430000 materi extern procur ef8 fcpr karolina piela',\n",
       " 'gift box mfw x b q110 corrug board fold box gener gift box mfw3x17b 395000 materi extern procur ef8 fcpr karolina piela',\n",
       " 'gift box mfw x q110 corrug board fold box gener gift box mfw3x18 465000 materi extern procur ef8 fcpr karolina piela',\n",
       " 'gift box mmwpl q110 corrug board fold box gener gift box mmwpl3001 430000 materi extern procur ef8 fcpr karolina piela',\n",
       " 'gift box mfw q110 corrug board fold box gener gift box mfw3612a 395000 materi extern procur ef8 fcpr karolina piela',\n",
       " 'gift box mfw q110 corrug board fold box gener gift box mfw3630a 430000 materi extern procur ef8 fcpr karolina piela',\n",
       " 'gift box mfw b q110 corrug board fold box gener gift box mfw3850b 455000 materi extern procur ef8 fcpr karolina piela',\n",
       " 'gift box mfw w q110 corrug board fold box gener gift box mfw3520w 395000 materi extern procur ef8 fcpr karolina piela',\n",
       " 'gift box mfw w q110 corrug board fold box gener gift box mfw3540w 450000 materi extern procur ef8 fcpr karolina piela',\n",
       " 'gift box mfw w q110 corrug board fold box gener gift box mfw3910w 430000 materi extern procur ef8 fcpr karolina piela',\n",
       " 'gift box mfw q110 corrug board fold box gener gift box mfw3640a 450000 materi extern procur ef8 fcpr karolina piela',\n",
       " 'gift box mfw q110 corrug board fold box gener gift box mfw3630i 430000 materi extern procur ef8 fcpr karolina piela',\n",
       " 'gift box mfw g q110 corrug board fold box gener gift box mfw3520g 395000 materi extern procur ef8 fcpr karolina piela',\n",
       " 'gift box mfw w q110 corrug board fold box gener gift box mfw3502w 395000 materi extern procur ef8 fcpr karolina piela',\n",
       " 'insert protect x x q110 corrug board fold box gener insert protect 4 855x370x2 140000 materi extern procur ef5 fcpr lukasz maciolek',\n",
       " 'insert shredder q110 corrug board fold box gener insert shredder 60000 materi extern procur ef5 fcpr lukasz maciolek',\n",
       " 'handl indic pg ral shadow wh t030 rubber part gener handl indicatorpg15ral8500 shadow wh 1500 materi potenti produc intern wra dlcb pang wenfeng',\n",
       " 'rate plate tq df 01 dummi rate plate tq907df3 0000 materi potenti produc intern z29 fne solar lovro',\n",
       " 'maf cover upper miel kgn k r253 unit incl assembl mafcov upper miel kgn3646 k4000 0220 materi potenti produc intern keh fik erdem alper',\n",
       " 'side panel comp left kgn white 01 dummi side panel comp left kgn39 white 20 0000 materi potenti produc intern kfg fik sav semih',\n",
       " 'side panel comp right kgn p grey bf 01 dummi side panel comp right kgn39 pgrey bf12 0000 materi potenti produc intern kfg fik sav semih',\n",
       " 'side panel comp right kgn white bf 01 dummi side panel comp right kgn39 white bf12 0000 materi potenti produc intern kfg fik sav semih',\n",
       " 'karton box msgp 01 dummi karton box msgp6 152400 materi extern procur cto fne posedel kristjan',\n",
       " 'packag msgp 01 dummi packag msgp6 0000 materi potenti produc intern cto fne posedel kristjan',\n",
       " 'board mpx pb m262 induct electron cpm high complex board mpx3pb3i02 924200 materi potenti produc intern smg fcgm aranda sandra',\n",
       " 'handl profil bu decor r912 design profil hot stamp handl profil bu decor 0020 materi potenti produc intern kl6 frfg haenssler felix',\n",
       " 'silicon loctit si s090 chemic gener silicon loctit si 5366 0001 materi extern procur sik fcgm gomez patricia',\n",
       " 'univers primer uv s090 chemic gener univers primer uv 0001 materi extern procur sik fcgm gomez patricia',\n",
       " 'magnet disc x 01 dummi magnet disc 28x3 0000 materi extern procur cvd fne mesko ale',\n",
       " 'foil bag x r790 polyethylen bag gener foilbag200x250 300201 2600 materi extern procur ef0 fcpr robert raczka',\n",
       " 'foil bag x r790 polyethylen bag gener foilbag250x400 300210 5000 materi extern procur ef0 fcpr robert raczka',\n",
       " 'foil bag x r790 polyethylen bag gener foilbag115x160 300215 1000 materi extern procur ef0 fcpr robert raczka',\n",
       " 'foil bag x r790 polyethylen bag gener foilbag200x300 300223 3000 materi extern procur ef0 fcpr robert raczka',\n",
       " 'bag foam x r790 polyethylen bag gener bagfoam400x470 300243 11000 materi extern procur ef0 fcpr robert raczka',\n",
       " 'bottom contribut fw q110 corrug board fold box gener bottomcontribut fw3501300 80000 materi extern procur ef0 fcpr robert raczka',\n",
       " 'chamber insert fw q110 corrug board fold box gener chamberinsert fw3501301 75000 materi extern procur ef0 fcpr robert raczka',\n",
       " 'insert side fw q110 corrug board fold box gener insertsid fw3501304 55000 materi extern procur ef0 fcpr robert raczka',\n",
       " 'citrusn juicer input x fw q110 corrug board fold box gener citrusnjuicerinput570x250 fw3501305 55000 materi extern procur ef0 fcpr robert raczka',\n",
       " 'insert assi fw neutral q110 corrug board fold box gener insertsassi fw3501306 neutral 34000 materi extern procur ef0 fcpr robert raczka',\n",
       " 'wire har gv xx eco drya l594 idccrimpplasticsswitchmotor assembl wire har gv6xx eco1 drya m2 328000 materi extern procur g9o fdg suessmichael',\n",
       " 'wire har gv xx doa dra eil smbm l594 idccrimpplasticsswitchmotor assembl wire har gv6xx hedoadraseilsmbm2 326000 materi extern procur g8c fdg hurler michael',\n",
       " 'wire har gv xx drya eil smbm l594 idccrimpplasticsswitchmotor assembl wire har gv6xx hedryaseilsmbm2 322000 materi extern procur g8c fdg hurler michael',\n",
       " 'fascia panel gv u integra grey r250 inject part gener fascia panel gv650au integra grey 7040 0000 materi potenti produc intern gn3 fnbg harriett rene',\n",
       " 'wire har gv xx basi smbm l594 idccrimpplasticsswitchmotor assembl wire har gv6xx basi smbm2 277000 materi extern procur g8c fdg hurler michael',\n",
       " 'wire har xx drya w om el smbm l594 idccrimpplasticsswitchmotor assembl wire har 6xx hedrya womelsmbm2 320000 materi extern procur g8c fdg hurler michael',\n",
       " 'user se wt hvx fr fr x810 print materi gener user se wt45hvx1fr fr 0020 materi potenti produc intern wd0 flcd default fdw',\n",
       " 'fascia panel u integra neutral r250 inject part gener fascia panel 650au integra 300 neutral 0000 materi potenti produc intern g8a fdg neukirchnerdaniel',\n",
       " 'fascia panel eu integra neutral r250 inject part gener fascia panel 650aeu integra 300 neutral 0000 materi potenti produc intern g8a fdg neukirchnerdaniel',\n",
       " 'ius v v v v v v v f kh pol x812 print materi digit print iusev5vd5vvvvvfkhpol 0000 materi extern procur smb fcgm alonso sara',\n",
       " 'sheet x sx dx z c b g271 coil coat paint sheet 07x8198sx2020 dx52dz100mc b 0000 materi extern procur hza fcgb fischer rolf',\n",
       " 'sheet x sx dx z c si g271 coil coat paint sheet 07x8198sx2020 dx52dz100mcsi 0000 materi extern procur hza fcgb fischer rolf',\n",
       " 'analog clock everel silver l380 program switch gener analog clock everel silver 169000 materi potenti produc intern h3h fcgi mert mustafa',\n",
       " 'analog clock everel oyster white l380 program switch gener analog clock everel oyster white 169000 materi potenti produc intern h3h fcgi mert mustafa',\n",
       " 'control panel system wan gr 01 dummi control panel system wan28241gr 0000 materi potenti produc intern wdb flci cevik ahmet',\n",
       " 'cp dw th print complet wan gr 01 dummi cpdwth print complet wan28241gr 0000 materi potenti produc intern wdb flci cevik ahmet',\n",
       " 'as cp dw print complet wan gr 01 dummi as cpdw print complet wan28241gr 0000 materi potenti produc intern wdb flci cevik ahmet',\n",
       " 'as cp dw semiprint wan gr 01 dummi as cpdw semiprint wan28241gr 0000 materi potenti produc intern wdb flci cevik ahmet',\n",
       " 'facia panel v v white print 01 dummi facia panel 642 v5v7 white print 0000 materi potenti produc intern g9d flg szwed artur',\n",
       " 'wire grey 01 dummi wire grey 0000 materi potenti produc intern h4w fcgl schmitt benoit',\n",
       " 'wire grey 01 dummi wire grey 0000 materi potenti produc intern h4w fcgl schmitt benoit',\n",
       " 'power modul program wan gr 01 dummi power modul programedwan28241gr 0000 materi potenti produc intern wdb flci cevik ahmet',\n",
       " 'print matter se hb b cpl ex eox x810 print materi gener print matter se hb234a0b0 cpl ex eox5 0000 materi potenti produc intern hcj fcgt simon annamaria',\n",
       " 'iu ii se hb en eox x810 print materi gener iuii se hb234a00 en eox5 0000 materi extern procur hcj fcgt simon annamaria',\n",
       " 'iu ii se hb eox x810 print materi gener iuii se hb234a00 eox5 0000 materi extern procur hcj fcgt simon annamaria',\n",
       " 'analog clock everel matt black l380 program switch gener analog clock everel matt black 169000 materi potenti produc intern h3h fcgi mert mustafa',\n",
       " 'analog clock hosu everel r210 technic part gener analog clock hosu everel 45000 materi potenti produc intern h3h fcgi mert mustafa',\n",
       " 'analog clock rotat shaft everel r210 technic part gener analog clock rotat shaft everel 5000 materi potenti produc intern h3h fcgi mert mustafa',\n",
       " 'analog clock push shaft everel r210 technic part gener analog clock push shaft everel 4000 materi potenti produc intern h3h fcgi mert mustafa',\n",
       " 'accessori set p tcg x810 print materi gener accessori seton36po12dtcg300 0000 materi potenti produc intern hod fcgi sir cagatay',\n",
       " 'user manual tr p 01 dummi user manualtron36po12d 0000 materi extern procur hod fcgi sir cagatay',\n",
       " 'upper motor hous sphere saddl r310 technic part gener upper motor hous sphere saddl 0000 materi extern procur e15 fma barnova',\n",
       " 'lower motor hous sphere saddl r310 technic part gener lower motor hous sphere saddl 0000 materi extern procur e15 fma barnova',\n",
       " 'shaft h313 motor shaft pulley nan 0000 materi extern procur e15 fma barnova',\n",
       " 'cristal c g w balay n70 spare part glass ceram cristal c60o 3gwbalay 2800 materi extern procur 001 001',\n",
       " 'cristal c f g e balay n70 spare part glass ceram cristal c60f 3gebalay 2800 materi extern procur 001 001',\n",
       " 'cristal g c f bosch n70 spare part glass ceram cristal 4g c60f bosch 2800 materi extern procur 001 001',\n",
       " 'cristal g e c f bosch n70 spare part glass ceram cristal 3g1e c60f bosch 2800 materi extern procur 001 001',\n",
       " 'cristal g w c f bosch n70 spare part glass ceram cristal 4g1w c70f bosch 2800 materi extern procur 001 001',\n",
       " 'cristal g w c f siemen n70 spare part glass ceram cristal 4g1w c70f siemen 2800 materi extern procur 001 001',\n",
       " 'cristal g c siemen alemania n70 spare part glass ceram cristal 4g c60o siemen alemania 2800 materi extern procur 001 001',\n",
       " 'vitro ceramico g w ne f n70 spare part glass ceram vitro ceramico 4gw ne90f 0000 materi extern procur undefin',\n",
       " 'vitro ceramico g w bo f n70 spare part glass ceram vitro ceramico 4gw bo90f 3670 materi extern procur undefin',\n",
       " 'pad packag bg top handl v q110 corrug board fold box gener pad packag bgs2for top handl v2 22000 materi extern procur ci0 fie default',\n",
       " 'heat element retain f h470 clamp plate hose clamp gener heat element retain f490 0007 materi potenti produc intern wb0 dlcb default fbw',\n",
       " 'det dispens pre assi ul ww f r225 xxx use anymor det dispens preassi ul ww f23 0750 materi potenti produc intern wn0 flcn default fnw',\n",
       " 'g fold box tiger q110 corrug board fold box gener gs70 fold box tiger 1170000 materi extern procur c09 fbe albert wilma',\n",
       " 'fold box g vsx xtrm q110 corrug board fold box gener fold box gs70 vsx7xtrm 1170000 materi extern procur ef5 fcpr lukasz maciolek',\n",
       " 'tg assi vg r g profilo black yr 01 dummi tgassyvg60r4gprofiloblackyr 0000 materi potenti produc intern ho4 fcgi genc tugc nur',\n",
       " 'front insert g q110 corrug board fold box gener front insert gs41 110000 materi extern procur ef0 fcpr robert raczka',\n",
       " 'back insert g q110 corrug board fold box gener back insert gs41 97000 materi extern procur ef0 fcpr robert raczka',\n",
       " 'fold box g proanim x x q110 corrug board fold box gener fold box gs70 s8 proanim 595x395x370 1170000 materi extern procur ef5 fcpr lukasz maciolek',\n",
       " 'x mm dc ed mo g234 cold roll steel enamel ed 07x515mm dc04ed mo 1000 materi extern procur h64 fcgm lozano laura',\n",
       " 'x mm dc ed mo g234 cold roll steel enamel ed 07x525mm dc04ed mo 1000 materi extern procur h64 fcgm lozano laura',\n",
       " 'x mm h z ma 01 dummi 710x04mm h220d z100 ma 1000 materi extern procur h64 fcgm lozano laura',\n",
       " 'fold box g prosilen x x q110 corrug board fold box gener fold box gs70 s8 prosilen 595x395x370 1170000 materi extern procur ef8 fcpr karolina piela',\n",
       " 'fold box g propow x x q110 corrug board fold box gener fold box gs70 s8 propow 595x395x370 1170000 materi extern procur ef8 fcpr karolina piela',\n",
       " 'logo bosch bar le chrome pcg mm steel h602 nameplatelogo logo bosch bar le chrome pcg 230mm steel 10000 materi extern procur h64 fcgm lozano laura',\n",
       " 'logo bosch bar le chrome pcg mm steel h602 nameplatelogo logo bosch bar le chrome pcg 130mm steel 5000 materi extern procur h64 fcgm lozano laura',\n",
       " 'fold box g classic x x q110 corrug board fold box gener fold box gs41 s6 classic 585x385x295 1050000 materi extern procur ef8 fcpr karolina piela',\n",
       " 'fold box g proanim x x q110 corrug board fold box gener fold box gs41 s6 proanim 585x385x295 1050000 materi extern procur ef8 fcpr karolina piela',\n",
       " 'fold box g prohyg x x q110 corrug board fold box gener fold box gs41 s6 prohyg 585x385x295 1050000 materi extern procur ef8 fcpr karolina piela',\n",
       " 'fold box g prosilen x x q110 corrug board fold box gener fold box gs41 s6 prosilen 585x385x295 1050000 materi extern procur ef8 fcpr karolina piela',\n",
       " 'fold box g propow x x q110 corrug board fold box gener fold box gs41 s6 propow 585x385x295 1050000 materi extern procur ef8 fcpr karolina piela',\n",
       " 'side panel le x vzf 01 dummi side panel le 2001 x 565 vzf07127 04 4364 materi potenti produc intern kw5 frfwr lesniewski andrzej',\n",
       " 'side panel le x vzf 01 dummi side panel le 2001 x 565 vzf07020 04 4364 materi potenti produc intern kw5 frfwr lesniewski andrzej',\n",
       " 'x h z g243 hot dip zinc galvan seal steel z 600x05 h220d z100 ma 1000 materi extern procur h64 fcgm lozano laura',\n",
       " 'x mm dc ed mo g234 cold roll steel enamel ed 997x05mm dc04edmo 1000 materi extern procur h64 fcgm lozano laura',\n",
       " 'steam bowl h332 toolrel stamp part mediumlow complex steam bowl 270000 materi extern procur hq0 fcgm hernandez pedro',\n",
       " 'steam bowl enamel 01 dummi steam bowl enamel 0000 materi potenti produc intern hq0 fcgm hernandez pedro',\n",
       " 'steam bowl coat k805 metal modul product accessori metal steam bowl coat 270000 materi extern procur hq0 fcgm hernandez pedro',\n",
       " 'front switch panel 01 dummi front switch panel 0000 materi potenti produc intern h61 fcgm palacio antonio',\n",
       " 'front glass panel n721 flatglass control panel front glass panel 545000 materi extern procur h6e fcgm lorenzo ana',\n",
       " 'front switch panel 01 dummi front switch panel 0000 materi potenti produc intern h61 fcgm palacio antonio',\n",
       " 'front switch panel 01 dummi front switch panel 0000 materi potenti produc intern h61 fcgm palacio antonio',\n",
       " 'switch h pop svk w po bl r341 knob push turn switch h pop svk2 w 0po bl 55000 materi extern procur h61 fcgm palacio antonio',\n",
       " 'switch handl neff r341 knob push turn switch handl neff 56000 materi extern procur h61 fcgm palacio antonio',\n",
       " 'switch h fix sfk w po bl x920 intern group purchas plastic gener switch h fix sfk1 w 0po bl 16000 materi potenti produc intern h61 fcgm palacio antonio',\n",
       " 'print siev 01 dummi print siev 0000 materi potenti produc intern h61 fcgm palacio antonio',\n",
       " 'fold box g classic x x q110 corrug board fold box gener fold box gs21 s4 classic 575x360x300 1090000 materi extern procur eg6 fcpr dariusz buczko',\n",
       " 'fold box g propow x x q110 corrug board fold box gener fold box gs21 s4 propow 575x360x300 1090000 materi extern procur eg6 fcpr dariusz buczko',\n",
       " 'fold box vsx x x q110 corrug board fold box gener fold box vsx21 575x360x300 1090000 materi extern procur eg6 fcpr dariusz buczko',\n",
       " 'rate plate tq 01 dummi rate plate tq907d03 0000 materi potenti produc intern z29 fne solar lovro',\n",
       " 'rate plate tq 01 dummi rate plate tq905d03 0000 materi potenti produc intern z29 fne solar lovro',\n",
       " 'rate plate tq 01 dummi rate plate tq903d09 0000 materi potenti produc intern z29 fne solar lovro',\n",
       " 'rate plate tq df 01 dummi rate plate tq905df9 0000 materi potenti produc intern z29 fne solar lovro',\n",
       " 'rate plate tq df 01 dummi rate plate tq907df5 0000 materi potenti produc intern z29 fne solar lovro',\n",
       " 'x x n g film g670 ferrit stainless steel other 05x613x126 14509 n4g400 film 1000 materi extern procur h64 fcgm lozano laura',\n",
       " 'xe touch display r244 guideligth display xe51 touch display 65000 materi potenti produc intern h61 fcgm palacio antonio',\n",
       " 'front metal xe touch h712 toolrel inox stamp part high complex aesthet front metal xe51 touch 231000 materi potenti produc intern hio fcgm guerrero beatriz',\n",
       " 'fip cap set matt black ral 01 dummi fip cap set mattblack ral 9005 13000 materi potenti produc intern h61 fcgm palacio antonio',\n",
       " 'fip bc hm hyd pyr pro r341 knob push turn fipbc 7 hm hyd pyr pro 55000 materi potenti produc intern h61 fcgm palacio antonio',\n",
       " 'fip bc r341 knob push turn fipbc 55000 materi potenti produc intern h61 fcgm palacio antonio',\n",
       " 'p black anod h345 aluminium handl p533 black anod 210000 materi potenti produc intern h61 fcgm palacio antonio',\n",
       " 'door glass balay r u anniversari n723 uncoat print glass door glass balay r510u 75anniversari 2715 materi extern procur h6e fcgm lorenzo ana',\n",
       " 'xe touch display paint front panel r244 guideligth display xe51 touch display paint front panel 63300 materi potenti produc intern h61 fcgm palacio antonio',\n",
       " 'x x vzf dark inox g670 ferrit stainless steel other 05x6215x484 1443 vzf 09227 dark inox 1000 materi extern procur h64 fcgm lozano laura',\n",
       " 'front metal anniversari print 01 dummi front metal 75 anniversari print 0000 materi potenti produc intern h61 fcgm palacio antonio',\n",
       " 'front metal anniversari h712 toolrel inox stamp part high complex aesthet front metal 75 anniversari 235000 materi potenti produc intern h61 fcgm palacio antonio',\n",
       " 'x mm dx z g243 hot dip zinc galvan seal steel z 848x05mm dx54dz100ma 1000 materi extern procur h64 fcgm lozano laura',\n",
       " 'fold box bwd x x q110 corrug board fold box gener fold box bwd4 s4 590x390x420 1310000 materi extern procur ef5 fcpr lukasz maciolek',\n",
       " 'dcc w brn bodi kw g w tcpl h271 ga burner part made aluminum dcc wbrnbody35kwg2525wotcpl 0366 materi extern procur hoh fcgi erfidan serkan emr',\n",
       " 'rate plate tq r 01 dummi rate plate tq903r09 0000 materi potenti produc intern cvk fne bozic ziga',\n",
       " 'x mm dx z g243 hot dip zinc galvan seal steel z 630 x 04 mm dx51d z100 ma 1000 materi extern procur h64 fcgm lozano laura',\n",
       " 'x mm dx z g243 hot dip zinc galvan seal steel z 848x05mm dx54dz100ma 1000 materi extern procur h64 fcgm lozano laura',\n",
       " 'x mm dx z 01 dummi 1120x05mm dx54dz100 ma 1000 materi extern procur h64 fcgm lozano laura',\n",
       " 'x mm dc ed mo g234 cold roll steel enamel ed 1368x05mm dc04edmo 1000 materi extern procur h64 fcgm lozano laura',\n",
       " 'plastic insert rv 01 dummi plastic insert rv1 0000 materi extern procur z41 fne herman jan',\n",
       " 'rate plate mum 01 dummi rate plate mum57810 0000 materi potenti produc intern z41 fne herman jan',\n",
       " 'rate plate mum 01 dummi rate plate mum57830 0000 materi potenti produc intern z41 fne herman jan',\n",
       " 'lower arm cpl mum vzf kpl ii r334 unit incl assembl lower arm cplmum57 vzf09204 kpl ii 299400 materi potenti produc intern z41 fne herman jan',\n",
       " 'accessori bag mum cpl k800 metal modul product gener accessori bag mum57860 cpl 0867 materi potenti produc intern z41 fne herman jan',\n",
       " 'whisk metal mum adj cpl h733 wire good made stainless steel whisk metal mum5 adj cpl 104800 materi extern procur z41 fne herman jan',\n",
       " 'bottom mum as metal typ r334 unit incl assembl bottom mum5 as metal typ 2 0312 materi potenti produc intern z41 fne herman jan',\n",
       " 'schlagscheib mmr r310 technic part gener schlagscheib mmr0801 0000 materi potenti produc intern z05 fne sotlar saso',\n",
       " 'dough hook mum 01 dummi dough hook mum4 0000 materi extern procur z20 fne kriznik anton',\n",
       " 'outer ring mum 01 dummi outer ring mum4 0000 materi potenti produc intern z20 fne kriznik anton',\n",
       " 'inner ring mum 01 dummi inner ring mum4 0000 materi potenti produc intern z20 fne kriznik anton',\n",
       " 'outer ring mum ral 01 dummi outer ring mum4 ral7021 0000 materi potenti produc intern z20 fne kriznik anton',\n",
       " 'inner ring mum ral 01 dummi inner ring mum4 ral7021 0000 materi potenti produc intern z20 fne kriznik anton',\n",
       " 'meat mincer foot mum ral r31 spare part small technic meat mincer foot mum57 ral7021 19000 materi potenti produc intern z41 fne herman jan',\n",
       " 'rate plate mum 01 dummi rate plate mum57860 0000 materi potenti produc intern z41 fne herman jan',\n",
       " 'ring mum ii t030 rubber part gener ore 23 mum45 ii 2200 materi extern procur z20 fne kriznik anton',\n",
       " 'cituspress mum cpl ral r334 unit incl assembl cituspress mum5 cpl 02 ral7021 0400 materi potenti produc intern z41 fne herman jan',\n",
       " 'bowl mix mum tritan tx r240 transpar part gener bowl mix mum4 tritan tx1001 0220 materi potenti produc intern z20 fne kriznik anton',\n",
       " 'knopf mum vzf lak r33 spare part small design knopf mum46 vzf07020 lak 39171 0000 materi potenti produc intern z20 fne kriznik anton',\n",
       " 'hous muz gm 01 dummi hous muz5gm1 0088 materi potenti produc intern z41 fne herman jan',\n",
       " 'outflow part muz gm 01 dummi outflow part muz5gm1 26300 materi potenti produc intern z41 fne herman jan',\n",
       " 'citruspress cone mum kpl ver ral r24 spare part transpar citruspress cone mum5 kpl ver01 ral7021 0000 materi potenti produc intern z41 fne herman jan',\n",
       " 'basic applianc mum w 01 dummi basic applianc mum48w1 0000 materi potenti produc intern z20 fne kriznik anton',\n",
       " 'packag mmr r 01 dummi packag mmr08r2 0000 materi potenti produc intern z05 fne sotlar saso',\n",
       " 'packag mmr 01 dummi packag mmr08a1 0000 materi potenti produc intern z05 fne sotlar saso',\n",
       " 'gehaeusedeckel mmr bosch vzf kpl r221 complex technic part special surfac requir gehaeusedeckel mmr bosch vzf07020 kpl 0000 materi potenti produc intern z05 fne sotlar saso',\n",
       " 'gehaeusedeckel mmr bosch r221 complex technic part special surfac requir gehaeusedeckel mmr bosch 0000 materi potenti produc intern z05 fne sotlar saso',\n",
       " 'packag mr b 01 dummi packag mr008b1 0000 materi potenti produc intern z05 fne sotlar saso',\n",
       " 'gehaeusedeckel mmr bosch vollst ral r225 xxx use anymor gehaeusedeckel mmr bosch vollstral9005 0000 materi potenti produc intern z05 fne sotlar saso',\n",
       " 'ring mmr panton c r221 complex technic part special surfac requir ring mmr panton 11c 0000 materi potenti produc intern z05 fne sotlar saso',\n",
       " 'gehaeusedeckel mmr ral r221 complex technic part special surfac requir gehaeusedeckel mmr ral9005 0000 materi potenti produc intern z05 fne sotlar saso',\n",
       " 'rubber ring glass mikser mum t03 spare part rubber part rubber ring glass mikser mum4 11610 materi extern procur z20 fne kriznik anton',\n",
       " 'perfor disc fw size alt h712 toolrel inox stamp part high complex aesthet perfor disc fw size745 alt01 0000 materi extern procur z41 fne herman jan',\n",
       " 'perfor disc fw size alt h712 toolrel inox stamp part high complex aesthet perfor disc fw size76 alt01 78000 materi extern procur z41 fne herman jan',\n",
       " 'perfor disc fw size alt h712 toolrel inox stamp part high complex aesthet perfor disc fw size78 alt01 0000 materi extern procur z41 fne herman jan',\n",
       " 'slider mm mum magnet r31 spare part small technic slider mm mum5magnet 10000 materi potenti produc intern z41 fne herman jan',\n",
       " 'button mum vzf print ral r331 push button button mum44 vzf03003 print ral9006 0000 materi potenti produc intern z20 fne kriznik anton',\n",
       " 'button mum vzf ii r222 complex hybrid partsmet overinject button mum4 vzf03003 ii 0000 materi potenti produc intern z20 fne kriznik anton',\n",
       " 'bottom mum ii vzf 01 dummi bottom mum44 ii vzf03003 0231 materi potenti produc intern z20 fne kriznik anton',\n",
       " 'press button mum vzf r331 push button press button mum44 vzf03003 0013 materi potenti produc intern z20 fne kriznik anton',\n",
       " 'kabelhalt mum vzf r310 technic part gener kabelhalt mum44 vzf03003 0000 materi potenti produc intern z20 fne kriznik anton',\n",
       " 'rate plate mum r 01 dummi rate plate mum44r1 0000 materi potenti produc intern z20 fne kriznik anton',\n",
       " 'dough hook cap mum kpl h733 wire good made stainless steel dough hook cap mum5 kpl 61000 materi potenti produc intern z41 fne herman jan',\n",
       " 'beat disc mmr panton c r310 technic part gener beat disc mmr0801 pantone11c 0000 materi potenti produc intern z05 fne sotlar saso',\n",
       " 'beat disc mmr panton c r310 technic part gener beat disc mmr pantone11c 0000 materi potenti produc intern z05 fne sotlar saso',\n",
       " 'ice crusher mmr panton c r314 unit incl assembl ice crusher mmr1500 pantone11c 0000 materi potenti produc intern z05 fne sotlar saso',\n",
       " 'glass bowl mmr l panton c y330 subcontract gener glass bowl mmr 15l pantone11c 0000 materi potenti produc intern z05 fne sotlar saso',\n",
       " 'knife mmr cpl panton c r312 hybrid part metal overinject knife mmr1500 cpl pantone11c 0000 materi potenti produc intern z05 fne sotlar saso',\n",
       " 'basic applianc mmr y33 spare part subcontract basic applianc mmr08a1 0940 materi potenti produc intern z05 fne sotlar saso',\n",
       " 'basic applianc mmr r y33 spare part subcontract basic applianc mmr08r2 0940 materi potenti produc intern z05 fne sotlar saso',\n",
       " 'accessori bag cpl ver ral 01 dummi accessori bag cpl ver01 ral3020 711000 materi potenti produc intern z41 fne herman jan',\n",
       " 'rate plate mum e 01 dummi rate plate mum52e32 0000 materi potenti produc intern z41 fne herman jan',\n",
       " 'accessori bag ral q193 packag materi accessori bag 02 ral3020 0000 materi extern procur z41 fne herman jan',\n",
       " 'grain mill muz gm f y335 subcontract assembl grain mill muz5gm1 f30 0740 materi potenti produc intern z22 fne novak toni',\n",
       " 'hous mum vzf print r210 technic part gener hous mum5 vzf01017 print 580000 materi potenti produc intern z41 fne herman jan',\n",
       " 'hous mum vzf r210 technic part gener hous mum5 vzf01017 580000 materi potenti produc intern z41 fne herman jan',\n",
       " 'blender bayonett cover mum vzf r330 design part gener blender bayonett cover mum5 vzf01017 18000 materi potenti produc intern z41 fne herman jan',\n",
       " 'hous mum vzf r210 technic part gener hous mum5 vzf26044 580000 materi potenti produc intern z41 fne herman jan',\n",
       " 'lower arm mum vzf as r334 unit incl assembl lower arm mum5 vzf26044 as 299400 materi potenti produc intern z41 fne herman jan',\n",
       " 'blender drive mum vzf as r314 unit incl assembl blender drive mum5 vzf26044 as 0000 materi potenti produc intern z41 fne herman jan',\n",
       " 'blender bayonett cover mum vzf r310 technic part gener blender bayonett cover mum5 vzf26044 18000 materi potenti produc intern z41 fne herman jan',\n",
       " 'base applianc mum 01 dummi base applianc mum4407 0000 materi potenti produc intern z20 fne kriznik anton',\n",
       " 'rate plate mum 01 dummi rate plate mum4407 0000 materi potenti produc intern z20 fne kriznik anton',\n",
       " 'rate plate mum 01 dummi rate plate mum4832 0000 materi potenti produc intern z20 fne kriznik anton',\n",
       " 'automat cabl reel mum ral gb m360 control panelsystem compon gener automat cabl reel mum5 ral9005 gb 0000 materi potenti produc intern z41 fne herman jan',\n",
       " 'base applianc mum 01 dummi base applianc mum4409 0000 materi potenti produc intern z20 fne kriznik anton',\n",
       " 'rate plate mum 01 dummi rate plate mum4409 0000 materi potenti produc intern z20 fne kriznik anton',\n",
       " 'stand cpl mum r bottom reed 02 xxx use anymor stand cpl mum44r1bottom reed 0180 materi potenti produc intern z20 fne kriznik anton',\n",
       " 'typenschild mum w 01 dummi typenschild mum54w41 0000 materi potenti produc intern z41 fne herman jan',\n",
       " 'typenschild mum 01 dummi typenschild mum56s40 0000 materi potenti produc intern z41 fne herman jan',\n",
       " 'bear hous mum plastic ii mat r330 design part gener bear hous mum4 plastic ii mat 0030 materi potenti produc intern z20 fne kriznik anton',\n",
       " 'rate plate mum 01 dummi rate plate mum52133 0000 materi potenti produc intern z41 fne herman jan',\n",
       " 'rate plate mum z 01 dummi rate plate mum56z40 0000 materi potenti produc intern z41 fne herman jan',\n",
       " 'rate plate mum q 01 dummi rate plate mum54q40 0000 materi potenti produc intern z41 fne herman jan',\n",
       " 'rate plate mum 01 dummi rate plate mum54720 0000 materi potenti produc intern z41 fne herman jan',\n",
       " 'basic applianc mum 01 dummi basic applianc mum4428 0000 materi potenti produc intern z20 fne kriznik anton',\n",
       " 'rate plate mum 01 dummi rate plate mum54920 0000 materi potenti produc intern z41 fne herman jan',\n",
       " 'rate plate mum 01 dummi rate plate mum54020 0000 materi potenti produc intern z41 fne herman jan',\n",
       " 'rate plate mum 01 dummi rate plate mum4428 0000 materi potenti produc intern z20 fne kriznik anton',\n",
       " 'eject part mum kpl ver r314 unit incl assembl eject part mum5 kpl ver02 48500 materi potenti produc intern z41 fne herman jan',\n",
       " 'stand mum vzf 01 dummi stand mum48 vzf01017 0000 materi potenti produc intern z20 fne kriznik anton',\n",
       " 'boden mum ii vzf 01 dummi boden mum48 ii vzf01017 0000 materi potenti produc intern z20 fne kriznik anton',\n",
       " 'boden mum ii vzf 01 dummi boden mum48 ii vzf26044 0000 materi potenti produc intern z20 fne kriznik anton',\n",
       " 'bottom mum white alu ver r210 technic part gener bottom mum5 white alu ver02 0000 materi potenti produc intern z41 fne herman jan',\n",
       " 'hous mum white alu ver r222 complex hybrid partsmet overinject hous mum5 white alu ver02 620000 materi potenti produc intern z41 fne herman jan',\n",
       " 'lower arm mum as white alu ver r334 unit incl assembl lower arm mum5 as white alu ver02 299400 materi potenti produc intern z41 fne herman jan',\n",
       " 'arm hous mum white alu ver r222 complex hybrid partsmet overinject arm hous mum5 white alu ver02 0000 materi potenti produc intern z41 fne herman jan',\n",
       " 'connect cord uc mum l514 power cord exot connect cord uc mum5 84700 materi extern procur z41 fne herman jan',\n",
       " 'hous mum vzf ii r210 technic part gener hous mum5 vzf26044 ii 580000 materi potenti produc intern z41 fne herman jan',\n",
       " 'hous mum vzf ii r222 complex hybrid partsmet overinject hous mum5 vzf09204 ii 620000 materi potenti produc intern z41 fne herman jan',\n",
       " 'hous mum ral ii r222 complex hybrid partsmet overinject hous mum5 ral9006 ii 620000 materi potenti produc intern z41 fne herman jan',\n",
       " 'rate plate mum 01 dummi rate plate mum52130 0000 materi potenti produc intern z41 fne herman jan',\n",
       " 'hous mum vzf print ii r330 design part gener hous mum5 vzf26044 print ii 580000 materi potenti produc intern z41 fne herman jan',\n",
       " 'hous mum vzf print ii r330 design part gener hous mum5 vzf09204 print ii 620000 materi potenti produc intern z41 fne herman jan',\n",
       " 'hous mum vzf print ii r210 technic part gener hous mum5 vzf03003 print ii 580000 materi potenti produc intern z41 fne herman jan',\n",
       " 'hous mum ral print ii r335 paint partsunit incl assembl hous mum5 ral9006 print ii 620000 materi potenti produc intern z41 fne herman jan',\n",
       " 'protect paper el motor mum uc r780 foilstap gener protect paper elmotor mum5 uc 1000 materi extern procur z41 fne herman jan',\n",
       " 'side cover mum white r330 design part gener side cover mum5 white 111500 materi potenti produc intern z41 fne herman jan',\n",
       " 'bottom mum as white mat r314 unit incl assembl bottom mum5 as white mat 274000 materi potenti produc intern z41 fne herman jan',\n",
       " 'bottom mum white mat r210 technic part gener bottom mum5 white mat 0282 materi potenti produc intern z41 fne herman jan',\n",
       " 'drive cover mum white r310 technic part gener drive cover mum51 white 0032 materi potenti produc intern z41 fne herman jan',\n",
       " 'light ring basic mum ver 01 dummi light ring basic mum5 ver02 0000 materi potenti produc intern z41 fne herman jan',\n",
       " 'arm cover plate mum vzf r330 design part gener arm cover plate mum5 vzf07020 68200 materi potenti produc intern z41 fne herman jan',\n",
       " 'lower arm cpl mum specor ver uc r334 unit incl assembl lower arm cpl mum5 specor ver01 uc 299400 materi potenti produc intern z41 fne herman jan',\n",
       " 'bowl mmr ii r50 thermoplast plate bowl mmr 800 ii 0000 materi potenti produc intern z05 fne sotlar saso',\n",
       " 'knife ii mmr natur r314 unit incl assembl knife 800 ii mmr natur 34600 materi potenti produc intern z05 fne sotlar saso',\n",
       " 'knife mmr kpl panton c r312 hybrid part metal overinject knife mmr 800 kpl pantone11c 34600 materi potenti produc intern z05 fne sotlar saso',\n",
       " 'bowl lid ii mmr r240 transpar part gener bowl lid ii mmr 0000 materi potenti produc intern z05 fne sotlar saso',\n",
       " 'knife ii mmr natur r314 unit incl assembl knife 1500 ii mmr natur 36400 materi potenti produc intern z05 fne sotlar saso',\n",
       " 'knife mmr cpl panton c r31 spare part small technic knife mmr1500 cpl pantone11c 36400 materi potenti produc intern z05 fne sotlar saso',\n",
       " 'hous top mmr ral ii r220 complex technic part gener hous top mmr ral9005 ii 0000 materi potenti produc intern z05 fne sotlar saso',\n",
       " 'hous top mmr vzf ii 01 dummi hous top mmr vzf07020 ii 0000 materi potenti produc intern z05 fne sotlar saso',\n",
       " 'hous top mmr vzf ii r220 complex technic part gener hous top mmr vzf03003 ii 0000 materi potenti produc intern z05 fne sotlar saso',\n",
       " 'bottom mum ii p h vzf pol 01 dummi bottom mum46 ii p3h vzf07020 pol 0200 materi potenti produc intern z20 fne kriznik anton',\n",
       " 'stand mum iii 01 dummi stand mum4 iii 0000 materi potenti produc intern z20 fne kriznik anton',\n",
       " 'bowl mum iv r210 technic part gener bowl mum4 iv 0285 materi potenti produc intern z20 fne kriznik anton',\n",
       " 'set holder mum iv 01 dummi set holder mum4 iv 0000 materi potenti produc intern z20 fne kriznik anton',\n",
       " 'base applianc mum jp 01 dummi base applianc mum4415jp 0000 materi potenti produc intern z20 fne kriznik anton',\n",
       " 'rate plate mum jp 01 dummi rate plate mum4415jp 0000 materi potenti produc intern z20 fne kriznik anton',\n",
       " 'blender bayonett cover w r314 unit incl assembl blender bayonett cover w 18000 materi potenti produc intern z41 fne herman jan',\n",
       " 'lower arm bowl guid assm w r334 unit incl assembl lower arm bowl guid assm w 287600 materi potenti produc intern z41 fne herman jan',\n",
       " 'case mixer mum uc r310 technic part gener case mixer mum5uc 0057 materi potenti produc intern z41 fne herman jan',\n",
       " 'continoun slicer top mum uc r222 complex hybrid partsmet overinject continoun slicer top mum5uc 153000 materi potenti produc intern z41 fne herman jan',\n",
       " 'bond part muz zp vzf ii r221 complex technic part special surfac requir bond part muz4 zp1 vzf07020 ii 0000 materi potenti produc intern z20 fne kriznik anton',\n",
       " 'citru press bowl muz vzf ii r221 complex technic part special surfac requir citru press bowl muz4 vzf07020 ii 0000 materi potenti produc intern z20 fne kriznik anton',\n",
       " 'flang cover mum vzf ii r220 complex technic part gener flang cover mum5 vzf01017 ii 10000 materi potenti produc intern z41 fne herman jan',\n",
       " 'arm cover plate mum vzf ii r330 design part gener arm cover plate mum5 vzf07020 ii 68200 materi potenti produc intern z41 fne herman jan',\n",
       " 'arm cover plate mum ral ii r330 design part gener arm cover plate mum5 ral7021 ii 73000 materi potenti produc intern z41 fne herman jan',\n",
       " 'side cover mum vzf ii r330 design part gener side cover mum5 vzf07020 ii 111500 materi potenti produc intern z41 fne herman jan',\n",
       " 'side cover mum ral ii r330 design part gener side cover mum52 ral7021 ii 109000 materi potenti produc intern z41 fne herman jan',\n",
       " 'lifitng mechan mum uc cpl r314 unit incl assembl lifitng mechan mum5uc cpl 0000 materi potenti produc intern z41 fne herman jan',\n",
       " 'lower arm mum ii vzf assm r334 unit incl assembl lower arm mum5 ii vzf07020 assm 299400 materi potenti produc intern z41 fne herman jan',\n",
       " 'rate plate mum u uc 01 dummi rate plate mum51u10uc 0000 materi potenti produc intern z41 fne herman jan',\n",
       " 'attach part mum iv ver r310 technic part gener attach part mum4 iv ver01 0000 materi potenti produc intern z20 fne kriznik anton',\n",
       " 'attach part mum iv ver assm 01 dummi attach part mum4 iv ver01 assm 42000 materi potenti produc intern z20 fne kriznik anton',\n",
       " 'cover slider mum ver r310 technic part gener cover slider mum4 ver01 0000 materi potenti produc intern z20 fne kriznik anton',\n",
       " 'stand mum p h vzf kpl ii 01 dummi stand mum4647 p3h vzf07020 kpl ii 0668 materi potenti produc intern z20 fne kriznik anton',\n",
       " 'skin condens short left k822 skin condens skin condens short left 0590 materi potenti produc intern kj3 dnak li jing',\n",
       " 'door sheet flat white g273 foil coat steel pvc door sheet flatwhit 07070 5613 materi potenti produc intern ki7 dnak liu xinchong',\n",
       " 'front sheet vertic unpowd h330 stamp drawn bent part gener front sheet vertic unpowd 1030000 materi potenti produc intern kj8 dnak zhou nan',\n",
       " 'adhes leg f v sel k en ba h603 adhes legend adhes leg f12v0selkenme401ba 0008 materi potenti produc intern wl0 flcl default flw',\n",
       " 'adhes leg f v sel k fi ba h603 adhes legend adhes leg f12v0selkfime401ba 0008 materi potenti produc intern wl0 flcl default flw',\n",
       " 'adhes leg f v sel k ba h603 adhes legend adhes leg f12v0selknome401ba 0008 materi potenti produc intern wl0 flcl default flw',\n",
       " 'adhes leg f v sel k sv ba h603 adhes legend adhes leg f12v0selksvme401ba 0008 materi potenti produc intern wl0 flcl default flw',\n",
       " 'wire har heat element cm halb l593 idcidc idccrimp crimpcrimp assembl wire har heat element 60cm halb 0000 materi extern procur hw4 fcgl antoncci luca',\n",
       " 'earth bracket 01 dummi earth bracket 28000 materi potenti produc intern vaj fcgb neumann ulmar',\n",
       " 'hip coil sb mm r931 extrud plastic plate hip coil sb 51018mm 0700 materi potenti produc intern k6p fck du zhihua',\n",
       " 'protect hous minifit receptacl pa r310 technic part gener protect hous minifit receptacl pa 0003 materi potenti produc intern k16 frfg bihr daniel',\n",
       " 'protect hous minifit pin housingpa r310 technic part gener protect hous minifit pin housingpa 0004 materi potenti produc intern k3k fgk schmidt gerald',\n",
       " 'top hing cover left st pu rna r330 design part gener top hing cover left st pu rna 0059 materi potenti produc intern kj2 dnak liu qinchao',\n",
       " 'top hing cover left ral r330 design part gener top hing cover left ral7021 0056 materi potenti produc intern kj2 dnak liu qinchao',\n",
       " 'top hing cover left ral pu r330 design part gener top hing cover left ral7021 pu 0060 materi potenti produc intern kj2 dnak liu qinchao',\n",
       " 'hip sheet mm r931 extrud plastic plate hip sheet 198077040mm 6480 materi potenti produc intern ko6 dnak zhang hao',\n",
       " 'door profil left freezer se h335 toolrel stamp part high complex door profil left freezer se 0849 materi potenti produc intern kqw frfc li qiang',\n",
       " 'door profil right cooler se h335 toolrel stamp part high complex door profil right cooler se 0849 materi potenti produc intern kqw frfc li qiang',\n",
       " 'door profil right freezer se h335 toolrel stamp part high complex door profil right freezer se 0706 materi potenti produc intern kqw frfc li qiang',\n",
       " 'door profil lef cooler se h335 toolrel stamp part high complex door profil lef cooler se 0706 materi potenti produc intern kqw frfc li qiang',\n",
       " 'hip sheet r931 extrud plastic plate hip sheet 196060043 5930 materi potenti produc intern k8n fck yangzhenyu',\n",
       " 'asm cpm bev l basic m201 electron em cpm basic asmcpmbevlbas 370000 materi potenti produc intern ed0 ed default',\n",
       " 'top hing cover l vzf r330 design part gener top hing cover l vzf07305 0095 materi potenti produc intern kod dnak li qidong',\n",
       " 'top hing cover r vzf r330 design part gener top hing cover r vzf07305 0119 materi potenti produc intern kod dnak li qidong',\n",
       " 'sh vzf pcm g271 coil coat paint sh 05×724×19143 vzf29066 pcm 4860 materi potenti produc intern ks9 frfc hu wanfa',\n",
       " 'sh x x vzf st g271 coil coat paint sh 050x19190x06540 vzf29066 st 4900 materi potenti produc intern ks6 frfc wang chuanyang',\n",
       " 'hip sheet r931 extrud plastic plate hip sheet198070047 6700 materi potenti produc intern k67 fck zhang min',\n",
       " 'com without b b m551 platform electron em eg smm cm mmb com2withoutb2b 0000 materi potenti produc intern ed0 ed default',\n",
       " 'cmv bo xx et l de 01 dummi cmvbo80xxetld 0001 materi potenti produc intern undefin',\n",
       " 'user manual mmb chopper st x810 print materi gener user manual mmb614chopper st4 185000 materi extern procur z10 fne gosar dejan',\n",
       " 'code label mcc swc print appli 01 dummi code label mcc9555swc print appli 1000 materi potenti produc intern czd fne lenart ziga',\n",
       " 'sh x x vzf blue l g270 coil coat other sh 038x6213x296305 vzf09321blue215l 6070 materi potenti produc intern l0n dci padavala veerendranath',\n",
       " 'sh x x vzf blue l g270 coil coat other sh 038x6213x278105 vzf09321blue195l 6070 materi potenti produc intern l0n dci padavala veerendranath',\n",
       " 'sh x x vzf burg l g270 coil coat other sh 038x6213x296305 vzf04052burg215l 6070 materi potenti produc intern l0n dci padavala veerendranath',\n",
       " 'sh x x vzf burg l g270 coil coat other sh 038x6213x278105 vzf04052burg195l 6070 materi potenti produc intern l0n dci padavala veerendranath',\n",
       " 'user manual mmb st ver x810 print materi gener user manual mmb614st4 ver03 163000 materi extern procur czi fne molicnik helena anemari',\n",
       " 'user manual mmb sekljalnik st v x810 print materi gener user manual mmb617sekljalnik st4 v01 219300 materi extern procur czi fne molicnik helena anemari',\n",
       " 'user manual mmb st ver x810 print materi gener user manual mmb617st4 ver04 203000 materi extern procur czi fne molicnik helena anemari',\n",
       " 'user manual mmb st ver x810 print materi gener user manual mmb63st4 ver04 219300 materi extern procur czi fne molicnik helena anemari',\n",
       " 'user manual muz mx st v x810 print materi gener user manual muz45mx1 st4 v02 56000 materi extern procur czi fne molicnik helena anemari',\n",
       " 'user manual muz xcg st v x811 print materi offset print user manual muz45xcg1 st4 v08 51400 materi extern procur czi fne molicnik helena anemari',\n",
       " 'user manual muz xcg de st v x811 print materi offset print user manual muz45xcg1 de st4 v04 22600 materi extern procur z10 fne gosar dejan',\n",
       " 'user manual mmb sekljalnik st v x810 print materi gener user manual mmb63sekljalnik st4 v01 248000 materi extern procur z10 fne gosar dejan',\n",
       " 'code label mum vm g print appli x q193 packag materi code label mums2vm40gprint apply145x90 1000 materi potenti produc intern czg fne knez mojca',\n",
       " 'dc iabo e bo fi xx uc touch integra m204 electron em uim middl complex dciaboe5bofi6xxuctouchintegra 34160 materi potenti produc intern g8n fdg spaethtobia',\n",
       " 'dc iabo e bo fi xx uc touch evolut m204 electron em uim middl complex dciaboe5bofi6xxuctouchevolut 32720 materi potenti produc intern g8n fdg spaethtobia',\n",
       " 'dc uim e bo fi xx touch m204 electron em uim middl complex dcuime5bofi6xxtouch 34620 materi potenti produc intern g8n fdg spaethtobia',\n",
       " 'dc uim e se fi xx touch m204 electron em uim middl complex dcuime5sefi6xxtouch 34440 materi potenti produc intern g8n fdg spaethtobia',\n",
       " 'exchang leg assi waxh klosn h603 adhes legend exchang leg assi waxh2klosn 100000 materi potenti produc intern wm6 flcn avsar belki',\n",
       " 'print glass sti l n703 black ceram glass special featur print glass t68sty4l0 0001 materi extern procur smf fcgm perez gonzalo',\n",
       " 'wire black 01 dummi nan 0000 materi potenti produc intern h4w fcgl schmitt benoit',\n",
       " 'control panel entir progr wax klosn m533 electron system control panel system emsodm control panel entir progr wax02klosn 0834 materi potenti produc intern wm6 flcn avsar belki',\n",
       " 'control panel entir print wax klosn r251 inject part decor control panel entir print wax02klosn 0000 materi potenti produc intern wm6 flcn avsar belki',\n",
       " 'iu ii bo hbj sg r en evo 01 dummi iuii bo hbj517sg0r en evo 0000 materi extern procur hod fcgi sir cagatay',\n",
       " 'iu ii ne c m en ic x810 print materi gener iuii ne c17ms220 en ic6 0000 materi extern procur hcj fcgt simon annamaria',\n",
       " 'iu ii ne c m hr ic x810 print materi gener iuii ne c17ms220 hr ic6 0000 materi extern procur hcj fcgt simon annamaria',\n",
       " 'iu ii ne c m hu ic x810 print materi gener iuii ne c17ms220 hu ic6 0000 materi extern procur hcj fcgt simon annamaria',\n",
       " 'iu ii ne c m sr ic x810 print materi gener iuii ne c17ms220 sr ic6 0000 materi extern procur hcj fcgt simon annamaria',\n",
       " 'iu ii ne c m sl ic x810 print materi gener iuii ne c17ms220 sl ic6 0000 materi extern procur hcj fcgt simon annamaria',\n",
       " 'iu ii bo hbj sg r kk evo 01 dummi iuii bo hbj517sg0r kk evo 0000 materi extern procur hod fcgi sir cagatay',\n",
       " 'iu ii bo hbj sg r ar evo 01 dummi iuii bo hbj517sg0r ar evo 0000 materi extern procur h35 fcgi donmez yusuf talha',\n",
       " 'iu ii bo hbj sg r az evo 01 dummi iuii bo hbj517sg0r az evo 0000 materi extern procur hod fcgi sir cagatay',\n",
       " 'iu ii bo hbj sg r ka evo 01 dummi iuii bo hbj517sg0r ka evo 0000 materi extern procur hod fcgi sir cagatay',\n",
       " 'iu ii bo hbj sg r tr evo 01 dummi iuii bo hbj517sg0r tr evo 0000 materi extern procur hod fcgi sir cagatay',\n",
       " 'pumu progr wax klosn ipm 01 dummi pumu progr wax02klosnipm 0000 materi potenti produc intern wm6 flcn avsar belki',\n",
       " 'pamphlet wax klosn f c pi x810 print materi gener pamphlet wax02klosn f55cpi 150000 materi potenti produc intern wm6 flcn avsar belki',\n",
       " 'oper instruct da wax klosn x810 print materi gener oper instruct da wax02klosn 100000 materi potenti produc intern wm6 flcn avsar belki',\n",
       " 'oper instruct fi wax klosn x810 print materi gener oper instruct fi wax02klosn 100000 materi potenti produc intern wm6 flcn avsar belki',\n",
       " 'oper instruct wax klosn x810 print materi gener oper instruct wax02klosn 100000 materi potenti produc intern wm6 flcn avsar belki',\n",
       " 'oper instruct sv wax klosn x810 print materi gener oper instruct sv wax02klosn 100000 materi potenti produc intern wm6 flcn avsar belki',\n",
       " 'oper instruct en wax klosn x810 print materi gener oper instruct en wax02klosn 100000 materi potenti produc intern wm6 flcn avsar belki',\n",
       " 'steam inlet ic disc x904 part mad steel nondefin surfac steaminlet ic6 disc 18000 materi potenti produc intern h1n fcgb diener jochen',\n",
       " 'log label mum mp p 01 dummi log label mum5mp7p 0000 materi potenti produc intern z41 fne herman jan',\n",
       " 'log label mum p 01 dummi log label mum5my7p 0000 materi potenti produc intern z41 fne herman jan',\n",
       " 'lower arm cpl mum vzf ver 02 xxx use anymor lower arm cpl mum5 vzf05054 ver01 0000 materi potenti produc intern z41 fne herman jan',\n",
       " 'drive cover mum vzf cpl ver 02 xxx use anymor drive cover mum5 vzf05054 cpl ver 01 0000 materi potenti produc intern z41 fne herman jan',\n",
       " 'drive cover mum vzf cpl ver 02 xxx use anymor drive cover mum5 vzf05054 cpl ver01 0000 materi potenti produc intern z41 fne herman jan',\n",
       " 'liporello mum ver x810 print materi gener liporello mum57 ver01 110000 materi extern procur z41 fne herman jan',\n",
       " 'blender cover mix mum vzf ii r310 technic part gener blender cover mix mum5 vzf07147 ii 18000 materi potenti produc intern z41 fne herman jan',\n",
       " 'blender cover mix mum vzf ver ii r310 technic part gener blender cover mix mum5 vzf04043 verii 18000 materi potenti produc intern z41 fne herman jan',\n",
       " 'blender bayonett cover mum vzf ii r310 technic part gener blender bayonett cover mum5 vzf01017 ii 18000 materi potenti produc intern z41 fne herman jan',\n",
       " 'blender bayonett cover mum vzf ii r310 technic part gener blender bayonett cover mum5 vzf26044 ii 18000 materi potenti produc intern z41 fne herman jan',\n",
       " 'gear button holder k 02 xxx use anymor gear button holder k16 6600 materi potenti produc intern z20 fne kriznik anton',\n",
       " 'bowl bayonet mum ii vzf mat r310 technic part gener bowl bayonet mum5 ii vzf07020 mat 0053 materi potenti produc intern z41 fne herman jan',\n",
       " 'bowl bayonet mum ii ral mat r310 technic part gener bowl bayonet mum5 ii ral7021 mat 78000 materi potenti produc intern z41 fne herman jan',\n",
       " 'press button holder mum ii mat r310 technic part gener press button holder mum5 ii mat 0090 materi potenti produc intern z41 fne herman jan',\n",
       " 'wire k pcb suppli p 02 xxx use anymor wire k16pcb supply1p 0000 materi potenti produc intern z20 fne kriznik anton',\n",
       " 'drive cover k chrome 02 xxx use anymor drive cover k16 chrome 0031 materi potenti produc intern z20 fne kriznik anton',\n",
       " 'cover case k ral 02 xxx use anymor cover case k16 ral9005 0026 materi potenti produc intern z20 fne kriznik anton',\n",
       " 'button hous k 02 xxx use anymor button hous k16 17800 materi potenti produc intern z20 fne kriznik anton',\n",
       " 'raster button premium k 02 xxx use anymor raster button premium k16 3400 materi potenti produc intern z20 fne kriznik anton',\n",
       " 'leg spring button b k h171 wire spring leg spring button b10k16 0000 materi extern procur z20 fne kriznik anton',\n",
       " 'raster button basic k 02 xxx use anymor raster button basic k16 3200 materi potenti produc intern z20 fne kriznik anton',\n",
       " 'knob ring k basi ral 02 xxx use anymor knob ring k16 basi ral9005 2600 materi potenti produc intern z20 fne kriznik anton',\n",
       " 'knob k 02 xxx use anymor knob k16 0000 materi potenti produc intern z20 fne kriznik anton',\n",
       " 'knob basi k 02 xxx use anymor knob basi k16 0000 materi potenti produc intern z20 fne kriznik anton',\n",
       " 'hous mmr vzf ii ral cpl v 02 xxx use anymor hous mmr vzf03003 ii ral9006 cpl v01 0000 materi potenti produc intern z05 fne sotlar saso',\n",
       " 'hous mmr vzf ii sig ral v 02 xxx use anymor hous mmr vzf03003 ii sigral9006 v01 0000 materi potenti produc intern z05 fne sotlar saso',\n",
       " 'bottom k vzf 02 xxx use anymor bottom k16 vzf07020 0000 materi potenti produc intern z20 fne kriznik anton',\n",
       " 'insert plate mump vzf sig iii r214 unit incl assembl insert plate mump1000 vzf07020 sig iii 0029 materi potenti produc intern z20 fne kriznik anton',\n",
       " 'switch lewer k 02 xxx use anymor switch lewer k16 0000 materi potenti produc intern z20 fne kriznik anton',\n",
       " 'switch cover k premium r310 technic part gener switch cover k16 premium 0000 materi potenti produc intern z20 fne kriznik anton',\n",
       " 'steel bowl w plastic lug k vzf h712 toolrel inox stamp part high complex aesthet steel bowl w plastic lug k16 vzf07020 0653 materi extern procur z20 fne kriznik anton',\n",
       " 'plastic bowl lug k r210 technic part gener plastic bowl lug k16 0000 materi potenti produc intern z20 fne kriznik anton',\n",
       " 'bowl tritan k r334 unit incl assembl bowl tritan k16 0000 materi potenti produc intern z20 fne kriznik anton',\n",
       " 'stirrer mum ii cpl ver h733 wire good made stainless steel stirrer mum4 ii cpl ver 01 0060 materi potenti produc intern z20 fne kriznik anton',\n",
       " 'beat whisk mum ii cpl ver h733 wire good made stainless steel beat whisk mum4 ii cpl ver 01 0076 materi potenti produc intern z20 fne kriznik anton',\n",
       " 'rondel whisk mum ii ver 02 xxx use anymor rondel whisk mum4 ii ver 01 0000 materi potenti produc intern z20 fne kriznik anton',\n",
       " 'hous top mmr vzf ii v r220 complex technic part gener hous top mmr vzf03003 ii v01 0000 materi potenti produc intern z05 fne sotlar saso',\n",
       " 'hous cover mmr vzf cpl v r310 technic part gener hous cover mmr vzf03003 cpl v01 0000 materi potenti produc intern z05 fne sotlar saso',\n",
       " 'hous cover mmr vzf ver r221 complex technic part special surfac requir hous cover mmr vzf03003 ver01 0038 materi potenti produc intern z05 fne sotlar saso',\n",
       " 'side cover mum ral ver r335 paint partsunit incl assembl side cover mum5 ral9006 ver01 111500 materi potenti produc intern z41 fne herman jan',\n",
       " 'hous as upper mum vzf ozb v r334 unit incl assembl hous as upper mum4 vzf03003 ozb3 v1 0180 materi potenti produc intern z20 fne kriznik anton',\n",
       " 'hous top mum vzf ozb v r222 complex hybrid partsmet overinject hous top mum4 vzf03003 ozb3 v01 0000 materi potenti produc intern z20 fne kriznik anton',\n",
       " 'stand cpl mum vzf tampo iii v r310 technic part gener stand cpl mum44 vzf03003 tampo iii v01 0000 materi extern procur z20 fne kriznik anton',\n",
       " 'hous bottom mum vzf ozb v r334 unit incl assembl hous bottom mum4 vzf03003 ozb3 v01 0170 materi potenti produc intern z20 fne kriznik anton',\n",
       " 'hous bottom mum vzf ozb v r221 complex technic part special surfac requir hous bottom mum4 vzf03003 ozb3 v1 0000 materi potenti produc intern z20 fne kriznik anton',\n",
       " 'cover protect mum r v r310 technic part gener cover protect mum46r1 v1 0025 materi potenti produc intern z20 fne kriznik anton',\n",
       " 'clouch protect mum vzf ii v r310 technic part gener clouch protect mum4 vzf03003 ii v01 0000 materi potenti produc intern z20 fne kriznik anton',\n",
       " 'cabl reel mum vzf ii v r310 technic part gener cabl reel mum44 vzf03003 ii v1 18000 materi potenti produc intern z20 fne kriznik anton',\n",
       " 'connect slider mum iii vzf v r310 technic part gener connect slider mum4 iii vzf03003 v01 26000 materi potenti produc intern z20 fne kriznik anton',\n",
       " 'button mum vzf print ral v r331 push button button mum44 vzf03003 print ral9006 v01 0000 materi potenti produc intern z20 fne kriznik anton',\n",
       " 'button mum vzf ii v r222 complex hybrid partsmet overinject button mum4 vzf03003 ii v01 0000 materi potenti produc intern z20 fne kriznik anton',\n",
       " 'bosch logo brand bar basi k r336 metal part unit incl assembl bosch logo brand bar basi k16 0000 materi potenti produc intern z20 fne kriznik anton',\n",
       " 'bosch logo brand bar premium k r336 metal part unit incl assembl bosch logo brand bar premium k16 0000 materi potenti produc intern z20 fne kriznik anton',\n",
       " 'stand mum iii vzf v 02 xxx use anymor stand mum4 iii vzf03003 v01 0000 materi potenti produc intern z20 fne kriznik anton',\n",
       " 'flat unpowd g232 cold roll steel flat unpowd 18566515045 4630 materi potenti produc intern k8n fck yangzhenyu',\n",
       " 'arm hous mum vzf iii 02 xxx use anymor arm hous mum5 vzf03029 iii 0000 materi potenti produc intern z41 fne herman jan',\n",
       " 'arm hous mum vzf iii 02 xxx use anymor arm hous mum5 vzf08023 iii 0000 materi potenti produc intern z41 fne herman jan',\n",
       " 'arm hous mum iii vzf 02 xxx use anymor arm hous mum5 iii vzf01029 0000 materi potenti produc intern z41 fne herman jan',\n",
       " 'press button upper chrome k 02 xxx use anymor press button upper chrome k16 0000 materi potenti produc intern z20 fne kriznik anton',\n",
       " 'press button lower k 02 xxx use anymor press button lower k16 0000 materi potenti produc intern z20 fne kriznik anton',\n",
       " 'bowl mum iv cpl 01 dummi bowl mum4 iv cpl 0000 materi potenti produc intern z20 fne kriznik anton',\n",
       " 'hous mum p h sticker 01 dummi hous upmum4 p3h sticker 0000 materi potenti produc intern z20 fne kriznik anton',\n",
       " 'stand kpl mum uc sticker 01 dummi stand kpl mum44 uc sticker 0000 materi potenti produc intern z20 fne kriznik anton',\n",
       " 'press button asm k r331 push button press button asm k16 0000 materi potenti produc intern z20 fne kriznik anton',\n",
       " 'blender bayonet ral mum ii ver r220 complex technic part gener blender bayonet ral7021 mum5 ii ver01 27000 materi potenti produc intern z41 fne herman jan',\n",
       " 'blender bayonet vzf mum ii ver r220 complex technic part gener blender bayonet vzf07020 mum5 ii ver01 27000 materi potenti produc intern z41 fne herman jan',\n",
       " 'muz mx glass mixer assm ii n767 glass jar bowl jug muz45mx1 glass mixer assm ii 1300 materi potenti produc intern z41 fne herman jan',\n",
       " 'bowl plastic mixer tritan ver 01 dummi bowl plastic mixer tritan ver01 0000 materi potenti produc intern z41 fne herman jan',\n",
       " 'rod mixer ver 01 dummi rod mixer ver01 0000 materi potenti produc intern z41 fne herman jan',\n",
       " 'lower arm mum ii vzf g asm r334 unit incl assembl lower arm mum5 ii vzf04053 gm asm 0268 materi potenti produc intern z41 fne herman jan',\n",
       " 'gift box mump gb as 01 dummi gift box mump1000gb as 0683 materi potenti produc intern z20 fne kriznik anton',\n",
       " 'holder ice cream maker k r310 technic part gener holder ice cream maker k16 123000 materi potenti produc intern z20 fne kriznik anton',\n",
       " 'dough hook mum compl iii h733 wire good made stainless steel dough hook mum4 compl iii 0000 materi potenti produc intern z20 fne kriznik anton',\n",
       " 'outer ring mum iii 01 dummi outer ring mum4 iii 0000 materi potenti produc intern z20 fne kriznik anton',\n",
       " 'inner ring mum iii 01 dummi inner ring mum4 iii 0000 materi potenti produc intern z20 fne kriznik anton',\n",
       " 'dough hook mum compl ral iii h733 wire good made stainless steel dough hook mum4 complral7021 iii 0000 materi potenti produc intern z20 fne kriznik anton',\n",
       " 'outer ring mum ral iii 01 dummi outer ring mum4 ral7021 iii 0000 materi potenti produc intern z20 fne kriznik anton',\n",
       " 'inner ring mum ral iii 01 dummi inner ring mum4 ral7021 iii 0000 materi potenti produc intern z20 fne kriznik anton',\n",
       " 'basic applianc mum r 01 dummi basic applianc mum44r2a 0000 materi potenti produc intern z20 fne kriznik anton',\n",
       " 'knob ring k basi vzf 01 dummi knob ring k16 basi vzf07020 2600 materi potenti produc intern z20 fne kriznik anton',\n",
       " 'knob ring k basi vzf 01 dummi knob ring k16 basi vzf03003 2600 materi potenti produc intern z20 fne kriznik anton',\n",
       " 'arm hous upper k ral r310 technic part gener arm hous upper k16 ral9005 0250 materi potenti produc intern z20 fne kriznik anton',\n",
       " 'arm hous upper k vzf r310 technic part gener arm hous upper k16 vzf03003 0250 materi potenti produc intern z20 fne kriznik anton',\n",
       " 'arm hous lower k ral r310 technic part gener arm hous lower k16 ral9005 0000 materi potenti produc intern z20 fne kriznik anton',\n",
       " 'arm hous lower k vzf r310 technic part gener arm hous lower k16 vzf03003 0000 materi potenti produc intern z20 fne kriznik anton',\n",
       " 'packag mum r 01 dummi packag mum44r2a 0000 materi potenti produc intern z20 fne kriznik anton',\n",
       " 'rate plate mum r 01 dummi rate plate mum44r2a 0000 materi potenti produc intern z20 fne kriznik anton',\n",
       " 'hous bottom mmrp vzf v 01 dummi hous bottom mmrp1000 vzf07020 v04 0000 materi potenti produc intern z05 fne sotlar saso',\n",
       " 'hous bottom mmr r gb vzf v 01 dummi hous bottom mmr08r1gb vzf07020 v02 84000 materi potenti produc intern z05 fne sotlar saso',\n",
       " 'hous bottom mmr gb vzf v 01 dummi hous bottom mmr0801gb vzf07020 v03 0000 materi potenti produc intern z05 fne sotlar saso',\n",
       " 'hous bottom mmr r vzf v 01 dummi hous bottom mmr08r2 vzf07020 v04 0090 materi potenti produc intern z05 fne sotlar saso',\n",
       " 'hous bottom mmr vzf v 01 dummi hous bottom mmr08a1 vzf07020 v04 0000 materi potenti produc intern z05 fne sotlar saso',\n",
       " 'hous bottom mmr vzf v 01 dummi hous bottom mmr15a1 vzf07020 v04 0000 materi potenti produc intern z05 fne sotlar saso',\n",
       " 'hous bottom mr b ral v 01 dummi hous bottom mr008b1 ral9005 v04 0000 materi potenti produc intern z05 fne sotlar saso',\n",
       " 'hous bottom mr fq ral v 01 dummi hous bottom mr015fq1 ral9005 v04 0000 materi potenti produc intern z05 fne sotlar saso',\n",
       " 'hous cover k vzf r330 design part gener hous cover k16 vzf03003 0000 materi potenti produc intern z20 fne kriznik anton',\n",
       " 'button k basic asm vzf r334 unit incl assembl button k16 basic asm vzf07020 0060 materi potenti produc intern z20 fne kriznik anton',\n",
       " 'button k basic asm vzf r334 unit incl assembl button k16 basic asm vzf03003 0060 materi potenti produc intern z20 fne kriznik anton',\n",
       " 'hous k ral 01 dummi hous k16 ral9005 0000 materi potenti produc intern z20 fne kriznik anton',\n",
       " 'hous k vzf 01 dummi hous k16 vzf03003 0000 materi potenti produc intern z20 fne kriznik anton',\n",
       " 'bottom k ral 01 dummi bottom k16 ral9005 0000 materi potenti produc intern z20 fne kriznik anton',\n",
       " 'bottom k vzf 01 dummi bottom k16 vzf03003 0000 materi potenti produc intern z20 fne kriznik anton',\n",
       " 'bottom k assm ral r214 unit incl assembl bottom k16 assm ral9005 0315 materi potenti produc intern z20 fne kriznik anton',\n",
       " 'bottom k assm vzf r214 unit incl assembl bottom k16 assm vzf03003 0315 materi potenti produc intern z20 fne kriznik anton',\n",
       " 'hous cover k ral r330 design part gener hous cover k16 ral9005 0000 materi potenti produc intern z20 fne kriznik anton',\n",
       " 'base applianc mum ew 01 dummi base applianc mums2ew00 0000 materi potenti produc intern z20 fne kriznik anton',\n",
       " 'base applianc mum eb 01 dummi base applianc mums2eb01 0000 materi potenti produc intern z20 fne kriznik anton',\n",
       " 'base applianc mum er 01 dummi base applianc mums2er01 0000 materi potenti produc intern z20 fne kriznik anton',\n",
       " 'base applianc mum ew 01 dummi base applianc mums2ew30 0000 materi potenti produc intern z20 fne kriznik anton',\n",
       " 'base applianc mum ew 01 dummi base applianc mums2ew40 0000 materi potenti produc intern z20 fne kriznik anton',\n",
       " 'steel bowl w plastic lug k ral h712 toolrel inox stamp part high complex aesthet steel bowl w plastic lug k16 ral7021 0653 materi extern procur z20 fne kriznik anton',\n",
       " 'steel bowl w plastic lug k vzf h714 xxx use anymor steel bowl w plastic lug k16 vzf03003 0000 materi extern procur z20 fne kriznik anton',\n",
       " 'protect paper k 01 dummi protect paper k16 2000 materi extern procur z20 fne kriznik anton',\n",
       " 'blender cover mum vzf ii cpl r314 unit incl assembl blender cover mum5 vzf07020 ii cpl 16000 materi potenti produc intern z41 fne herman jan',\n",
       " 'blender cover mum vzf ii cpl r314 unit incl assembl blender cover mum5 vzf03003 ii cpl 16000 materi potenti produc intern z41 fne herman jan',\n",
       " 'blender cover mum vzf ii cpl r314 unit incl assembl blender cover mum5 vzf04007 ii cpl 16000 materi potenti produc intern z41 fne herman jan',\n",
       " 'blender cover mum vzf ii cpl r314 unit incl assembl blender cover mum5 vzf04043 ii cpl 16000 materi potenti produc intern z41 fne herman jan',\n",
       " 'blender cover mum vzf ii cpl r314 unit incl assembl blender cover mum5 vzf01017 ii cpl 16000 materi potenti produc intern z41 fne herman jan',\n",
       " 'blender cover mum vzf ii cpl r314 unit incl assembl blender cover mum5 vzf07147 ii cpl 0020 materi potenti produc intern z41 fne herman jan',\n",
       " 'blender cover mum vzf ii cpl r314 unit incl assembl blender cover mum5 vzf05054 ii cpl 16000 materi potenti produc intern z41 fne herman jan',\n",
       " 'blender cover mum vzf ii cpl r314 unit incl assembl blender cover mum5 vzf26044 ii cpl 16000 materi potenti produc intern z41 fne herman jan',\n",
       " 'blender cover mum vzf ii cpl r314 unit incl assembl blender cover mum5 vzf08023 ii cpl 16000 materi potenti produc intern z41 fne herman jan',\n",
       " 'blender cover mum vzf ii cpl r314 unit incl assembl blender cover mum5 vzf01029 ii cpl 16000 materi potenti produc intern z41 fne herman jan',\n",
       " 'blender cover mum vzf ii cpl r314 unit incl assembl blender cover mum5 vzf03029 ii cpl 16000 materi potenti produc intern z41 fne herman jan',\n",
       " 'blender cover mum ral ii cpl r314 unit incl assembl blender cover mum5 ral7021 ii cpl 16000 materi potenti produc intern z41 fne herman jan',\n",
       " 'blender cover mum vzf ii r330 design part gener blender cover mum5 vzf04053 ii 0020 materi potenti produc intern z41 fne herman jan',\n",
       " 'blender cover mum vzf ii r330 design part gener blender cover mum5 vzf06042 ii 0020 materi potenti produc intern z41 fne herman jan',\n",
       " 'blender cover mum vzf ii cpl r314 unit incl assembl blender cover mum5 vzf04053 ii cpl 16000 materi potenti produc intern z41 fne herman jan',\n",
       " 'blender cover mum vzf ii cpl r314 unit incl assembl blender cover mum5 vzf06042 ii cpl 16000 materi potenti produc intern z41 fne herman jan',\n",
       " 'blender cover mum ral ii cpl r314 unit incl assembl blender cover mum5 ral9005 ii cpl 16000 materi potenti produc intern z41 fne herman jan',\n",
       " 'blender cover mum vzf ii r330 design part gener blender cover mum5 vzf08023 ii 18000 materi potenti produc intern z41 fne herman jan',\n",
       " 'blender cover mum vzf ii r330 design part gener blender cover mum5 vzf01029 ii 18000 materi potenti produc intern z41 fne herman jan',\n",
       " 'blender cover mum vzf ii r330 design part gener blender cover mum5 vzf03029 ii 18000 materi potenti produc intern z41 fne herman jan',\n",
       " 'blender cover mum ral ii r330 design part gener blender cover mum5 ral9005 ii 18000 materi potenti produc intern z41 fne herman jan',\n",
       " 'basic applianc mum 01 dummi basic applianc mum58m64 0000 materi potenti produc intern z41 fne herman jan',\n",
       " 'basic applianc mum 01 dummi basic applianc mum58365 0000 materi potenti produc intern z41 fne herman jan',\n",
       " 'rate plate mum 01 dummi rate plate mum58365 0000 materi potenti produc intern z41 fne herman jan',\n",
       " 'rate plate mum 01 dummi rate plate mum58m64 0000 materi potenti produc intern z41 fne herman jan',\n",
       " 'rate plate mump 01 dummi rate plate mump5000 0000 materi potenti produc intern z41 fne herman jan',\n",
       " 'rate plate mum cr 01 dummi rate plate mum58cr60 0000 materi potenti produc intern z41 fne herman jan',\n",
       " 'base applianc mump 01 dummi base applianc mump5000 0000 materi potenti produc intern z41 fne herman jan',\n",
       " 'base applianc mum cr 01 dummi base applianc mum58cr60 0000 materi potenti produc intern z41 fne herman jan',\n",
       " 'knob cpl mum red cr st prem ver r332 knob turn knob cpl mum5 redcr 7st prem ver06 40000 materi potenti produc intern z41 fne herman jan',\n",
       " 'dough hook mum compl ral h733 wire good made stainless steel dough hook mum4 compl ral 7021 0049 materi potenti produc intern z20 fne kriznik anton',\n",
       " 'outer ring mum ral 01 dummi outer ring mum4 ral 7021 0000 materi potenti produc intern z20 fne kriznik anton',\n",
       " 'inner ring mum ral 01 dummi inner ring mum4 ral 7021 0000 materi potenti produc intern z20 fne kriznik anton',\n",
       " 'dough hook mum compl ral h733 wire good made stainless steel dough hook mum4 compl ral9005 0049 materi potenti produc intern z20 fne kriznik anton',\n",
       " 'outer ring mum ral 01 dummi outer ring mum4 ral 9005 0000 materi potenti produc intern z20 fne kriznik anton',\n",
       " 'inner ring mum ral 01 dummi inner ring mum4 ral 9005 0000 materi potenti produc intern z20 fne kriznik anton',\n",
       " 'perfor disc fw vel ver h712 toolrel inox stamp part high complex aesthet perfor disc fw 53 vel5 ver04 0065 materi extern procur z20 fne kriznik anton',\n",
       " 'button mum vzf 01 dummi button mum5 vzf03029 0000 materi potenti produc intern z41 fne herman jan',\n",
       " 'circular case mum vzf iii r330 design part gener circular case mum4 vzf07020 iii 0011 materi potenti produc intern z20 fne kriznik anton',\n",
       " 'circular case mum iii ral r330 design part gener circular case mum4 iii ral7040 0000 materi potenti produc intern z20 fne kriznik anton',\n",
       " 'circular case mum iii ral r330 design part gener circular case mum4 iii ral7021 0000 materi potenti produc intern z20 fne kriznik anton',\n",
       " 'circular case mum iii ral r330 design part gener circular case mum4 iii ral9005 0000 materi potenti produc intern z20 fne kriznik anton',\n",
       " 'bowl plastic mixer mum iii tritan 01 dummi bowl plastic mixer mum5 iii tritan 0000 materi potenti produc intern z41 fne herman jan',\n",
       " 'multimix muz mmw f y335 subcontract assembl multimix muzs24mmw f30 0000 materi potenti produc intern z20 fne kriznik anton',\n",
       " 'rod mixer mum ii 01 dummi rod mixer mum5 ii 0000 materi potenti produc intern z41 fne herman jan',\n",
       " 'rate plate mum servic 01 dummi rate plate mums2servic 0000 materi potenti produc intern z20 fne kriznik anton',\n",
       " 'basic accessori k compl h733 wire good made stainless steel basic accessori k16 compl 0206 materi potenti produc intern z20 fne kriznik anton',\n",
       " 'hous k vzf assembl 01 dummi shous k16 vzf07020 assembl 0000 materi potenti produc intern z20 fne kriznik anton',\n",
       " 'arm hous upper k vzf assem r330 design part gener sarm hous upper k16 vzf07020 assem 0000 materi potenti produc intern z20 fne kriznik anton',\n",
       " 'arm hous lower k vzf assem r310 technic part gener sarm hous lower k16 vzf07020 assem 0000 materi potenti produc intern z20 fne kriznik anton',\n",
       " 'arm cover plate mum vzf iii r335 paint partsunit incl assembl arm cover plate mum5 vzf09338 iii 68200 materi potenti produc intern z41 fne herman jan',\n",
       " 'side cover mum vzf iii r335 paint partsunit incl assembl side cover mum5 vzf09338 iii 111500 materi potenti produc intern z41 fne herman jan',\n",
       " 'bottom mum vzf iii r210 technic part gener bottom mum5 vzf09338 iii 0000 materi potenti produc intern z41 fne herman jan',\n",
       " 'hous k ral assembl 01 dummi shous k16 ral9005 assembl 0000 materi potenti produc intern z20 fne kriznik anton',\n",
       " 'hous k ral bosch logo basi 01 dummi shous k16 ral9005 bosch logo basi 0000 materi potenti produc intern z20 fne kriznik anton',\n",
       " 'bottom mum as iii vzf r335 paint partsunit incl assembl bottom mum5 assiii vzf09338 274000 materi potenti produc intern z41 fne herman jan',\n",
       " 'hous k vzf bosch logo basi 01 dummi shous k16 vzf03003 bosch logo basi 0000 materi potenti produc intern z20 fne kriznik anton',\n",
       " 'arm hous upper k ral assem r330 design part gener sarm hous upper k16 ral9005 assem 0000 materi potenti produc intern z20 fne kriznik anton',\n",
       " 'arm hous lower k ral assem r310 technic part gener sarm hous lower k16 ral9005 assem 0000 materi potenti produc intern z20 fne kriznik anton',\n",
       " 'button mum ral ii r330 design part gener button mum5 ral9005 ii 11400 materi potenti produc intern z41 fne herman jan',\n",
       " 'arm hous upper k vzf assem r330 design part gener sarm hous upper k16 vzf03003 assem 0000 materi potenti produc intern z20 fne kriznik anton',\n",
       " 'arm hous lower k vzf assem r310 technic part gener sarm hous lower k16 vzf03003 assem 0000 materi potenti produc intern z20 fne kriznik anton',\n",
       " 'arm hous upper k paint ral r330 design part gener sarm hous upper k16 paint ral9006 0000 materi potenti produc intern z20 fne kriznik anton',\n",
       " 'cover case mum ral r220 complex technic part gener cover case mum5 ral9005 0000 materi potenti produc intern z41 fne herman jan',\n",
       " 'drive cover mum ral r222 complex hybrid partsmet overinject drive cover 2 mum5 ral9005 21000 materi potenti produc intern z41 fne herman jan',\n",
       " 'drive cover mum cpl ral r310 technic part gener drive cover mum5 cpl ral9005 0051 materi potenti produc intern z41 fne herman jan',\n",
       " 'knob cpl mum ral st r332 knob turn knob cpl mum5 ral9005 7st 40000 materi potenti produc intern z41 fne herman jan',\n",
       " 'inner ring mum ral 01 dummi inner ring mum4 ral 7040 0000 materi potenti produc intern z20 fne kriznik anton',\n",
       " 'outer ring mum ral 01 dummi outer ring mum4 ral 7040 0000 materi potenti produc intern z20 fne kriznik anton',\n",
       " 'dough hook mum compl ral h733 wire good made stainless steel dough hook mum4 compl ral 7040 0049 materi potenti produc intern z20 fne kriznik anton',\n",
       " 'set gear drive unit k w r225 xxx use anymor sset gear drive unit k16 700 w 0000 materi potenti produc intern z20 fne kriznik anton',\n",
       " 'automat cabl reel mum scale cn m360 control panelsystem compon gener automat cabl reel mum5 scale cn 0000 materi potenti produc intern z41 fne herman jan',\n",
       " 'coupl element grain mill muz ii r310 technic part gener coupl element grain mill muz45 ii 0004 materi potenti produc intern z41 fne herman jan',\n",
       " 'beat whisk metal mum v ral 01 dummi beat whisk metal mum5 v01 ral7040 0000 materi extern procur z41 fne herman jan',\n",
       " 'beat whisk metal mum v ral 01 dummi beat whisk metal mum5 v01 ral7021 0000 materi extern procur z41 fne herman jan',\n",
       " 'beat whisk metal mum v ral 01 dummi beat whisk metal mum5 v01 ral9005 0000 materi extern procur z41 fne herman jan',\n",
       " 'switch cover k v r310 technic part gener switch cover k16 v1 0009 materi potenti produc intern z20 fne kriznik anton',\n",
       " 'base applianc mum cb 01 dummi base applianc mum58cb60 0000 materi potenti produc intern z41 fne herman jan',\n",
       " 'rate plate mum n cb 01 dummi rate plate mum59n26cb 0000 materi potenti produc intern z41 fne herman jan',\n",
       " 'automat cabl reel mum scale gb m360 control panelsystem compon gener automat cabl reel mum5 scale gb 0000 materi potenti produc intern z41 fne herman jan',\n",
       " 'rate plate mumvxw cn 01 dummi rate plate mumvxw20cn 0000 materi potenti produc intern z41 fne herman jan',\n",
       " 'rate plate mum xw gb 01 dummi rate plate mum5xw10gb 0000 materi potenti produc intern z41 fne herman jan',\n",
       " 'muz mx glass mixer assm ii ral n760 concav convex glass gener muz45mx1 glass mixer assm ii ral9005 0000 materi potenti produc intern z41 fne herman jan',\n",
       " 'muz mx blender k f ver r240 transpar part gener muz9mx1 blender k04 f30 ver01 2619 materi potenti produc intern z20 fne kriznik anton',\n",
       " 'bowl lid mmr iii r240 transpar part gener bowl lid mmr iii 0000 materi potenti produc intern z05 fne sotlar saso',\n",
       " 'con slicer bottom sticker iii mum uc 01 dummi conslic bottomstick iii mum5uc 0000 materi potenti produc intern z41 fne herman jan',\n",
       " 'bowl mum coat ral as w h712 toolrel inox stamp part high complex aesthet bowl mum5 coat ral9005 as w 0000 materi potenti produc intern z41 fne herman jan',\n",
       " 'base applianc mum tw 01 dummi base applianc mums2tw00 0000 materi potenti produc intern z20 fne kriznik anton',\n",
       " 'base applianc mum tw 01 dummi base applianc mums2tw01 0000 materi potenti produc intern z20 fne kriznik anton',\n",
       " 'base applianc mum ew 01 dummi base applianc mums2ew01 0000 materi potenti produc intern z20 fne kriznik anton',\n",
       " 'base applianc mum ew 01 dummi base applianc mums2ew11 0000 materi potenti produc intern z20 fne kriznik anton',\n",
       " 'base applianc mum ew 01 dummi base applianc mums2ew20 0000 materi potenti produc intern z20 fne kriznik anton',\n",
       " 'base applianc mum v 01 dummi base applianc mums2vs30 0000 materi potenti produc intern z20 fne kriznik anton',\n",
       " 'base applianc mum vm 01 dummi base applianc mums2vm40 0000 materi potenti produc intern z20 fne kriznik anton',\n",
       " 'base applianc mum er g 01 dummi base applianc mums2er01g 0000 materi potenti produc intern z20 fne kriznik anton',\n",
       " 'knob cover plate mum ral r220 complex technic part gener knob cover plate mum5 ral9005 7000 materi potenti produc intern z41 fne herman jan',\n",
       " 'hous mum vzf v 01 dummi hous mum5 vzf06042 v 0000 materi potenti produc intern z41 fne herman jan',\n",
       " 'hous grinderunit mc muz asm v r314 unit incl assembl housinggrinderunit mc muz45 asm v02 0240 materi potenti produc intern z41 fne herman jan',\n",
       " 'hous chopperunit mc muz asm v r314 unit incl assembl housingchopperunit mc muz45 asm v02 0163 materi potenti produc intern z41 fne herman jan',\n",
       " 'mug mc muz asm v r334 unit incl assembl mug mc muz45 asm v01 0260 materi potenti produc intern z41 fne herman jan',\n",
       " 'base w grinderknif asm mc muz v y335 subcontract assembl base w grinderknif asm mc muz45 v03 0360 materi potenti produc intern z41 fne herman jan',\n",
       " 'base w chopperknif asm mc muz v y33 spare part subcontract base w chopperknif asm mc muz45 v03 0000 materi potenti produc intern z41 fne herman jan',\n",
       " 'chopper mc muz xtm v y335 subcontract assembl chopper mc muz45xtm1 v03 0000 materi potenti produc intern z41 fne herman jan',\n",
       " 'chopper mc muz xcg v y335 subcontract assembl chopper mc muz45xcg1 v03 0000 materi potenti produc intern z41 fne herman jan',\n",
       " 'flang cover mum ral iii r220 complex technic part gener flang cover mum57 ral7021 iii 0000 materi potenti produc intern z41 fne herman jan',\n",
       " 'flang cover mum vzf ii r220 complex technic part gener flang cover mum5 vzf04007 ii 0000 materi potenti produc intern z41 fne herman jan',\n",
       " 'flang cover grey iii r220 complex technic part gener flang cover grey iii 0000 materi potenti produc intern z41 fne herman jan',\n",
       " 'lock slider k v r310 technic part gener lock slider k16 v01 0000 materi potenti produc intern z20 fne kriznik anton',\n",
       " 'arm hous mum vzf iv r210 technic part gener arm hous mum5 vzf26044 iv 230000 materi potenti produc intern z41 fne herman jan',\n",
       " 'arm hous mum vzf ii r222 complex hybrid partsmet overinject arm hous mum5 vzf01018 ii 0000 materi potenti produc intern z41 fne herman jan',\n",
       " 'arm hous mum vzf iv r222 complex hybrid partsmet overinject arm hous mum5 vzf04007 iv 0000 materi potenti produc intern z41 fne herman jan',\n",
       " 'arm hous white iv 01 dummi arm hous white iv 0000 materi potenti produc intern z41 fne herman jan',\n",
       " 'cover case mum ral ii r220 complex technic part gener cover case mum5 ral9005 ii 0000 materi potenti produc intern z41 fne herman jan',\n",
       " 'cover case mum vzf v r220 complex technic part gener cover case mum5 vzf07020 v02 24000 materi potenti produc intern z41 fne herman jan',\n",
       " 'cover case mum vzf ii r220 complex technic part gener cover case mum5 vzf07147 ii 0000 materi potenti produc intern z41 fne herman jan',\n",
       " 'cover case mum vzf ii r220 complex technic part gener cover case mum5 vzf04043 ii 0000 materi potenti produc intern z41 fne herman jan',\n",
       " 'cover case mum vzf v r220 complex technic part gener cover case mum5 vzf01017 v02 24000 materi potenti produc intern z41 fne herman jan',\n",
       " 'cover case mum vzf ii r220 complex technic part gener cover case mum5 vzf26044 ii 24000 materi potenti produc intern z41 fne herman jan',\n",
       " 'cover case mum vzf ii r220 complex technic part gener cover case mum5 vzf03003 ii 24000 materi potenti produc intern z41 fne herman jan',\n",
       " 'cover case mum vzf v r220 complex technic part gener cover case mum5 vzf05054 v02 24000 materi potenti produc intern z41 fne herman jan',\n",
       " 'cover case mum vzf ii r220 complex technic part gener cover case mum5 vzf04007 ii 24000 materi potenti produc intern z41 fne herman jan',\n",
       " 'cover case mum ii gray r220 complex technic part gener cover case mum5 ii gray 0000 materi potenti produc intern z41 fne herman jan',\n",
       " 'drive cover mum cpl ral ii v r336 metal part unit incl assembl drive cover mum5 cpl ral9005 ii v01 0051 materi potenti produc intern z41 fne herman jan',\n",
       " 'drive cover mum cpl ii r336 metal part unit incl assembl drive cover mum56 cpl ii 46900 materi potenti produc intern z41 fne herman jan',\n",
       " 'drive cover mum cpl mum vzf v r336 metal part unit incl assembl drive cover mum5 cpl mum5 vzf04007 v02 46900 materi potenti produc intern z41 fne herman jan',\n",
       " 'drive cover mum vzf cpl chrom v r336 metal part unit incl assembl drive cover mum5 vzf05054 cpl chrom v02 52000 materi potenti produc intern z41 fne herman jan',\n",
       " 'drive cover mum cpl ver r336 metal part unit incl assembl drive cover mum54 cpl ver02 46900 materi potenti produc intern z41 fne herman jan',\n",
       " 'drive cover mum vzf cpl chrom v r336 metal part unit incl assembl drive cover mum5 vzf03003 cpl chrom v02 46900 materi potenti produc intern z41 fne herman jan',\n",
       " 'drive cover mum vzf as crom v r336 metal part unit incl assembl drive cover mum5 vzf26044 asscrom v02 46900 materi potenti produc intern z41 fne herman jan',\n",
       " 'drive cover mum vzf as crom v r336 metal part unit incl assembl drive cover mum5 vzf01017 asscrom v02 46900 materi potenti produc intern z41 fne herman jan',\n",
       " 'drive cover mum vzf cpl chrom r336 metal part unit incl assembl drive cover mum5 vzf04043 cpl chrom 02 46900 materi potenti produc intern z41 fne herman jan',\n",
       " 'base applianc mum tw 01 dummi base applianc mums2tw30 0000 materi potenti produc intern z20 fne kriznik anton',\n",
       " 'drive cover mum vzf cpl chrom v r336 metal part unit incl assembl drive cover mum5 vzf07147 cpl chrom v02 46900 materi potenti produc intern z41 fne herman jan',\n",
       " 'base applianc mum ew g 01 dummi base applianc mums2ew00g 0000 materi potenti produc intern z20 fne kriznik anton',\n",
       " 'base applianc mum ew g 01 dummi base applianc mums2ew30g 0000 materi potenti produc intern z20 fne kriznik anton',\n",
       " 'base applianc mum ew c 01 dummi base applianc mums2ew00c 0000 materi potenti produc intern z20 fne kriznik anton',\n",
       " 'beat whisk metal mum ii h733 wire good made stainless steel beat whisk metal mum5 ii 0000 materi potenti produc intern z41 fne herman jan',\n",
       " 'hous mum vzf v 01 dummi hous mum5 vzf04053 v 0000 materi potenti produc intern z41 fne herman jan',\n",
       " 'hous mum v vzf r210 technic part gener hous mum5 v vzf03029 580000 materi potenti produc intern z41 fne herman jan',\n",
       " 'hous mum vzf v pol r210 technic part gener hous mum5 vzf07020 v pol 580000 materi potenti produc intern z41 fne herman jan',\n",
       " 'hous mum vzf v r210 technic part gener hous mum5 vzf04007 v 580000 materi potenti produc intern z41 fne herman jan',\n",
       " 'hous mum vzf v r210 technic part gener hous mum5 vzf05054 v 580000 materi potenti produc intern z41 fne herman jan',\n",
       " 'hous mum vzf v r210 technic part gener hous mum5 vzf03003 v 580000 materi potenti produc intern z41 fne herman jan',\n",
       " 'hous mum vzf v r210 technic part gener hous mum5 vzf26044 v 580000 materi potenti produc intern z41 fne herman jan',\n",
       " 'hous mum vzf v r210 technic part gener hous mum5 vzf01017 v 580000 materi potenti produc intern z41 fne herman jan',\n",
       " 'hous mum vzf v r210 technic part gener hous mum5 vzf04043 v 580000 materi potenti produc intern z41 fne herman jan',\n",
       " 'hous mum vzf v r210 technic part gener hous mum5 vzf07147 v 580000 materi potenti produc intern z41 fne herman jan',\n",
       " 'cubic cutter mum ral ver k805 metal modul product accessori metal cubic cutter mum5 ral7040 ver03 1138 materi potenti produc intern z22 fne novak toni',\n",
       " 'drive cover mum ral ii r222 complex hybrid partsmet overinject drive cover 2 mum5 ral9005 ii 21000 materi potenti produc intern z41 fne herman jan',\n",
       " 'drive cover chrome ver r222 complex hybrid partsmet overinject drive cover 2 chrome ver02 21000 materi potenti produc intern z41 fne herman jan',\n",
       " 'vertic mid trav powder h332 toolrel stamp part mediumlow complex vertic mid trav powder 1769 0900 materi potenti produc intern ks6 frfc wang chuanyang',\n",
       " 'continu slicer cap iii ral r310 technic part gener continu slicer cap iii ral7021 0000 materi potenti produc intern z41 fne herman jan',\n",
       " 'continu slicer cap iii vzf r310 technic part gener continu slicer cap iii vzf07020 0000 materi potenti produc intern z41 fne herman jan',\n",
       " 'arm hous upper paint k vzf v r330 design part gener arm hous upper paint k16 vzf07246 v1 0000 materi potenti produc intern z20 fne kriznik anton',\n",
       " 'hous cover paint k vzf v r330 design part gener hous cover paint k16 vzf07246 v1 0000 materi potenti produc intern z20 fne kriznik anton',\n",
       " 'steel bowl w plastic lug k ral v h712 toolrel inox stamp part high complex aesthet steel bowl w plastic lug k16 ral7021 v1 0000 materi extern procur z20 fne kriznik anton',\n",
       " 'ice cream maker mum asm 01 dummi ice cream maker mums2 asm 0000 materi potenti produc intern z20 fne kriznik anton',\n",
       " 'foot meatminc mum e ral b330 aluminium diecast part gener foot meatminc mum4 e ral7021 0000 materi potenti produc intern z20 fne kriznik anton',\n",
       " 'meat mincer mum e as ral b330 aluminium diecast part gener meat mincer mum4 e as ral7021 0528 materi potenti produc intern z20 fne kriznik anton',\n",
       " 'hous top mmr vzf ii gp r220 complex technic part gener hous top mmr vzf03003 ii gp35 0098 materi potenti produc intern z05 fne sotlar saso',\n",
       " 'hous top mmr ral ii gp r220 complex technic part gener hous top mmr ral9005 ii gp35 0098 materi potenti produc intern z05 fne sotlar saso',\n",
       " 'hous top mmr vzf ii gp r220 complex technic part gener hous top mmr vzf07020 ii gp35 0098 materi potenti produc intern z05 fne sotlar saso',\n",
       " 'gehaeusedeckel mmr ral gp r221 complex technic part special surfac requir gehaeusedeckel mmr ral9005 gp35 0000 materi potenti produc intern z05 fne sotlar saso',\n",
       " 'gehaeusedeckel mmr bosch vzf gp r221 complex technic part special surfac requir gehaeusedeckel mmr bosch vzf07020 gp35 0000 materi potenti produc intern z05 fne sotlar saso',\n",
       " 'hous cover mmr vzf gp r221 complex technic part special surfac requir hous cover mmr vzf03003 gp35 0000 materi potenti produc intern z05 fne sotlar saso',\n",
       " 'gehaeusedeckel mmr bosch gp r221 complex technic part special surfac requir gehaeusedeckel mmr bosch gp35 0000 materi potenti produc intern z05 fne sotlar saso',\n",
       " 'ring mmr vzf gp r220 complex technic part gener ring mmr vzf03003 gp35 0000 materi potenti produc intern z05 fne sotlar saso',\n",
       " 'ring mmr panton c gp r221 complex technic part special surfac requir ring mmr panton 11c gp35 0000 materi potenti produc intern z05 fne sotlar saso',\n",
       " 'ring mmr r gp r220 complex technic part gener ring mmr08r1 gp35 0000 materi potenti produc intern z05 fne sotlar saso',\n",
       " 'ring mmr gp r220 complex technic part gener ring mmr gp35 0000 materi potenti produc intern z05 fne sotlar saso',\n",
       " 'hous top mmr vzf ii p h r220 complex technic part gener hous top mmr vzf03003 ii p757h 0098 materi potenti produc intern z05 fne sotlar saso',\n",
       " 'hous top mmr ral ii p h r220 complex technic part gener hous top mmr ral9005 ii p757h 0098 materi potenti produc intern z05 fne sotlar saso',\n",
       " 'hous top mmr vzf ii p h r220 complex technic part gener hous top mmr vzf07020 ii p757h 0098 materi potenti produc intern z05 fne sotlar saso',\n",
       " 'gehaeusedeckel mmr ral p h r221 complex technic part special surfac requir gehaeusedeckel mmr ral9005 p757h 0000 materi potenti produc intern z05 fne sotlar saso',\n",
       " 'gehaeusedeckel mmr bosch vzf p h r221 complex technic part special surfac requir gehaeusedeckel mmr bosch vzf07020 p757h 0000 materi potenti produc intern z05 fne sotlar saso',\n",
       " 'hous cover mmr vzf p h r221 complex technic part special surfac requir hous cover mmr vzf03003 p757h 0000 materi potenti produc intern z05 fne sotlar saso',\n",
       " 'gehaeusedeckel mmr bosch p h r221 complex technic part special surfac requir gehaeusedeckel mmr bosch p757h 0000 materi potenti produc intern z05 fne sotlar saso',\n",
       " 'ring mmr vzf p h r220 complex technic part gener ring mmr vzf03003 p757h 0000 materi potenti produc intern z05 fne sotlar saso',\n",
       " 'ring mmr panton c p h r220 complex technic part gener ring mmr panton 11c p757h 0000 materi potenti produc intern z05 fne sotlar saso',\n",
       " 'ring mmr r p h r220 complex technic part gener ring mmr08r1 p757h 0000 materi potenti produc intern z05 fne sotlar saso',\n",
       " 'ring mmr p h r220 complex technic part gener ring mmr p757h 0000 materi potenti produc intern z05 fne sotlar saso',\n",
       " 'cont slic bottom mum ii ral p f r220 complex technic part gener cont slic bottom mum5 ii ral7021 p757f 0000 materi potenti produc intern z41 fne herman jan',\n",
       " 'con slic bottom mum ii vzf p f r220 complex technic part gener con slic bottom mum5 ii vzf07020 p757f 0000 materi potenti produc intern z41 fne herman jan',\n",
       " 'hous cover mmr bosch kpl gp 01 dummi hous cover mmr bosch kpl gp35 0000 materi extern procur z05 fne sotlar saso',\n",
       " 'hous cover mmr bosch kpl h 01 dummi hous cover mmr bosch kpl 757h 0000 materi extern procur z05 fne sotlar saso',\n",
       " 'hous cover mmr vzf kpl gp r221 complex technic part special surfac requir hous cover mmr vzf07020 kpl gp35 0000 materi potenti produc intern z05 fne sotlar saso',\n",
       " 'hous cover mmr bosch vzf kpl r221 complex technic part special surfac requir hous cover mmr bosch vzf07020 kpl 757 0000 materi potenti produc intern z05 fne sotlar saso',\n",
       " 'hous cover mmr bosch kpl ral gp r225 xxx use anymor hous cover mmr bosch kpl ral9005 gp35 0000 materi potenti produc intern z05 fne sotlar saso',\n",
       " 'hous cover mmr bosch kpl ral h r225 xxx use anymor hous cover mmr bosch kpl ral9005 757h 0000 materi potenti produc intern z05 fne sotlar saso',\n",
       " 'hous cover vzf vzf cpl gp 01 dummi hous cover vzf07020vzf03003 cpl gp35 0000 materi potenti produc intern z05 fne sotlar saso',\n",
       " 'hous cover vzf vzf cpl h 01 dummi hous cover vzf07020vzf03003 cpl 757h 0000 materi potenti produc intern z05 fne sotlar saso',\n",
       " 'hous cover mmr vzf cpl gp r310 technic part gener hous cover mmr vzf03003 cpl gp35 0000 materi potenti produc intern z05 fne sotlar saso',\n",
       " 'hous cover mmr vzf cpl h r310 technic part gener hous cover mmr vzf03003 cpl 757h 0000 materi potenti produc intern z05 fne sotlar saso',\n",
       " 'hous bottom mr b ral ii r330 design part gener hous bottom mr008b1 ral9005 ii 0000 materi potenti produc intern z05 fne sotlar saso',\n",
       " 'hous bottom mmr vzf ii r330 design part gener hous bottom mmr08a1 vzf07020 ii 0000 materi potenti produc intern z05 fne sotlar saso',\n",
       " 'hous bottom mmr gb vzf ii r330 design part gener hous bottom mmr0801gb vzf07020 ii 0000 materi potenti produc intern z05 fne sotlar saso',\n",
       " 'hous bottom mmr vzf ii r330 design part gener hous bottom mmr15a1 vzf07020 ii 0000 materi potenti produc intern z05 fne sotlar saso',\n",
       " 'hous bottom mmr r vzf ii r330 design part gener hous bottom mmr08r2 vzf07020 ii 0090 materi potenti produc intern z05 fne sotlar saso',\n",
       " 'hous bottom mmr r gb vzf ii r330 design part gener hous bottom mmr08r1gb vzf07020 ii 84000 materi potenti produc intern z05 fne sotlar saso',\n",
       " 'hous bottom mmrp gb vzf ii r330 design part gener hous bottom mmrp1000gb vzf07020 ii 0000 materi potenti produc intern z05 fne sotlar saso',\n",
       " 'hous bottom mmrp vzf ii r330 design part gener hous bottom mmrp1000 vzf07020 ii 0000 materi potenti produc intern z05 fne sotlar saso',\n",
       " 'hous bottom mmr gb vzf ii r330 design part gener hous bottom mmr15a1gb vzf07020 ii 0000 materi potenti produc intern z05 fne sotlar saso',\n",
       " 'hous bottom mr fq ral ii r330 design part gener hous bottom mr015fq1 ral9005 ii 0000 materi potenti produc intern z05 fne sotlar saso',\n",
       " 'chopper mmr r gb f v p h y335 subcontract assembl chopper mmr08r1gb f30 v2 p757h 0000 materi potenti produc intern z05 fne sotlar saso',\n",
       " 'chopper mmr r f v p h y335 subcontract assembl chopper mmr08r2 f30 v2 p757h 1466 materi potenti produc intern z05 fne sotlar saso',\n",
       " 'chopper mr b f v p h y335 subcontract assembl chopper mr008b1 f30 v2 p757h 1500 materi potenti produc intern z05 fne sotlar saso',\n",
       " 'chopper mr b gb f v p h y335 subcontract assembl chopper mr008b1gb f30 v2 p757h 0000 materi potenti produc intern z05 fne sotlar saso',\n",
       " 'chopper mr fq f v p h y335 subcontract assembl chopper mr015fq1 f30 v2 p757h 3120 materi potenti produc intern z05 fne sotlar saso',\n",
       " 'chopper mmr gb f v p h y335 subcontract assembl chopper mmr0801gb f30 v2 p757h 0000 materi potenti produc intern z05 fne sotlar saso',\n",
       " 'chopper mmr f v p h y335 subcontract assembl chopper mmr15a1 f30 v2 p757h 3121 materi potenti produc intern z05 fne sotlar saso',\n",
       " 'chopper mmr f v h y335 subcontract assembl chopper mmr08a1 f30 v2 757h 1428 materi potenti produc intern z05 fne sotlar saso',\n",
       " 'chopper mmrp f p h y335 subcontract assembl chopper mmrp1000 f30 p757h 0000 materi potenti produc intern z05 fne sotlar saso',\n",
       " 'chopper mmr gb f p h y335 subcontract assembl chopper mmr15a1gb f30 p757h 0000 materi potenti produc intern z05 fne sotlar saso',\n",
       " 'chopper mmrp gb f p h y335 subcontract assembl chopper mmrp1000gb f30 p757h 0000 materi potenti produc intern z05 fne sotlar saso',\n",
       " 'chopper mmr r gb f v gp y335 subcontract assembl chopper mmr08r1gb f30 v2 gp35 0000 materi potenti produc intern z05 fne sotlar saso',\n",
       " 'chopper mmr r f v gp y335 subcontract assembl chopper mmr08r2 f30 v2 gp35 1466 materi potenti produc intern z05 fne sotlar saso',\n",
       " 'chopper mr b f v gp y335 subcontract assembl chopper mr008b1 f30 v2 gp35 1500 materi potenti produc intern z05 fne sotlar saso',\n",
       " 'chopper mr b gb f v gp y335 subcontract assembl chopper mr008b1gb f30 v2 gp35 0000 materi potenti produc intern z05 fne sotlar saso',\n",
       " 'chopper mr fq f v gp y335 subcontract assembl chopper mr015fq1 f30 v2 gp35 3120 materi potenti produc intern z05 fne sotlar saso',\n",
       " 'chopper mmr gb f v gp y335 subcontract assembl chopper mmr0801gb f30 v2 gp35 0000 materi potenti produc intern z05 fne sotlar saso',\n",
       " 'chopper mmr f v gp y335 subcontract assembl chopper mmr15a1 f30 v2 gp35 3121 materi potenti produc intern z05 fne sotlar saso',\n",
       " 'chopper mmr f v gp y335 subcontract assembl chopper mmr08a1 f30 v2 gp35 1428 materi potenti produc intern z05 fne sotlar saso',\n",
       " 'chopper mmrp f gp y335 subcontract assembl chopper mmrp1000 f30 gp35 0000 materi potenti produc intern z05 fne sotlar saso',\n",
       " 'chopper mmr gb f gp y335 subcontract assembl chopper mmr15a1gb f30 gp35 0000 materi potenti produc intern z05 fne sotlar saso',\n",
       " 'chopper mmrp gb f gp y335 subcontract assembl chopper mmrp1000gb f30 gp35 0000 materi potenti produc intern z05 fne sotlar saso',\n",
       " 'hous top vzf ii ral cpl h 01 dummi hous top vzf07020 ii ral7016 cpl 757h 0000 materi potenti produc intern z05 fne sotlar saso',\n",
       " 'hous top vzf ii sig ral h 01 dummi hous top vzf07020 ii sigral7016 757h 0000 materi potenti produc intern z05 fne sotlar saso',\n",
       " 'hous vzf ii ral cpl h 01 dummi hous vzf03003 ii ral9006 cpl 757h 0000 materi potenti produc intern z05 fne sotlar saso',\n",
       " 'hous top vzf ii ral cpl gp 01 dummi hous top vzf07020 ii ral7016 cpl gp35 0000 materi potenti produc intern z05 fne sotlar saso',\n",
       " 'hous mmr vzf ii sig ral h 01 dummi hous mmr vzf03003 ii sigral9006 757h 0000 materi potenti produc intern z05 fne sotlar saso',\n",
       " 'hous top ral ii ral cpl h 01 dummi hous top ral9005 ii ral9006 cpl 757h 0000 materi potenti produc intern z05 fne sotlar saso',\n",
       " 'hous top ral ii sig ral h 01 dummi hous top ral9005 ii sig ral9006 757h 0000 materi potenti produc intern z05 fne sotlar saso',\n",
       " 'hous vzf ii ral cpl gp 01 dummi hous vzf03003 ii ral9006 cpl gp35 0000 materi potenti produc intern z05 fne sotlar saso',\n",
       " 'hous mmr vzf ii sig ral gp 01 dummi hous mmr vzf03003 ii sigral9006 gp35 0000 materi potenti produc intern z05 fne sotlar saso',\n",
       " 'hous top ral ii ral cpl gp 01 dummi hous top ral9005 ii ral9006 cpl gp35 0000 materi potenti produc intern z05 fne sotlar saso',\n",
       " 'hous top ral ii sig ral gp 01 dummi hous top ral9005 ii sig ral9006 gp35 0000 materi potenti produc intern z05 fne sotlar saso',\n",
       " 'hous top vzf ii sig ral gp 01 dummi hous top vzf07020 ii sigral7016 gp35 0000 materi potenti produc intern z05 fne sotlar saso',\n",
       " 'basic applianc mmr r gb v p h 01 dummi basic applianc mmr08r1gb v3 p757h 0000 materi potenti produc intern z05 fne sotlar saso',\n",
       " 'basic applianc mmr r v p h 01 dummi basic applianc mmr08r2 v3 p757h 0000 materi potenti produc intern z05 fne sotlar saso',\n",
       " 'basic app mmr gb vzf v p h 01 dummi basic app mmr0801gb vzf07020 v03 p757h 0000 materi potenti produc intern z05 fne sotlar saso',\n",
       " 'basic app mmr vzf v p h 01 dummi basic app mmr15a1 vzf07020 v03 p757h 0000 materi potenti produc intern z05 fne sotlar saso',\n",
       " 'hous mum vzf v 01 dummi hous mum5 vzf01029 v 0000 materi potenti produc intern z41 fne herman jan',\n",
       " 'basic app mmr vzf v p h 01 dummi basic app mmr08a1 vzf07020 v03 p757h 0000 materi potenti produc intern z05 fne sotlar saso',\n",
       " 'basic applianc mmrp p h 01 dummi basic applianc mmrp1000 p757h 0000 materi potenti produc intern z05 fne sotlar saso',\n",
       " 'basic applianc mmr gb vzf p h 01 dummi basic applianc mmr15a1gb vzf07020 p757h 0000 materi potenti produc intern z05 fne sotlar saso',\n",
       " 'basic applianc mmrp gb p h 01 dummi basic applianc mmrp1000gb p757h 0000 materi potenti produc intern z05 fne sotlar saso',\n",
       " 'basic applianc mmr r gb v gp 01 dummi basic applianc mmr08r1gb v3 gp35 0000 materi potenti produc intern z05 fne sotlar saso',\n",
       " 'basic applianc mmr r v gp 01 dummi basic applianc mmr08r2 v3 gp35 0000 materi potenti produc intern z05 fne sotlar saso',\n",
       " 'basic app mr b ral v gp 01 dummi basic app mr008b1 ral9005 v03 gp35 0000 materi potenti produc intern z05 fne sotlar saso',\n",
       " 'basic app mr b gb ral v gp 01 dummi basic app mr008b1gb ral9005 v03 gp35 0000 materi potenti produc intern z05 fne sotlar saso',\n",
       " 'basic app mr fq ral v gp 01 dummi basic app mr015fq1 ral9005 v03 gp35 0000 materi potenti produc intern z05 fne sotlar saso',\n",
       " 'basic app mmr gb vzf v gp 01 dummi basic app mmr0801gb vzf07020 v03 gp35 0000 materi potenti produc intern z05 fne sotlar saso',\n",
       " 'basic app mmr vzf v gp 01 dummi basic app mmr15a1 vzf07020 v03 gp35 0000 materi potenti produc intern z05 fne sotlar saso',\n",
       " 'basic app mmr vzf v gp 01 dummi basic app mmr08a1 vzf07020 v03 gp35 0000 materi potenti produc intern z05 fne sotlar saso',\n",
       " 'hous mum v vzf r210 technic part gener hous mum5 v vzf08023 230000 materi potenti produc intern z41 fne herman jan',\n",
       " 'basic applianc mmrp gp 01 dummi basic applianc mmrp1000 gp35 0000 materi potenti produc intern z05 fne sotlar saso',\n",
       " 'basic applianc mmr gb vzf gp 01 dummi basic applianc mmr15a1gb vzf07020 gp35 0000 materi potenti produc intern z05 fne sotlar saso',\n",
       " 'basic applianc mmrp gb gp 01 dummi basic applianc mmrp1000gb gp35 0000 materi potenti produc intern z05 fne sotlar saso',\n",
       " 'basic applianc mmr r gb gp y33 spare part subcontract sbasic applianc mmr08r1gb gp35 0000 materi potenti produc intern z05 fne sotlar saso',\n",
       " 'basic applianc mmr gb gp y33 spare part subcontract sbasic applianc mmr0801gb gp35 0000 materi potenti produc intern z05 fne sotlar saso',\n",
       " 'basic applianc mmr gp y33 spare part subcontract sbasic applianc mmr08a1 gp35 0000 materi potenti produc intern z05 fne sotlar saso',\n",
       " 'basic applianc mmr r gp y33 spare part subcontract sbasic applianc mmr08r2 gp35 0000 materi potenti produc intern z05 fne sotlar saso',\n",
       " 'basic applianc mr b gp y33 spare part subcontract sbasic applianc mr008b1 gp35 0000 materi potenti produc intern z05 fne sotlar saso',\n",
       " 'basic applianc mmr gb gp y33 spare part subcontract sbasic applianc mmr15a1gb gp35 0000 materi potenti produc intern z05 fne sotlar saso',\n",
       " 'basic applianc mmrp gb gp y33 spare part subcontract sbasic applianc mmrp1000gb gp35 0000 materi potenti produc intern z05 fne sotlar saso',\n",
       " 'basic applianc mr fq gp y33 spare part subcontract sbasic applianc mr015fq1 gp35 0000 materi potenti produc intern z05 fne sotlar saso',\n",
       " 'basic applianc mr b gb gp y33 spare part subcontract basic applianc mr008b1gb gp35 0000 materi potenti produc intern z05 fne sotlar saso',\n",
       " 'basic applianc mmrp gp y33 spare part subcontract sbasic applianc mmrp1000 gp35 0000 materi potenti produc intern z05 fne sotlar saso',\n",
       " 'basic applianc mmr gp y33 spare part subcontract sbasic applianc mmr15a1 gp35 0000 materi potenti produc intern z05 fne sotlar saso',\n",
       " 'basic applianc mmr r gb p h y33 spare part subcontract sbasic applianc mmr08r1gb p757h 0000 materi potenti produc intern z05 fne sotlar saso',\n",
       " 'basic applianc mmr gb p h y33 spare part subcontract sbasic applianc mmr0801gb p757h 0000 materi potenti produc intern z05 fne sotlar saso',\n",
       " 'basic applianc mmr p h y33 spare part subcontract sbasic applianc mmr08a1 p757h 0000 materi potenti produc intern z05 fne sotlar saso',\n",
       " 'basic applianc mmr r p h y33 spare part subcontract sbasic applianc mmr08r2 p757h 0000 materi potenti produc intern z05 fne sotlar saso',\n",
       " 'basic applianc mr b p h y33 spare part subcontract sbasic applianc mr008b1 p757h 0000 materi potenti produc intern z05 fne sotlar saso',\n",
       " 'basic applianc mmr gb p h y33 spare part subcontract sbasic applianc mmr15a1gb p757h 0000 materi potenti produc intern z05 fne sotlar saso',\n",
       " 'basic applianc mmrp gb p h y33 spare part subcontract sbasic applianc mmrp1000gb p757h 0000 materi potenti produc intern z05 fne sotlar saso',\n",
       " 'basic applianc mr fq p h y33 spare part subcontract sbasic applianc mr015fq1 p757h 0000 materi potenti produc intern z05 fne sotlar saso',\n",
       " 'basic applianc mr b gb p h y33 spare part subcontract sbasic applianc mr008b1gb p757h 0000 materi potenti produc intern z05 fne sotlar saso',\n",
       " 'basic applianc mmrp p h y33 spare part subcontract sbasic applianc mmrp1000 p757h 0000 materi potenti produc intern z05 fne sotlar saso',\n",
       " 'basic applianc mmr p h y33 spare part subcontract sbasic applianc mmr15a1 p757h 0000 materi potenti produc intern z05 fne sotlar saso',\n",
       " 'connect slider mum iii ral gp r330 design part gener connect slider mum4 iii ral7021 gp35 0000 materi potenti produc intern z20 fne kriznik anton',\n",
       " 'connect slider mum iii vzf gp r310 technic part gener connect slider mum4 iii vzf03003 gp35 0000 materi potenti produc intern z20 fne kriznik anton',\n",
       " 'connect slider mum iii vzf gp r330 design part gener connect slider mum4 iii vzf07020 gp35 0000 materi potenti produc intern z20 fne kriznik anton',\n",
       " 'connect slider mum iii ral p h r330 design part gener connect slider mum4 iii ral7021 p757h 0000 materi potenti produc intern z20 fne kriznik anton',\n",
       " 'connect slider mum iii vzf p h r330 design part gener connect slider mum4 iii vzf07020 p757h 0000 materi potenti produc intern z20 fne kriznik anton',\n",
       " 'knob basi k vcn 01 dummi knob basi k16 vcn 0023 materi potenti produc intern z20 fne kriznik anton',\n",
       " 'button k basic asm vzf cn r334 unit incl assembl button k16 basic asm vzf07020 cn 0060 materi potenti produc intern z20 fne kriznik anton',\n",
       " 'side panel flat sheet vzf g271 coil coat paint side panel flat sheet vzf05108 4630 materi potenti produc intern k67 fck zhang min',\n",
       " 'stand mum vzf iii mat r334 unit incl assembl stand mum4648 vzf07020 iii mat 0000 materi potenti produc intern z20 fne kriznik anton',\n",
       " 'stand mum vzf iii mat r334 unit incl assembl stand mum4648 vzf03003 iii mat 0000 materi potenti produc intern z20 fne kriznik anton',\n",
       " 'stand mum ral iii mat r334 unit incl assembl stand mum4648 ral7021 iii mat 0000 materi potenti produc intern z20 fne kriznik anton',\n",
       " 'stand mum vzf p h iii mat 01 dummi stand mum4648 vzf07020 p3h iii mat 0000 materi potenti produc intern z20 fne kriznik anton',\n",
       " 'lower arm cpl mum specor ii 01 dummi lower arm cpl mum5 specor ii 0000 materi potenti produc intern z41 fne herman jan',\n",
       " 'sh vzf pcm g271 coil coat paint sh 047215 1804 vzf39100 pcm 5000 materi potenti produc intern kq7 frfc fan kun',\n",
       " 'base applianc mum n cb 01 dummi base applianc mum59n26cb 0000 materi potenti produc intern z41 fne herman jan',\n",
       " 'hous mum ral cb sig r330 design part gener hous mum59 ral9005 cb sig 0600 materi potenti produc intern z41 fne herman jan',\n",
       " 'logo bosch matt black 01 dummi logo bosch 3d matt black 0000 materi extern procur z41 fne herman jan',\n",
       " 'base applianc mum xw g 01 dummi base applianc mum5xw40g 0000 materi potenti produc intern z41 fne herman jan',\n",
       " 'arm joint lower iii 01 dummi arm joint lower iii 0000 materi potenti produc intern z41 fne herman jan',\n",
       " 'arm joint upper iii 01 dummi arm joint upper iii 0000 materi potenti produc intern z41 fne herman jan',\n",
       " 'hous k vzf silver assembl 01 dummi shous k16 vzf07020silver assembl 0000 materi potenti produc intern z20 fne kriznik anton',\n",
       " 'frame heater fridg sb entri slim g452 bend steel tube frame heaterfridgesb entri slim 3d 0143 materi potenti produc intern kio dnak zhou tong',\n",
       " 'rate plate mymum w serial 01 dummi rate plate mymum 800w serial 0000 materi potenti produc intern z41 fne herman jan',\n",
       " 'rate plate mymum w serial 01 dummi rate plate mymum 1000 w serial 0000 materi potenti produc intern z41 fne herman jan',\n",
       " 'lock slider iii 01 dummi lock slider iii 0000 materi potenti produc intern z41 fne herman jan',\n",
       " 'arm joint ring iii 01 dummi arm joint ring iii 0000 materi potenti produc intern z41 fne herman jan',\n",
       " 'arm hous upper paint k vzf v r335 paint partsunit incl assembl arm hous upper paint k16 vzf07246 v2 0000 materi potenti produc intern z20 fne kriznik anton',\n",
       " 'stand mum uc iv 01 dummi stand mum44 uc iv 0000 materi potenti produc intern z20 fne kriznik anton',\n",
       " 'stand mum iv vzf 01 dummi stand mum4 iv vzf03003 0000 materi potenti produc intern z20 fne kriznik anton',\n",
       " 'stand mum iv 01 dummi stand mum4 iv 0000 materi potenti produc intern z20 fne kriznik anton',\n",
       " 'stand cpl mum vzf tampo uc iv r335 paint partsunit incl assembl stand cpl mum44 vzf07020 tampo uc iv 0680 materi potenti produc intern z20 fne kriznik anton',\n",
       " 'stander cpl mum vzf tampo iv r335 paint partsunit incl assembl stander cpl mum44 vzf03003 tampo iv 0680 materi potenti produc intern z20 fne kriznik anton',\n",
       " 'stand cpl mum vzf tampo iv r335 paint partsunit incl assembl stand cpl mum44 vzf07020 tampo iv 0680 materi potenti produc intern z20 fne kriznik anton',\n",
       " 'rate plate mum xw g 01 dummi rate plate mum5xw40g 0000 materi potenti produc intern z41 fne herman jan',\n",
       " 'washer hing r330 design part gener washer hinge10 1000 materi potenti produc intern kr6 dnak wang yan',\n",
       " 'pusher ii waterclear r240 transpar part gener pusher ii waterclear 43000 materi potenti produc intern z20 fne kriznik anton',\n",
       " 'pusher ii luran r240 transpar part gener pusher ii luran 50000 materi potenti produc intern z20 fne kriznik anton',\n",
       " 'arm joint assm ii hf mr ac r314 unit incl assembl arm joint assm ii hf mr130ac 0117 materi potenti produc intern z41 fne herman jan',\n",
       " 'arm joint lower ii hf mr ac 01 dummi arm joint lower ii hf mr130ac 0000 materi potenti produc intern z41 fne herman jan',\n",
       " 'arm joint lower ii uf w 01 dummi arm joint lower ii uf w3200 0000 materi potenti produc intern z41 fne herman jan',\n",
       " 'arm joint lower ii hf c 01 dummi arm joint lower ii hf c9021 0000 materi potenti produc intern z41 fne herman jan',\n",
       " 'arm joint ring ii hf mr ac 01 dummi arm joint ring ii hf mr130ac 0000 materi potenti produc intern z41 fne herman jan',\n",
       " 'arm joint ring ii uf w 01 dummi arm joint ring ii uf w3200 0000 materi potenti produc intern z41 fne herman jan',\n",
       " 'arm joint ring ii hf c 01 dummi arm joint ring ii hf c9021 0000 materi potenti produc intern z41 fne herman jan',\n",
       " 'arm joint upper ii hf mr ac 01 dummi arm joint upper ii hf mr130ac 0000 materi potenti produc intern z41 fne herman jan',\n",
       " 'arm joint upper ii uf w 01 dummi arm joint upper ii uf w3200 0000 materi potenti produc intern z41 fne herman jan',\n",
       " 'arm joint upper ii hf c 01 dummi arm joint upper ii hf c9021 0000 materi potenti produc intern z41 fne herman jan',\n",
       " 'lock slider ii hf mr ac 01 dummi lock slider ii hf mr130ac 0000 materi potenti produc intern z41 fne herman jan',\n",
       " 'lock slider ii uf w 01 dummi lock slider ii uf w3200 0000 materi potenti produc intern z41 fne herman jan',\n",
       " 'lock slider ii hf c 01 dummi lock slider ii hf c9021 0000 materi potenti produc intern z41 fne herman jan',\n",
       " 'pasta roll muz nv ver cpl k805 metal modul product accessori metal pasta roll muz5nv1 ver01 cpl 0662 materi potenti produc intern z41 fne herman jan',\n",
       " 'pasta roll muz nv ver cpl k805 metal modul product accessori metal pasta roll muz5nv2 ver01 cpl 0649 materi potenti produc intern z41 fne herman jan',\n",
       " 'pasta roll muz nv ver cpl k805 metal modul product accessori metal pasta roll muz5nv3 ver01 cpl 0655 materi potenti produc intern z41 fne herman jan',\n",
       " 'connector muz nv ver 01 dummi connector muz5nv ver01 0000 materi extern procur z41 fne herman jan',\n",
       " 'arm hous lower k ral as 01 dummi arm hous lower k16 ral9005 as 0000 materi potenti produc intern z20 fne kriznik anton',\n",
       " 'arm hous lower k vzf as 01 dummi arm hous lower k16 vzf07020 as 0000 materi potenti produc intern z20 fne kriznik anton',\n",
       " 'arm hous lower k vzf as 01 dummi arm hous lower k16 vzf03003 as 0000 materi potenti produc intern z20 fne kriznik anton',\n",
       " 'arm hous mum iv white alu r222 complex hybrid partsmet overinject arm hous mum5 iv white alu 0000 materi potenti produc intern z41 fne herman jan',\n",
       " 'arm hous iv mum vzf r222 complex hybrid partsmet overinject arm hous iv mum57 vzf09204 0000 materi potenti produc intern z41 fne herman jan',\n",
       " 'lock ring mum hf ii r310 technic part gener lock ring mum4 hf9021 ii 0015 materi potenti produc intern z20 fne kriznik anton',\n",
       " 'lock slider mum hf ii r310 technic part gener lock slider mum4 hf9021 ii 0013 materi potenti produc intern z20 fne kriznik anton',\n",
       " 'lock slider k hf r310 technic part gener lock slider k16 hf9021 0000 materi potenti produc intern z20 fne kriznik anton',\n",
       " 'bear ring mum hf r310 technic part gener bear ring mum4 hf9021 3040 materi potenti produc intern z20 fne kriznik anton',\n",
       " 'seal mixer cap mum ii t030 rubber part gener seal mixer cap mum5 ii 0000 materi extern procur z41 fne herman jan',\n",
       " 'bush bear mmr v r221 complex technic part special surfac requir bush bear mmr v01 0000 materi extern procur z05 fne sotlar saso',\n",
       " 'beat disc mmr ii panton c 01 dummi beat disc mmr0801 ii panton 11c 0000 materi potenti produc intern z05 fne sotlar saso',\n",
       " 'beat disc mmr ii 01 dummi beat disc mmr0801 ii 0000 materi potenti produc intern z05 fne sotlar saso',\n",
       " 'base applianc mum er 01 dummi base applianc mums2er30 0000 materi potenti produc intern z20 fne kriznik anton',\n",
       " 'base applianc mum aw 01 dummi base applianc mums2aw21 0000 materi potenti produc intern z20 fne kriznik anton',\n",
       " 'basic applianc mmr r gb y33 spare part subcontract sbasic applianc mmr08r1gb 0000 materi potenti produc intern z05 fne sotlar saso',\n",
       " 'citruspress cone mum ii cc 01 dummi citruspress cone mum5 ii cc050003 0000 materi potenti produc intern z41 fne herman jan',\n",
       " 'hous mum vzf v mat r330 design part gener hous mum5 vzf07020 v mat 580000 materi potenti produc intern z41 fne herman jan',\n",
       " 'base applianc mum xw min grey ral 01 dummi base applianc mum5xw mingreyral9006 0000 materi potenti produc intern z41 fne herman jan',\n",
       " 'window sy p se fx lt k r e k r261 window complex unit window sy p500sefx0ltkrsek0 4500 materi potenti produc intern wxh dlcb unal utkugorkem',\n",
       " 'iu ne pg f sv en x810 print materi gener iu ne pg90f sv en 0000 materi extern procur undefin',\n",
       " 'iu ne pg f sv e pt x810 print materi gener iu ne pg90f sv espt 0000 materi extern procur undefin',\n",
       " 'iu ne pg f sv fr x810 print materi gener iu ne pg90f sv frit 0000 materi extern procur undefin',\n",
       " 'bowl tritan renew k r334 unit incl assembl bowl tritan renew k16 0406 materi potenti produc intern z20 fne kriznik anton',\n",
       " 'stirrer mum iii cpl h733 wire good made stainless steel stirrer mum4 iii cpl 0060 materi potenti produc intern z20 fne kriznik anton',\n",
       " 'arm joint ring c eco iii 01 dummi arm joint ring c27021eco iii 0000 materi potenti produc intern z41 fne herman jan',\n",
       " 'lock slider c eco iii 01 dummi lock slider c27021eco iii 0000 materi potenti produc intern z41 fne herman jan',\n",
       " 'lock slider mr ac iii 01 dummi lock slider mr130ac iii 0000 materi potenti produc intern z41 fne herman jan',\n",
       " 'arm joint ring mr ac iii 01 dummi arm joint ring mr130ac iii 0000 materi potenti produc intern z41 fne herman jan',\n",
       " 'arm joint upper c eco iii 01 dummi arm joint upper c27021eco iii 0000 materi potenti produc intern z41 fne herman jan',\n",
       " 'arm joint upper mr ac iii 01 dummi arm joint upper mr130ac iii 0000 materi potenti produc intern z41 fne herman jan',\n",
       " 'arm joint lower c eco iii 01 dummi arm joint lower c27021eco iii 0000 materi potenti produc intern z41 fne herman jan',\n",
       " 'arm joint lower mr ac iii 01 dummi arm joint lower mr130ac iii 0000 materi potenti produc intern z41 fne herman jan',\n",
       " 'cover cc mum ii 01 dummi cover cc mum5 ii 0000 materi potenti produc intern z41 fne herman jan',\n",
       " 'bowl plastic mixer mum iv tritan 01 dummi bowl plastic mixer mum5 iv tritan 0000 materi potenti produc intern z41 fne herman jan',\n",
       " 'funnel fw mum ii ral v r330 design part gener funnel fw mum45 ii ral7021 v01 96200 materi potenti produc intern z20 fne kriznik anton',\n",
       " 'ep small md dond r522 ep wire cut part epssmal md65 dond 0024 materi potenti produc intern kt3 frfc zhang kaixuan',\n",
       " 'hous mum v vzf print r330 design part gener hous mum5 v vzf01017 print 580000 materi potenti produc intern z41 fne herman jan',\n",
       " 'hous mum v vzf print r330 design part gener hous mum5 v vzf03003 print 580000 materi potenti produc intern z41 fne herman jan',\n",
       " 'hous mum v vzf print r330 design part gener hous mum5 v vzf04007 print 580000 materi potenti produc intern z41 fne herman jan',\n",
       " 'hous mum v vzf print r330 design part gener hous mum5 v vzf04043 print 580000 materi potenti produc intern z41 fne herman jan',\n",
       " 'hous mum v vzf print r210 technic part gener hous mum5 v vzf05054 print 0586 materi potenti produc intern z41 fne herman jan',\n",
       " 'hous mum v vzf print r330 design part gener hous mum5 v vzf07147 print 602000 materi potenti produc intern z41 fne herman jan',\n",
       " 'hous mum v vzf print r330 design part gener hous mum5 v vzf06042 print 0000 materi potenti produc intern z41 fne herman jan',\n",
       " 'hous mum v vzf print r330 design part gener hous mum5 v vzf04053 print 0000 materi potenti produc intern z41 fne herman jan',\n",
       " 'hous mum v vzf print r330 design part gener hous mum5 v vzf01029 print 0000 materi potenti produc intern z41 fne herman jan',\n",
       " 'base applianc mum vm g 01 dummi base applianc mums2vm40g 0000 materi potenti produc intern z20 fne kriznik anton',\n",
       " 'rate plate mum vm g 01 dummi rate plate mums2vm40g 0000 materi potenti produc intern z20 fne kriznik anton',\n",
       " 'p design set gg black tint r252 inject compon window p500designsetggblacktint 750000 materi potenti produc intern wxh dlcb unal utkugorkem',\n",
       " 'width mm p068 die cut adhes tape 3m4920 width22mm 300000 materi extern procur vn1 fcgna lu chang',\n",
       " 'citruspress cone mum r220 complex technic part gener citruspress cone mum5 0000 materi potenti produc intern z41 fne herman jan',\n",
       " 'connect wire set lif mum l59 spare part wire har connect wire set lif mum47 0120 materi extern procur z20 fne kriznik anton',\n",
       " 'automat cabl reel bracket mum ch m360 control panelsystem compon gener automat cabl reel bracket mum5 ch 0000 materi extern procur z41 fne herman jan',\n",
       " 'suppli cord mum ch l510 power cord eu w 3 pole faston idc suppli cord mum5 ch 0000 materi extern procur z41 fne herman jan',\n",
       " 'plastic bowl mum r210 technic part gener plastic bowl mum5 0408 materi potenti produc intern z41 fne herman jan',\n",
       " 'steel bowl mum kpl vzf h712 toolrel inox stamp part high complex aesthet steel bowl mum4 kpl vzf03003 01 0645 materi extern procur z20 fne kriznik anton',\n",
       " 'steel bowl mum compl ral h712 toolrel inox stamp part high complex aesthet steel bowl mum4 complral7021 01 0645 materi extern procur z20 fne kriznik anton',\n",
       " 'steel bowl mum kpl vzf ver h712 toolrel inox stamp part high complex aesthet steel bowl mum4 kpl vzf07020 ver01 0645 materi extern procur z20 fne kriznik anton',\n",
       " 'slider mum ii r310 technic part gener slider mum5 ii 1000 materi potenti produc intern z41 fne herman jan',\n",
       " 'lid bowl cube cutter mum cpl r225 xxx use anymor lid bowl cube cutter mum5 cpl 0000 materi extern procur z41 fne herman jan',\n",
       " 'activ pin cube cutter mum r221 complex technic part special surfac requir activ pin cube cutter mum5 9600 materi extern procur z41 fne herman jan',\n",
       " 'bowl cube cutter mum cpl r215 xxx use anymor bowl cube cutter mum5 cpl 0000 materi extern procur z41 fne herman jan',\n",
       " 'bowl cube cutter mum 01 dummi bowl cube cutter mum5 305000 materi extern procur z41 fne herman jan',\n",
       " 'sleev bowl mum r221 complex technic part special surfac requir sleev bowl mum5 2700 materi extern procur z41 fne herman jan',\n",
       " 'coupl cpl cube cutter mum r225 xxx use anymor coupl cpl cube cutter mum5 0000 materi extern procur z41 fne herman jan',\n",
       " 'drive axi cc mum cpl 01 dummi drive axi cc mum5 cpl 0000 materi extern procur z41 fne herman jan',\n",
       " 'drive axi cc mum 01 dummi drive axi cc mum5 37300 materi extern procur z41 fne herman jan',\n",
       " 'retain washer mum 01 dummi retain washer mum5 0100 materi extern procur z41 fne herman jan',\n",
       " 'retain washer mum 01 dummi retain washer 7 mum5 0600 materi extern procur z41 fne herman jan',\n",
       " 'spring cc mum 01 dummi spring cc mum5 3400 materi extern procur z41 fne herman jan',\n",
       " 'coupl holder cc mum cpl 01 dummi coupl holder cc mum5 cpl 30000 materi extern procur z41 fne herman jan',\n",
       " 'coupl holder cc mum 01 dummi coupl holder cc mum5 15300 materi extern procur z41 fne herman jan',\n",
       " 'drive washer cc mum 01 dummi drive washer cc mum5 3900 materi extern procur z41 fne herman jan',\n",
       " 'ejector cc mum cpl 01 dummi ejector cc mum5 cpl 42000 materi extern procur z41 fne herman jan',\n",
       " 'ejector cc mum 01 dummi ejector cc mum5 36500 materi extern procur z41 fne herman jan',\n",
       " 'metal tube cc mum 01 dummi metal tube cc mum5 3200 materi extern procur z41 fne herman jan',\n",
       " 'safeti clutch cc mum r221 complex technic part special surfac requir safeti clutch cc mum5 8200 materi extern procur z41 fne herman jan',\n",
       " 'cover cc mum pin holder r31 spare part small technic cover cc mum5 pin holder 0000 materi potenti produc intern z41 fne herman jan',\n",
       " 'bowl lid mum 01 dummi bowl lid mum5 0000 materi potenti produc intern z41 fne herman jan',\n",
       " 'bevel gear hous mum cpl emc micron 01 dummi bevel gear hous mum5 cpl emc micron 0000 materi potenti produc intern z41 fne herman jan',\n",
       " 'juicer mum 01 dummi juicer mum5 0000 materi potenti produc intern z41 fne herman jan',\n",
       " 'cutter fw x ver k800 metal modul product gener cutter fw d465x95 ver02 0000 materi extern procur z20 fne kriznik anton',\n",
       " 'suppli cord mum vzf eu l511 power cord eu w 2 pole suppli cord mum5 vzf07020 eu 01 101000 materi extern procur z41 fne herman jan',\n",
       " 'rate plate mum 01 dummi rate plate mum54251 0000 materi potenti produc intern z41 fne herman jan',\n",
       " 'cut disc cupl mum r310 technic part gener cut disc cupl mum5 0000 materi potenti produc intern z41 fne herman jan',\n",
       " 'lower arm white alu assm white base 01 dummi lower arm white alu assm white base 0000 materi potenti produc intern z41 fne herman jan',\n",
       " 'typenschild mum au 01 dummi typenschild mum56340au 0000 materi potenti produc intern z41 fne herman jan',\n",
       " 'label mum au 01 dummi label mum52120au 0000 materi potenti produc intern z41 fne herman jan',\n",
       " 'bottom mum ral mat r221 complex technic part special surfac requir bottom mum5 ral7021 mat 0270 materi potenti produc intern z41 fne herman jan',\n",
       " 'dough hook mum compl h733 wire good made stainless steel dough hook mum4 compl 0049 materi potenti produc intern z20 fne kriznik anton',\n",
       " 'drive cover mum r310 technic part gener drive cover mum52 0032 materi potenti produc intern z41 fne herman jan',\n",
       " 'segment mum ii 01 dummi segment mum4 ii 0000 materi potenti produc intern z20 fne kriznik anton',\n",
       " 'slider mum ii 01 dummi slider mum4 ii 0000 materi potenti produc intern z20 fne kriznik anton',\n",
       " 'bar handl mum rec r220 complex technic part gener bar handl mum5 rec 5000 materi potenti produc intern z41 fne herman jan',\n",
       " 'cover top hing left r330 design part gener cover top hing left 0030 materi potenti produc intern kja dnak wu xiaofei',\n",
       " 'cover top hing right r330 design part gener cover top hing right 0032 materi potenti produc intern kja dnak wu xiaofei',\n",
       " 'cover top hing le silver r330 design part gener cover top hing lesilv 0030 materi potenti produc intern kj2 dnak liu qinchao',\n",
       " 'cover top hing ri silver r330 design part gener cover top hing risilv 0030 materi potenti produc intern kj2 dnak liu qinchao',\n",
       " 'cover top hing le st silver r330 design part gener cover top hing lest silver 0030 materi potenti produc intern kj2 dnak liu qinchao',\n",
       " 'cover top hing ri st silver r330 design part gener cover top hing rist silver 0030 materi potenti produc intern kj2 dnak liu qinchao',\n",
       " 'top hing cover left rna r330 design part gener top hing cover left rna 0056 materi potenti produc intern kj2 dnak liu qinchao',\n",
       " 'top hing cover left st rna r330 design part gener top hing cover left st rna 0056 materi potenti produc intern kj2 dnak liu qinchao',\n",
       " 'cover top hing le cast iron r330 design part gener cover top hing le cast iron 0030 materi potenti produc intern kj2 dnak liu qinchao',\n",
       " 'cover top hing ri cast iron r330 design part gener cover top hing ri cast iron 0030 materi potenti produc intern kj2 dnak liu qinchao',\n",
       " 'cover top hing le cast iron pu r330 design part gener cover top hing le cast ironwith pu 0030 materi potenti produc intern kj2 dnak liu qinchao',\n",
       " 'cover top hing ri cast iron pu r330 design part gener cover top hing ri cast ironwith pu 0030 materi potenti produc intern kj2 dnak liu qinchao',\n",
       " 'cover top hing le inject pu r330 design part gener cover top hing leinject pu 0030 materi potenti produc intern kqu frfc xia zhaol',\n",
       " 'cover top hing ri inject pu r330 design part gener cover top hing riinject pu 0030 materi potenti produc intern kqu frfc xia zhaol',\n",
       " 'top hing cover left cast iron rna r330 design part gener top hing cover left cast iron rna 0056 materi potenti produc intern kq frfc wang chuanxin',\n",
       " 'bake tray enamal perforatedbrownek h332 toolrel stamp part mediumlow complex bake tray enamal perforatedbrownek 0000 materi potenti produc intern h3o fcgi kocaman yusuf',\n",
       " 'top hing cover left vzf rna r330 design part gener top hing cover left vzf09332 rna 0056 materi potenti produc intern kj2 dnak liu qinchao',\n",
       " 'spring hanger r314 unit incl assembl spring hanger 1000 materi potenti produc intern wtx dlcb schmidt stefan',\n",
       " 'giftbox artwork msm ver q110 corrug board fold box gener giftbox artwork msm6m610 ver01 110000 materi extern procur cs8 fne plohl ale',\n",
       " 'side panel long ic thick h330 stamp drawn bent part gener side panel long ic2 06 thick 0000 materi potenti produc intern ho9 fcgi akbulut ismail berk',\n",
       " 'bake tray enamal perfor brown 01 dummi bake tray enamal perfor brown 0000 materi potenti produc intern fcgt oldmateri',\n",
       " 'ceram plate n700 black ceram glass standard ceram plate 4250 materi extern procur undefin',\n",
       " 'ceram plate n700 black ceram glass standard ceram plate 4750 materi extern procur undefin',\n",
       " 'ceram plate n700 black ceram glass standard ceram plate 4250 materi extern procur undefin',\n",
       " 'ceram plate n700 black ceram glass standard ceram plate 4750 materi extern procur undefin',\n",
       " 'iu ii bo hbj sg r uk evo 01 dummi iuii bo hbj517sg0r uk evo 0000 materi extern procur hod fcgi sir cagatay',\n",
       " 'neff side trim sc cpl wd h ed l h712 toolrel inox stamp part high complex aesthet neff side trim sc cpl wd29sh ed l 202 238000 materi potenti produc intern h12 fcgb apostolidi christoph',\n",
       " 'cooler access siemen kg n idc 01 dummi cooler access siemen kg39n2idc 0000 materi potenti produc intern kcd fik sami sinem',\n",
       " 'cooler access bosch kgn ldc 01 dummi cooler access bosch kgn392ldc 0000 materi potenti produc intern kcd fik sami sinem',\n",
       " 'neff side trim sc cpl wd h ed r h712 toolrel inox stamp part high complex aesthet neff side trim sc cpl wd29sh ed r 22 238000 materi potenti produc intern h12 fcgb apostolidi christoph',\n",
       " 'neff side trim sc cpl wd h gg l h712 toolrel inox stamp part high complex aesthet neff side trim sc cpl wd29sh gg l 22 238000 materi potenti produc intern h12 fcgb apostolidi christoph',\n",
       " 'neff side trim sc cpl wd h gg r h712 toolrel inox stamp part high complex aesthet neff side trim sc cpl wd29sh gg r 22 238000 materi potenti produc intern h12 fcgb apostolidi christoph',\n",
       " 'sh x x vzf grey l g270 coil coat other sh 038x6213x315605 vzf07238grey235l 6070 materi potenti produc intern l0n dci padavala veerendranath',\n",
       " 'sh x x vzf grey l g270 coil coat other sh 038x6213x296305 vzf07238grey215l 5636 materi potenti produc intern l0n dci padavala veerendranath',\n",
       " 'sh x x vzf grey l g270 coil coat other sh 038x6213x278105 vzf07238grey195l 5290 materi potenti produc intern l0n dci padavala veerendranath',\n",
       " 'ir irc connect l592 idcidc jumper irsirc connect 0001 materi extern procur smx fcgm sanchez eva',\n",
       " 'sh x x vzf s eclean g670 ferrit stainless steel other sh 060x08895x12060 vzf09225 s eclean 5044 materi potenti produc intern kgu fik unal gokhan',\n",
       " 'sh x x vzf s eclean g670 ferrit stainless steel other sh 060x08895x630 vzf09225 s eclean 2635 materi potenti produc intern kgu fik unal gokhan',\n",
       " 'user manual instal se da 01 dummi user manual instal se da 0000 materi extern procur hiq fcgm maestro anabel',\n",
       " 'user manual instal bo nl 01 dummi user manual instal bo nl 0000 materi extern procur hiq fcgm maestro anabel',\n",
       " 'legend sticker f v sel k sk ac h603 adhes legend legend sticker f12v2selkskme400ac 0008 materi potenti produc intern wl0 flcl default flw',\n",
       " 'leg st wf v bol e aa ba da je h603 adhes legend leg st wf12v2boleme400aame400badaj 0008 materi potenti produc intern wl0 flcl default flw',\n",
       " 'leg st wf v bol e aa ba en je h603 adhes legend leg st wf12v2boleme400aame400baenj 0008 materi potenti produc intern wl0 flcl default flw',\n",
       " 'leg st wf v bol e aa ba fi je h603 adhes legend leg st wf12v2boleme400aame400bafij 0008 materi potenti produc intern wl0 flcl default flw',\n",
       " 'leg st wf v bol e aa ba je h603 adhes legend leg st wf12v2boleme400aame400banoj 0008 materi potenti produc intern wl0 flcl default flw',\n",
       " 'legend sticker f v sel k en bc h603 adhes legend legend sticker f12v2selkenme400bc 0008 materi potenti produc intern wl0 flcl default flw',\n",
       " 'legend sticker f v sel k fi bc h603 adhes legend legend sticker f12v2selkfime400bc 0008 materi potenti produc intern wl0 flcl default flw',\n",
       " 'legend sticker f v sel k bc h603 adhes legend legend sticker f12v2selknome400bc 0008 materi potenti produc intern wl0 flcl default flw',\n",
       " 'legend sticker f v sel k sv bc h603 adhes legend legend sticker f12v2selksvme400bc 0008 materi potenti produc intern wl0 flcl default flw',\n",
       " 'legend sticker f v sel k en bc h603 adhes legend legend sticker f12v2selkenme400bc 0008 materi potenti produc intern wl0 flcl default flw',\n",
       " 'legend sticker f v sel k fi bc h603 adhes legend legend sticker f12v2selkfime400bc 0008 materi potenti produc intern wl0 flcl default flw',\n",
       " 'legend sticker f v sel k bc h603 adhes legend legend sticker f12v2selknome400bc 0008 materi potenti produc intern wl0 flcl default flw',\n",
       " 'legend sticker f v sel k sv bc h603 adhes legend legend sticker f12v2selksvme400bc 0008 materi potenti produc intern wl0 flcl default flw',\n",
       " 'legend sticker f v sel k en ad h603 adhes legend legend sticker f12v2selkenme400ad 0008 materi potenti produc intern wl0 flcl default flw',\n",
       " 'legend sticker f v sel k fi ad h603 adhes legend legend sticker f12v2selkfime400ad 0008 materi potenti produc intern wl0 flcl default flw',\n",
       " 'legend sticker f v sel k ad h603 adhes legend legend sticker f12v2selknome400ad 0008 materi potenti produc intern wl0 flcl default flw',\n",
       " 'legend sticker f v sel k sv ad h603 adhes legend legend sticker f12v2selksvme400ad 0008 materi potenti produc intern wl0 flcl default flw',\n",
       " 'legend sticker f v sel k en ac h603 adhes legend legend sticker f12v2selkenme400ac 0008 materi potenti produc intern wl0 flcl default flw',\n",
       " 'legend sticker f v sel k fi ac h603 adhes legend legend sticker f12v2selkfime400ac 0008 materi potenti produc intern wl0 flcl default flw',\n",
       " 'legend sticker f v sel k ac h603 adhes legend legend sticker f12v2selknome400ac 0008 materi potenti produc intern wl0 flcl default flw',\n",
       " 'legend sticker f v sel k sv ac h603 adhes legend legend sticker f12v2selksvme400ac 0008 materi potenti produc intern wl0 flcl default flw',\n",
       " 'lw assi wf mbolo p rins plu 01 dummi lw assywf44mboloep14rinseplusa 0000 materi potenti produc intern flci avci behic',\n",
       " 'plastic frame protect grid asg r312 hybrid part metal overinject plastic frame protect grid asg 500320 materi potenti produc intern vaz fcgb leicht vadim',\n",
       " 'accessori set hbj eb evo x810 print materi gener accessori set hbj534eb0i evo 0000 materi potenti produc intern h3x fcgi tasdemir burcu',\n",
       " 'ii iu bo hbj eb en evo 01 dummi ii iu bo hbj534eb0i en evo 0000 materi extern procur h3x fcgi tasdemir burcu',\n",
       " 'accessori set hbj eb evo x810 print materi gener accessori set hbj577eb0i evo 0000 materi potenti produc intern h3x fcgi tasdemir burcu',\n",
       " 'ii iu bo hbj eb en evo 01 dummi ii iu bo hbj577eb0i en evo 0000 materi extern procur h3x fcgi tasdemir burcu',\n",
       " 'paper x x810 print materi gener paper 160x150 2000 materi extern procur cs0 fne default',\n",
       " 'tesa tape ta c p065 adhes tape paper tesa tape 642844 ta c6 2680 materi extern procur z23 fne remsak vitko',\n",
       " 'cosmet paper ta c q193 packag materi cosmet paper ta c9 7000 materi extern procur 119 pcptpbdsc ovijac']"
      ]
     },
     "execution_count": 8,
     "metadata": {},
     "output_type": "execute_result"
    }
   ],
   "source": [
    "df_list = df.iloc[:,0].values.tolist()\n",
    "df_list"
   ]
  },
  {
   "cell_type": "code",
   "execution_count": 9,
   "metadata": {},
   "outputs": [
    {
     "name": "stderr",
     "output_type": "stream",
     "text": [
      "Downloading (…)0fe39/.gitattributes: 100%|██████████| 968/968 [00:00<00:00, 99.3kB/s]\n",
      "Downloading (…)_Pooling/config.json: 100%|██████████| 190/190 [00:00<00:00, 29.1kB/s]\n",
      "Downloading (…)83e900fe39/README.md: 100%|██████████| 3.79k/3.79k [00:00<00:00, 627kB/s]\n",
      "Downloading (…)e900fe39/config.json: 100%|██████████| 645/645 [00:00<00:00, 111kB/s]\n",
      "Downloading (…)ce_transformers.json: 100%|██████████| 122/122 [00:00<00:00, 23.7kB/s]\n",
      "Downloading pytorch_model.bin: 100%|██████████| 471M/471M [00:16<00:00, 28.9MB/s] \n",
      "Downloading (…)nce_bert_config.json: 100%|██████████| 53.0/53.0 [00:00<00:00, 9.13kB/s]\n",
      "Downloading (…)tencepiece.bpe.model: 100%|██████████| 5.07M/5.07M [00:00<00:00, 18.1MB/s]\n",
      "Downloading (…)cial_tokens_map.json: 100%|██████████| 239/239 [00:00<00:00, 42.9kB/s]\n",
      "Downloading tokenizer.json: 100%|██████████| 9.08M/9.08M [00:00<00:00, 23.4MB/s]\n",
      "Downloading (…)okenizer_config.json: 100%|██████████| 480/480 [00:00<00:00, 74.6kB/s]\n",
      "Downloading unigram.json: 100%|██████████| 14.8M/14.8M [00:00<00:00, 25.4MB/s]\n",
      "Downloading (…)900fe39/modules.json: 100%|██████████| 229/229 [00:00<00:00, 47.8kB/s]\n"
     ]
    }
   ],
   "source": [
    "from bertopic import BERTopic\n",
    "\n",
    "topic_model = BERTopic(language=\"multilingual\") \n",
    "topics, probs = topic_model.fit_transform(df_list)"
   ]
  },
  {
   "cell_type": "code",
   "execution_count": 10,
   "metadata": {},
   "outputs": [
    {
     "data": {
      "text/html": [
       "<div>\n",
       "<style scoped>\n",
       "    .dataframe tbody tr th:only-of-type {\n",
       "        vertical-align: middle;\n",
       "    }\n",
       "\n",
       "    .dataframe tbody tr th {\n",
       "        vertical-align: top;\n",
       "    }\n",
       "\n",
       "    .dataframe thead th {\n",
       "        text-align: right;\n",
       "    }\n",
       "</style>\n",
       "<table border=\"1\" class=\"dataframe\">\n",
       "  <thead>\n",
       "    <tr style=\"text-align: right;\">\n",
       "      <th></th>\n",
       "      <th>Topic</th>\n",
       "      <th>Count</th>\n",
       "      <th>Name</th>\n",
       "    </tr>\n",
       "  </thead>\n",
       "  <tbody>\n",
       "    <tr>\n",
       "      <th>0</th>\n",
       "      <td>-1</td>\n",
       "      <td>164</td>\n",
       "      <td>-1_bottom_materi_evo_produc</td>\n",
       "    </tr>\n",
       "    <tr>\n",
       "      <th>1</th>\n",
       "      <td>0</td>\n",
       "      <td>63</td>\n",
       "      <td>0_cc_slider_mum_mum5</td>\n",
       "    </tr>\n",
       "    <tr>\n",
       "      <th>2</th>\n",
       "      <td>1</td>\n",
       "      <td>45</td>\n",
       "      <td>1_arm_joint_lower_herman</td>\n",
       "    </tr>\n",
       "    <tr>\n",
       "      <th>3</th>\n",
       "      <td>2</td>\n",
       "      <td>44</td>\n",
       "      <td>2_basic_applianc_y33_sbasic</td>\n",
       "    </tr>\n",
       "    <tr>\n",
       "      <th>4</th>\n",
       "      <td>3</td>\n",
       "      <td>33</td>\n",
       "      <td>3_fold_box_fcpr_corrug</td>\n",
       "    </tr>\n",
       "    <tr>\n",
       "      <th>5</th>\n",
       "      <td>4</td>\n",
       "      <td>32</td>\n",
       "      <td>4_hing_top_dnak_left</td>\n",
       "    </tr>\n",
       "    <tr>\n",
       "      <th>6</th>\n",
       "      <td>5</td>\n",
       "      <td>31</td>\n",
       "      <td>5_stand_z20_kriznik_anton</td>\n",
       "    </tr>\n",
       "    <tr>\n",
       "      <th>7</th>\n",
       "      <td>6</td>\n",
       "      <td>30</td>\n",
       "      <td>6_sh_coat_coil_other</td>\n",
       "    </tr>\n",
       "    <tr>\n",
       "      <th>8</th>\n",
       "      <td>7</td>\n",
       "      <td>28</td>\n",
       "      <td>7_wire_har_cabl_reel</td>\n",
       "    </tr>\n",
       "    <tr>\n",
       "      <th>9</th>\n",
       "      <td>8</td>\n",
       "      <td>26</td>\n",
       "      <td>8_chopper_y335_f30_subcontract</td>\n",
       "    </tr>\n",
       "    <tr>\n",
       "      <th>10</th>\n",
       "      <td>9</td>\n",
       "      <td>25</td>\n",
       "      <td>9_legend_sticker_adhes_wl0</td>\n",
       "    </tr>\n",
       "    <tr>\n",
       "      <th>11</th>\n",
       "      <td>10</td>\n",
       "      <td>25</td>\n",
       "      <td>10_hous_upper_assem_arm</td>\n",
       "    </tr>\n",
       "    <tr>\n",
       "      <th>12</th>\n",
       "      <td>11</td>\n",
       "      <td>23</td>\n",
       "      <td>11_drive_cover_r336_cpl</td>\n",
       "    </tr>\n",
       "    <tr>\n",
       "      <th>13</th>\n",
       "      <td>12</td>\n",
       "      <td>23</td>\n",
       "      <td>12_base_applianc_ew_z20</td>\n",
       "    </tr>\n",
       "    <tr>\n",
       "      <th>14</th>\n",
       "      <td>13</td>\n",
       "      <td>23</td>\n",
       "      <td>13_rate_plate_z41_jan</td>\n",
       "    </tr>\n",
       "    <tr>\n",
       "      <th>15</th>\n",
       "      <td>14</td>\n",
       "      <td>22</td>\n",
       "      <td>14_gift_box_piela_karolina</td>\n",
       "    </tr>\n",
       "    <tr>\n",
       "      <th>16</th>\n",
       "      <td>15</td>\n",
       "      <td>22</td>\n",
       "      <td>15_user_manual_print_fr</td>\n",
       "    </tr>\n",
       "    <tr>\n",
       "      <th>17</th>\n",
       "      <td>16</td>\n",
       "      <td>21</td>\n",
       "      <td>16_gehaeusedeckel_mmr_knife_saso</td>\n",
       "    </tr>\n",
       "    <tr>\n",
       "      <th>18</th>\n",
       "      <td>17</td>\n",
       "      <td>20</td>\n",
       "      <td>17_580000_hous_r210_mum5</td>\n",
       "    </tr>\n",
       "    <tr>\n",
       "      <th>19</th>\n",
       "      <td>18</td>\n",
       "      <td>18</td>\n",
       "      <td>18_button_press_asm_k16</td>\n",
       "    </tr>\n",
       "    <tr>\n",
       "      <th>20</th>\n",
       "      <td>19</td>\n",
       "      <td>18</td>\n",
       "      <td>19_side_hip_paint_r335</td>\n",
       "    </tr>\n",
       "    <tr>\n",
       "      <th>21</th>\n",
       "      <td>20</td>\n",
       "      <td>18</td>\n",
       "      <td>20_blender_16000_r314_cpl</td>\n",
       "    </tr>\n",
       "    <tr>\n",
       "      <th>22</th>\n",
       "      <td>21</td>\n",
       "      <td>17</td>\n",
       "      <td>21_bowl_cube_cutter_tritan</td>\n",
       "    </tr>\n",
       "    <tr>\n",
       "      <th>23</th>\n",
       "      <td>22</td>\n",
       "      <td>16</td>\n",
       "      <td>22_print_hous_580000_r330</td>\n",
       "    </tr>\n",
       "    <tr>\n",
       "      <th>24</th>\n",
       "      <td>23</td>\n",
       "      <td>16</td>\n",
       "      <td>23_panel_switch_h61_palacio</td>\n",
       "    </tr>\n",
       "    <tr>\n",
       "      <th>25</th>\n",
       "      <td>24</td>\n",
       "      <td>16</td>\n",
       "      <td>24_pi_label_0540_maciolek</td>\n",
       "    </tr>\n",
       "    <tr>\n",
       "      <th>26</th>\n",
       "      <td>25</td>\n",
       "      <td>16</td>\n",
       "      <td>25_case_circular_r220_cover</td>\n",
       "    </tr>\n",
       "    <tr>\n",
       "      <th>27</th>\n",
       "      <td>26</td>\n",
       "      <td>16</td>\n",
       "      <td>26_hook_dough_compl_good</td>\n",
       "    </tr>\n",
       "    <tr>\n",
       "      <th>28</th>\n",
       "      <td>27</td>\n",
       "      <td>16</td>\n",
       "      <td>27_ceram_glass_001_cristal</td>\n",
       "    </tr>\n",
       "    <tr>\n",
       "      <th>29</th>\n",
       "      <td>28</td>\n",
       "      <td>15</td>\n",
       "      <td>28_bowl_steel_lug_steam</td>\n",
       "    </tr>\n",
       "    <tr>\n",
       "      <th>30</th>\n",
       "      <td>29</td>\n",
       "      <td>15</td>\n",
       "      <td>29_mmr_kpl_cover_hous</td>\n",
       "    </tr>\n",
       "    <tr>\n",
       "      <th>31</th>\n",
       "      <td>30</td>\n",
       "      <td>14</td>\n",
       "      <td>30_top_sig_hous_ral</td>\n",
       "    </tr>\n",
       "    <tr>\n",
       "      <th>32</th>\n",
       "      <td>31</td>\n",
       "      <td>14</td>\n",
       "      <td>31_ring_mmr_panton_z05</td>\n",
       "    </tr>\n",
       "    <tr>\n",
       "      <th>33</th>\n",
       "      <td>32</td>\n",
       "      <td>14</td>\n",
       "      <td>32_blender_bayonett_18000_cover</td>\n",
       "    </tr>\n",
       "    <tr>\n",
       "      <th>34</th>\n",
       "      <td>33</td>\n",
       "      <td>14</td>\n",
       "      <td>33_ring_inner_outer_mum4</td>\n",
       "    </tr>\n",
       "    <tr>\n",
       "      <th>35</th>\n",
       "      <td>34</td>\n",
       "      <td>13</td>\n",
       "      <td>34_top_fascia_0098_mmr</td>\n",
       "    </tr>\n",
       "    <tr>\n",
       "      <th>36</th>\n",
       "      <td>35</td>\n",
       "      <td>12</td>\n",
       "      <td>35_base_applianc_dummi_01</td>\n",
       "    </tr>\n",
       "    <tr>\n",
       "      <th>37</th>\n",
       "      <td>36</td>\n",
       "      <td>11</td>\n",
       "      <td>36_ne_iu_annamaria_simon</td>\n",
       "    </tr>\n",
       "    <tr>\n",
       "      <th>38</th>\n",
       "      <td>37</td>\n",
       "      <td>11</td>\n",
       "      <td>37_h712_aesthet_inox_trim</td>\n",
       "    </tr>\n",
       "  </tbody>\n",
       "</table>\n",
       "</div>"
      ],
      "text/plain": [
       "    Topic  Count                              Name\n",
       "0      -1    164       -1_bottom_materi_evo_produc\n",
       "1       0     63              0_cc_slider_mum_mum5\n",
       "2       1     45          1_arm_joint_lower_herman\n",
       "3       2     44       2_basic_applianc_y33_sbasic\n",
       "4       3     33            3_fold_box_fcpr_corrug\n",
       "5       4     32              4_hing_top_dnak_left\n",
       "6       5     31         5_stand_z20_kriznik_anton\n",
       "7       6     30              6_sh_coat_coil_other\n",
       "8       7     28              7_wire_har_cabl_reel\n",
       "9       8     26    8_chopper_y335_f30_subcontract\n",
       "10      9     25        9_legend_sticker_adhes_wl0\n",
       "11     10     25           10_hous_upper_assem_arm\n",
       "12     11     23           11_drive_cover_r336_cpl\n",
       "13     12     23           12_base_applianc_ew_z20\n",
       "14     13     23             13_rate_plate_z41_jan\n",
       "15     14     22        14_gift_box_piela_karolina\n",
       "16     15     22           15_user_manual_print_fr\n",
       "17     16     21  16_gehaeusedeckel_mmr_knife_saso\n",
       "18     17     20          17_580000_hous_r210_mum5\n",
       "19     18     18           18_button_press_asm_k16\n",
       "20     19     18            19_side_hip_paint_r335\n",
       "21     20     18         20_blender_16000_r314_cpl\n",
       "22     21     17        21_bowl_cube_cutter_tritan\n",
       "23     22     16         22_print_hous_580000_r330\n",
       "24     23     16       23_panel_switch_h61_palacio\n",
       "25     24     16         24_pi_label_0540_maciolek\n",
       "26     25     16       25_case_circular_r220_cover\n",
       "27     26     16          26_hook_dough_compl_good\n",
       "28     27     16        27_ceram_glass_001_cristal\n",
       "29     28     15           28_bowl_steel_lug_steam\n",
       "30     29     15             29_mmr_kpl_cover_hous\n",
       "31     30     14               30_top_sig_hous_ral\n",
       "32     31     14            31_ring_mmr_panton_z05\n",
       "33     32     14   32_blender_bayonett_18000_cover\n",
       "34     33     14          33_ring_inner_outer_mum4\n",
       "35     34     13            34_top_fascia_0098_mmr\n",
       "36     35     12         35_base_applianc_dummi_01\n",
       "37     36     11          36_ne_iu_annamaria_simon\n",
       "38     37     11         37_h712_aesthet_inox_trim"
      ]
     },
     "execution_count": 10,
     "metadata": {},
     "output_type": "execute_result"
    }
   ],
   "source": [
    "topic_model.get_topic_info()"
   ]
  },
  {
   "cell_type": "code",
   "execution_count": 11,
   "metadata": {},
   "outputs": [
    {
     "data": {
      "text/html": [
       "<div>\n",
       "<style scoped>\n",
       "    .dataframe tbody tr th:only-of-type {\n",
       "        vertical-align: middle;\n",
       "    }\n",
       "\n",
       "    .dataframe tbody tr th {\n",
       "        vertical-align: top;\n",
       "    }\n",
       "\n",
       "    .dataframe thead th {\n",
       "        text-align: right;\n",
       "    }\n",
       "</style>\n",
       "<table border=\"1\" class=\"dataframe\">\n",
       "  <thead>\n",
       "    <tr style=\"text-align: right;\">\n",
       "      <th></th>\n",
       "      <th>Document</th>\n",
       "      <th>Topic</th>\n",
       "      <th>Name</th>\n",
       "      <th>Top_n_words</th>\n",
       "      <th>Probability</th>\n",
       "      <th>Representative_document</th>\n",
       "    </tr>\n",
       "  </thead>\n",
       "  <tbody>\n",
       "    <tr>\n",
       "      <th>0</th>\n",
       "      <td>len head screw x h002 custom screw len head sc...</td>\n",
       "      <td>19</td>\n",
       "      <td>19_side_hip_paint_r335</td>\n",
       "      <td>side - hip - paint - r335 - partsunit - cover ...</td>\n",
       "      <td>1.000000</td>\n",
       "      <td>False</td>\n",
       "    </tr>\n",
       "    <tr>\n",
       "      <th>1</th>\n",
       "      <td>cp bodi laser print wt hv fr r239 xxx use anym...</td>\n",
       "      <td>15</td>\n",
       "      <td>15_user_manual_print_fr</td>\n",
       "      <td>user - manual - print - fr - x810 - st - st4 -...</td>\n",
       "      <td>0.461506</td>\n",
       "      <td>False</td>\n",
       "    </tr>\n",
       "    <tr>\n",
       "      <th>2</th>\n",
       "      <td>user se wt hv fr fr x810 print materi gener us...</td>\n",
       "      <td>15</td>\n",
       "      <td>15_user_manual_print_fr</td>\n",
       "      <td>user - manual - print - fr - x810 - st - st4 -...</td>\n",
       "      <td>0.703518</td>\n",
       "      <td>False</td>\n",
       "    </tr>\n",
       "    <tr>\n",
       "      <th>3</th>\n",
       "      <td>fascia panel gv uc int white r250 inject part ...</td>\n",
       "      <td>34</td>\n",
       "      <td>34_top_fascia_0098_mmr</td>\n",
       "      <td>top - fascia - 0098 - mmr - integra - r220 - p...</td>\n",
       "      <td>1.000000</td>\n",
       "      <td>False</td>\n",
       "    </tr>\n",
       "    <tr>\n",
       "      <th>4</th>\n",
       "      <td>cabl har operat ee sp l592 idcidc jumper cabl ...</td>\n",
       "      <td>7</td>\n",
       "      <td>7_wire_har_cabl_reel</td>\n",
       "      <td>wire - har - cabl - reel - cord - automat - fc...</td>\n",
       "      <td>0.973129</td>\n",
       "      <td>False</td>\n",
       "    </tr>\n",
       "    <tr>\n",
       "      <th>5</th>\n",
       "      <td>cabl har operat ee mm sp l592 idcidc jumper ca...</td>\n",
       "      <td>7</td>\n",
       "      <td>7_wire_har_cabl_reel</td>\n",
       "      <td>wire - har - cabl - reel - cord - automat - fc...</td>\n",
       "      <td>1.000000</td>\n",
       "      <td>False</td>\n",
       "    </tr>\n",
       "    <tr>\n",
       "      <th>6</th>\n",
       "      <td>wire yellow green 01 dummi wire yellowgreen 00...</td>\n",
       "      <td>7</td>\n",
       "      <td>7_wire_har_cabl_reel</td>\n",
       "      <td>wire - har - cabl - reel - cord - automat - fc...</td>\n",
       "      <td>0.449025</td>\n",
       "      <td>False</td>\n",
       "    </tr>\n",
       "    <tr>\n",
       "      <th>7</th>\n",
       "      <td>wire yellow green 01 dummi wire yellowgreen 00...</td>\n",
       "      <td>7</td>\n",
       "      <td>7_wire_har_cabl_reel</td>\n",
       "      <td>wire - har - cabl - reel - cord - automat - fc...</td>\n",
       "      <td>0.439323</td>\n",
       "      <td>False</td>\n",
       "    </tr>\n",
       "    <tr>\n",
       "      <th>8</th>\n",
       "      <td>wire yellow green 01 dummi wire yellowgreen 00...</td>\n",
       "      <td>7</td>\n",
       "      <td>7_wire_har_cabl_reel</td>\n",
       "      <td>wire - har - cabl - reel - cord - automat - fc...</td>\n",
       "      <td>0.463289</td>\n",
       "      <td>False</td>\n",
       "    </tr>\n",
       "    <tr>\n",
       "      <th>9</th>\n",
       "      <td>dough hook mum compl h73 spare part wire good ...</td>\n",
       "      <td>26</td>\n",
       "      <td>26_hook_dough_compl_good</td>\n",
       "      <td>hook - dough - compl - good - made - h733 - st...</td>\n",
       "      <td>1.000000</td>\n",
       "      <td>False</td>\n",
       "    </tr>\n",
       "  </tbody>\n",
       "</table>\n",
       "</div>"
      ],
      "text/plain": [
       "                                            Document  Topic   \n",
       "0  len head screw x h002 custom screw len head sc...     19  \\\n",
       "1  cp bodi laser print wt hv fr r239 xxx use anym...     15   \n",
       "2  user se wt hv fr fr x810 print materi gener us...     15   \n",
       "3  fascia panel gv uc int white r250 inject part ...     34   \n",
       "4  cabl har operat ee sp l592 idcidc jumper cabl ...      7   \n",
       "5  cabl har operat ee mm sp l592 idcidc jumper ca...      7   \n",
       "6  wire yellow green 01 dummi wire yellowgreen 00...      7   \n",
       "7  wire yellow green 01 dummi wire yellowgreen 00...      7   \n",
       "8  wire yellow green 01 dummi wire yellowgreen 00...      7   \n",
       "9  dough hook mum compl h73 spare part wire good ...     26   \n",
       "\n",
       "                       Name   \n",
       "0    19_side_hip_paint_r335  \\\n",
       "1   15_user_manual_print_fr   \n",
       "2   15_user_manual_print_fr   \n",
       "3    34_top_fascia_0098_mmr   \n",
       "4      7_wire_har_cabl_reel   \n",
       "5      7_wire_har_cabl_reel   \n",
       "6      7_wire_har_cabl_reel   \n",
       "7      7_wire_har_cabl_reel   \n",
       "8      7_wire_har_cabl_reel   \n",
       "9  26_hook_dough_compl_good   \n",
       "\n",
       "                                         Top_n_words  Probability   \n",
       "0  side - hip - paint - r335 - partsunit - cover ...     1.000000  \\\n",
       "1  user - manual - print - fr - x810 - st - st4 -...     0.461506   \n",
       "2  user - manual - print - fr - x810 - st - st4 -...     0.703518   \n",
       "3  top - fascia - 0098 - mmr - integra - r220 - p...     1.000000   \n",
       "4  wire - har - cabl - reel - cord - automat - fc...     0.973129   \n",
       "5  wire - har - cabl - reel - cord - automat - fc...     1.000000   \n",
       "6  wire - har - cabl - reel - cord - automat - fc...     0.449025   \n",
       "7  wire - har - cabl - reel - cord - automat - fc...     0.439323   \n",
       "8  wire - har - cabl - reel - cord - automat - fc...     0.463289   \n",
       "9  hook - dough - compl - good - made - h733 - st...     1.000000   \n",
       "\n",
       "   Representative_document  \n",
       "0                    False  \n",
       "1                    False  \n",
       "2                    False  \n",
       "3                    False  \n",
       "4                    False  \n",
       "5                    False  \n",
       "6                    False  \n",
       "7                    False  \n",
       "8                    False  \n",
       "9                    False  "
      ]
     },
     "execution_count": 11,
     "metadata": {},
     "output_type": "execute_result"
    }
   ],
   "source": [
    "topic_model.get_document_info(df_list)[:10]"
   ]
  },
  {
   "cell_type": "code",
   "execution_count": 12,
   "metadata": {},
   "outputs": [
    {
     "data": {
      "application/vnd.plotly.v1+json": {
       "config": {
        "plotlyServerURL": "https://plot.ly"
       },
       "data": [
        {
         "customdata": [
          [
           0,
           "cc | slider | mum | mum5 | z41",
           63
          ],
          [
           1,
           "arm | joint | lower | herman | jan",
           45
          ],
          [
           2,
           "basic | applianc | y33 | sbasic | sotlar",
           44
          ],
          [
           3,
           "fold | box | fcpr | corrug | q110",
           33
          ],
          [
           4,
           "hing | top | dnak | left | kj2",
           32
          ],
          [
           5,
           "stand | z20 | kriznik | anton | iv",
           31
          ],
          [
           6,
           "sh | coat | coil | other | steel",
           30
          ],
          [
           7,
           "wire | har | cabl | reel | cord",
           28
          ],
          [
           8,
           "chopper | y335 | f30 | subcontract | v2",
           26
          ],
          [
           9,
           "legend | sticker | adhes | wl0 | flw",
           25
          ],
          [
           10,
           "hous | upper | assem | arm | lower",
           25
          ],
          [
           11,
           "drive | cover | r336 | cpl | 46900",
           23
          ],
          [
           12,
           "base | applianc | ew | z20 | anton",
           23
          ],
          [
           13,
           "rate | plate | z41 | jan | herman",
           23
          ],
          [
           14,
           "gift | box | piela | karolina | ef8",
           22
          ],
          [
           15,
           "user | manual | print | fr | x810",
           22
          ],
          [
           16,
           "gehaeusedeckel | mmr | knife | saso | z05",
           21
          ],
          [
           17,
           "580000 | hous | r210 | mum5 | technic",
           20
          ],
          [
           18,
           "button | press | asm | k16 | kriznik",
           18
          ],
          [
           19,
           "side | hip | paint | r335 | partsunit",
           18
          ],
          [
           20,
           "blender | 16000 | r314 | cpl | cover",
           18
          ],
          [
           21,
           "bowl | cube | cutter | tritan | plastic",
           17
          ],
          [
           22,
           "print | hous | 580000 | r330 | design",
           16
          ],
          [
           23,
           "panel | switch | h61 | palacio | antonio",
           16
          ],
          [
           24,
           "pi | label | 0540 | maciolek | ef5",
           16
          ],
          [
           25,
           "case | circular | r220 | cover | 24000",
           16
          ],
          [
           26,
           "hook | dough | compl | good | made",
           16
          ],
          [
           27,
           "ceram | glass | 001 | cristal | n70",
           16
          ],
          [
           28,
           "bowl | steel | lug | steam | plastic",
           15
          ],
          [
           29,
           "mmr | kpl | cover | hous | bosch",
           15
          ],
          [
           30,
           "top | sig | hous | ral | ii",
           14
          ],
          [
           31,
           "ring | mmr | panton | z05 | sotlar",
           14
          ],
          [
           32,
           "blender | bayonett | 18000 | cover | ii",
           14
          ],
          [
           33,
           "ring | inner | outer | mum4 | ral",
           14
          ],
          [
           34,
           "top | fascia | 0098 | mmr | integra",
           13
          ],
          [
           35,
           "base | applianc | dummi | 01 | siev",
           12
          ],
          [
           36,
           "ne | iu | annamaria | simon | hcj",
           11
          ],
          [
           37,
           "h712 | aesthet | inox | trim | sc",
           11
          ]
         ],
         "hovertemplate": "<b>Topic %{customdata[0]}</b><br>%{customdata[1]}<br>Size: %{customdata[2]}",
         "legendgroup": "",
         "marker": {
          "color": "#B0BEC5",
          "line": {
           "color": "DarkSlateGrey",
           "width": 2
          },
          "size": [
           63,
           45,
           44,
           33,
           32,
           31,
           30,
           28,
           26,
           25,
           25,
           23,
           23,
           23,
           22,
           22,
           21,
           20,
           18,
           18,
           18,
           17,
           16,
           16,
           16,
           16,
           16,
           16,
           15,
           15,
           14,
           14,
           14,
           14,
           13,
           12,
           11,
           11
          ],
          "sizemode": "area",
          "sizeref": 0.039375,
          "symbol": "circle"
         },
         "mode": "markers",
         "name": "",
         "orientation": "v",
         "showlegend": false,
         "type": "scatter",
         "x": [
          0.7714102268218994,
          3.1558847427368164,
          -12.367257118225098,
          10.121969223022461,
          4.048518657684326,
          15.251016616821289,
          0.020296931266784668,
          15.07461166381836,
          -12.357869148254395,
          15.752036094665527,
          0.9440216422080994,
          2.8851866722106934,
          15.572879791259766,
          27.485736846923828,
          10.207451820373535,
          -3.3598406314849854,
          -2.4746835231781006,
          2.9164960384368896,
          3.0078492164611816,
          0.31524816155433655,
          2.89395809173584,
          1.0896639823913574,
          2.806597948074341,
          -0.006260281428694725,
          27.103994369506836,
          0.9414758682250977,
          15.879714012145996,
          3.0767009258270264,
          11.292643547058105,
          -3.393996477127075,
          -3.553554058074951,
          -2.290107011795044,
          3.9248602390289307,
          15.650801658630371,
          -2.562997341156006,
          27.26490592956543,
          2.9625403881073,
          11.230006217956543
         ],
         "xaxis": "x",
         "y": [
          -5.297591686248779,
          -6.555501461029053,
          17.255111694335938,
          23.663497924804688,
          -5.630252838134766,
          -8.865055084228516,
          -5.492560863494873,
          -8.677453994750977,
          17.248044967651367,
          -9.409796714782715,
          -5.080541610717773,
          -6.2441253662109375,
          -9.231651306152344,
          -1.5533040761947632,
          23.749040603637695,
          10.418195724487305,
          11.21076774597168,
          -7.400066375732422,
          -6.0617995262146,
          -5.481114864349365,
          -6.747677326202393,
          -5.650664806365967,
          -7.844868183135986,
          -5.296880722045898,
          -1.1716785430908203,
          -5.371391296386719,
          -9.52452278137207,
          -8.166749954223633,
          -13.536693572998047,
          10.378767967224121,
          10.218302726745605,
          11.40325927734375,
          -5.746671676635742,
          -9.305231094360352,
          11.114604949951172,
          -1.3324778079986572,
          -8.23876953125,
          -13.60120964050293
         ],
         "yaxis": "y"
        }
       ],
       "layout": {
        "annotations": [
         {
          "showarrow": false,
          "text": "D1",
          "x": -14.222345685958862,
          "y": 5.835002803802491,
          "yshift": 10
         },
         {
          "showarrow": false,
          "text": "D2",
          "x": 8.69312584400177,
          "xshift": 10,
          "y": 27.31139669418335
         }
        ],
        "height": 650,
        "hoverlabel": {
         "bgcolor": "white",
         "font": {
          "family": "Rockwell",
          "size": 16
         }
        },
        "legend": {
         "itemsizing": "constant",
         "tracegroupgap": 0
        },
        "margin": {
         "t": 60
        },
        "shapes": [
         {
          "line": {
           "color": "#CFD8DC",
           "width": 2
          },
          "type": "line",
          "x0": 8.69312584400177,
          "x1": 8.69312584400177,
          "y0": -15.64139108657837,
          "y1": 27.31139669418335
         },
         {
          "line": {
           "color": "#9E9E9E",
           "width": 2
          },
          "type": "line",
          "x0": -14.222345685958862,
          "x1": 31.608597373962404,
          "y0": 5.835002803802491,
          "y1": 5.835002803802491
         }
        ],
        "sliders": [
         {
          "active": 0,
          "pad": {
           "t": 50
          },
          "steps": [
           {
            "args": [
             {
              "marker.color": [
               [
                "red",
                "#B0BEC5",
                "#B0BEC5",
                "#B0BEC5",
                "#B0BEC5",
                "#B0BEC5",
                "#B0BEC5",
                "#B0BEC5",
                "#B0BEC5",
                "#B0BEC5",
                "#B0BEC5",
                "#B0BEC5",
                "#B0BEC5",
                "#B0BEC5",
                "#B0BEC5",
                "#B0BEC5",
                "#B0BEC5",
                "#B0BEC5",
                "#B0BEC5",
                "#B0BEC5",
                "#B0BEC5",
                "#B0BEC5",
                "#B0BEC5",
                "#B0BEC5",
                "#B0BEC5",
                "#B0BEC5",
                "#B0BEC5",
                "#B0BEC5",
                "#B0BEC5",
                "#B0BEC5",
                "#B0BEC5",
                "#B0BEC5",
                "#B0BEC5",
                "#B0BEC5",
                "#B0BEC5",
                "#B0BEC5",
                "#B0BEC5",
                "#B0BEC5"
               ]
              ]
             }
            ],
            "label": "Topic 0",
            "method": "update"
           },
           {
            "args": [
             {
              "marker.color": [
               [
                "#B0BEC5",
                "red",
                "#B0BEC5",
                "#B0BEC5",
                "#B0BEC5",
                "#B0BEC5",
                "#B0BEC5",
                "#B0BEC5",
                "#B0BEC5",
                "#B0BEC5",
                "#B0BEC5",
                "#B0BEC5",
                "#B0BEC5",
                "#B0BEC5",
                "#B0BEC5",
                "#B0BEC5",
                "#B0BEC5",
                "#B0BEC5",
                "#B0BEC5",
                "#B0BEC5",
                "#B0BEC5",
                "#B0BEC5",
                "#B0BEC5",
                "#B0BEC5",
                "#B0BEC5",
                "#B0BEC5",
                "#B0BEC5",
                "#B0BEC5",
                "#B0BEC5",
                "#B0BEC5",
                "#B0BEC5",
                "#B0BEC5",
                "#B0BEC5",
                "#B0BEC5",
                "#B0BEC5",
                "#B0BEC5",
                "#B0BEC5",
                "#B0BEC5"
               ]
              ]
             }
            ],
            "label": "Topic 1",
            "method": "update"
           },
           {
            "args": [
             {
              "marker.color": [
               [
                "#B0BEC5",
                "#B0BEC5",
                "red",
                "#B0BEC5",
                "#B0BEC5",
                "#B0BEC5",
                "#B0BEC5",
                "#B0BEC5",
                "#B0BEC5",
                "#B0BEC5",
                "#B0BEC5",
                "#B0BEC5",
                "#B0BEC5",
                "#B0BEC5",
                "#B0BEC5",
                "#B0BEC5",
                "#B0BEC5",
                "#B0BEC5",
                "#B0BEC5",
                "#B0BEC5",
                "#B0BEC5",
                "#B0BEC5",
                "#B0BEC5",
                "#B0BEC5",
                "#B0BEC5",
                "#B0BEC5",
                "#B0BEC5",
                "#B0BEC5",
                "#B0BEC5",
                "#B0BEC5",
                "#B0BEC5",
                "#B0BEC5",
                "#B0BEC5",
                "#B0BEC5",
                "#B0BEC5",
                "#B0BEC5",
                "#B0BEC5",
                "#B0BEC5"
               ]
              ]
             }
            ],
            "label": "Topic 2",
            "method": "update"
           },
           {
            "args": [
             {
              "marker.color": [
               [
                "#B0BEC5",
                "#B0BEC5",
                "#B0BEC5",
                "red",
                "#B0BEC5",
                "#B0BEC5",
                "#B0BEC5",
                "#B0BEC5",
                "#B0BEC5",
                "#B0BEC5",
                "#B0BEC5",
                "#B0BEC5",
                "#B0BEC5",
                "#B0BEC5",
                "#B0BEC5",
                "#B0BEC5",
                "#B0BEC5",
                "#B0BEC5",
                "#B0BEC5",
                "#B0BEC5",
                "#B0BEC5",
                "#B0BEC5",
                "#B0BEC5",
                "#B0BEC5",
                "#B0BEC5",
                "#B0BEC5",
                "#B0BEC5",
                "#B0BEC5",
                "#B0BEC5",
                "#B0BEC5",
                "#B0BEC5",
                "#B0BEC5",
                "#B0BEC5",
                "#B0BEC5",
                "#B0BEC5",
                "#B0BEC5",
                "#B0BEC5",
                "#B0BEC5"
               ]
              ]
             }
            ],
            "label": "Topic 3",
            "method": "update"
           },
           {
            "args": [
             {
              "marker.color": [
               [
                "#B0BEC5",
                "#B0BEC5",
                "#B0BEC5",
                "#B0BEC5",
                "red",
                "#B0BEC5",
                "#B0BEC5",
                "#B0BEC5",
                "#B0BEC5",
                "#B0BEC5",
                "#B0BEC5",
                "#B0BEC5",
                "#B0BEC5",
                "#B0BEC5",
                "#B0BEC5",
                "#B0BEC5",
                "#B0BEC5",
                "#B0BEC5",
                "#B0BEC5",
                "#B0BEC5",
                "#B0BEC5",
                "#B0BEC5",
                "#B0BEC5",
                "#B0BEC5",
                "#B0BEC5",
                "#B0BEC5",
                "#B0BEC5",
                "#B0BEC5",
                "#B0BEC5",
                "#B0BEC5",
                "#B0BEC5",
                "#B0BEC5",
                "#B0BEC5",
                "#B0BEC5",
                "#B0BEC5",
                "#B0BEC5",
                "#B0BEC5",
                "#B0BEC5"
               ]
              ]
             }
            ],
            "label": "Topic 4",
            "method": "update"
           },
           {
            "args": [
             {
              "marker.color": [
               [
                "#B0BEC5",
                "#B0BEC5",
                "#B0BEC5",
                "#B0BEC5",
                "#B0BEC5",
                "red",
                "#B0BEC5",
                "#B0BEC5",
                "#B0BEC5",
                "#B0BEC5",
                "#B0BEC5",
                "#B0BEC5",
                "#B0BEC5",
                "#B0BEC5",
                "#B0BEC5",
                "#B0BEC5",
                "#B0BEC5",
                "#B0BEC5",
                "#B0BEC5",
                "#B0BEC5",
                "#B0BEC5",
                "#B0BEC5",
                "#B0BEC5",
                "#B0BEC5",
                "#B0BEC5",
                "#B0BEC5",
                "#B0BEC5",
                "#B0BEC5",
                "#B0BEC5",
                "#B0BEC5",
                "#B0BEC5",
                "#B0BEC5",
                "#B0BEC5",
                "#B0BEC5",
                "#B0BEC5",
                "#B0BEC5",
                "#B0BEC5",
                "#B0BEC5"
               ]
              ]
             }
            ],
            "label": "Topic 5",
            "method": "update"
           },
           {
            "args": [
             {
              "marker.color": [
               [
                "#B0BEC5",
                "#B0BEC5",
                "#B0BEC5",
                "#B0BEC5",
                "#B0BEC5",
                "#B0BEC5",
                "red",
                "#B0BEC5",
                "#B0BEC5",
                "#B0BEC5",
                "#B0BEC5",
                "#B0BEC5",
                "#B0BEC5",
                "#B0BEC5",
                "#B0BEC5",
                "#B0BEC5",
                "#B0BEC5",
                "#B0BEC5",
                "#B0BEC5",
                "#B0BEC5",
                "#B0BEC5",
                "#B0BEC5",
                "#B0BEC5",
                "#B0BEC5",
                "#B0BEC5",
                "#B0BEC5",
                "#B0BEC5",
                "#B0BEC5",
                "#B0BEC5",
                "#B0BEC5",
                "#B0BEC5",
                "#B0BEC5",
                "#B0BEC5",
                "#B0BEC5",
                "#B0BEC5",
                "#B0BEC5",
                "#B0BEC5",
                "#B0BEC5"
               ]
              ]
             }
            ],
            "label": "Topic 6",
            "method": "update"
           },
           {
            "args": [
             {
              "marker.color": [
               [
                "#B0BEC5",
                "#B0BEC5",
                "#B0BEC5",
                "#B0BEC5",
                "#B0BEC5",
                "#B0BEC5",
                "#B0BEC5",
                "red",
                "#B0BEC5",
                "#B0BEC5",
                "#B0BEC5",
                "#B0BEC5",
                "#B0BEC5",
                "#B0BEC5",
                "#B0BEC5",
                "#B0BEC5",
                "#B0BEC5",
                "#B0BEC5",
                "#B0BEC5",
                "#B0BEC5",
                "#B0BEC5",
                "#B0BEC5",
                "#B0BEC5",
                "#B0BEC5",
                "#B0BEC5",
                "#B0BEC5",
                "#B0BEC5",
                "#B0BEC5",
                "#B0BEC5",
                "#B0BEC5",
                "#B0BEC5",
                "#B0BEC5",
                "#B0BEC5",
                "#B0BEC5",
                "#B0BEC5",
                "#B0BEC5",
                "#B0BEC5",
                "#B0BEC5"
               ]
              ]
             }
            ],
            "label": "Topic 7",
            "method": "update"
           },
           {
            "args": [
             {
              "marker.color": [
               [
                "#B0BEC5",
                "#B0BEC5",
                "#B0BEC5",
                "#B0BEC5",
                "#B0BEC5",
                "#B0BEC5",
                "#B0BEC5",
                "#B0BEC5",
                "red",
                "#B0BEC5",
                "#B0BEC5",
                "#B0BEC5",
                "#B0BEC5",
                "#B0BEC5",
                "#B0BEC5",
                "#B0BEC5",
                "#B0BEC5",
                "#B0BEC5",
                "#B0BEC5",
                "#B0BEC5",
                "#B0BEC5",
                "#B0BEC5",
                "#B0BEC5",
                "#B0BEC5",
                "#B0BEC5",
                "#B0BEC5",
                "#B0BEC5",
                "#B0BEC5",
                "#B0BEC5",
                "#B0BEC5",
                "#B0BEC5",
                "#B0BEC5",
                "#B0BEC5",
                "#B0BEC5",
                "#B0BEC5",
                "#B0BEC5",
                "#B0BEC5",
                "#B0BEC5"
               ]
              ]
             }
            ],
            "label": "Topic 8",
            "method": "update"
           },
           {
            "args": [
             {
              "marker.color": [
               [
                "#B0BEC5",
                "#B0BEC5",
                "#B0BEC5",
                "#B0BEC5",
                "#B0BEC5",
                "#B0BEC5",
                "#B0BEC5",
                "#B0BEC5",
                "#B0BEC5",
                "red",
                "#B0BEC5",
                "#B0BEC5",
                "#B0BEC5",
                "#B0BEC5",
                "#B0BEC5",
                "#B0BEC5",
                "#B0BEC5",
                "#B0BEC5",
                "#B0BEC5",
                "#B0BEC5",
                "#B0BEC5",
                "#B0BEC5",
                "#B0BEC5",
                "#B0BEC5",
                "#B0BEC5",
                "#B0BEC5",
                "#B0BEC5",
                "#B0BEC5",
                "#B0BEC5",
                "#B0BEC5",
                "#B0BEC5",
                "#B0BEC5",
                "#B0BEC5",
                "#B0BEC5",
                "#B0BEC5",
                "#B0BEC5",
                "#B0BEC5",
                "#B0BEC5"
               ]
              ]
             }
            ],
            "label": "Topic 9",
            "method": "update"
           },
           {
            "args": [
             {
              "marker.color": [
               [
                "#B0BEC5",
                "#B0BEC5",
                "#B0BEC5",
                "#B0BEC5",
                "#B0BEC5",
                "#B0BEC5",
                "#B0BEC5",
                "#B0BEC5",
                "#B0BEC5",
                "#B0BEC5",
                "red",
                "#B0BEC5",
                "#B0BEC5",
                "#B0BEC5",
                "#B0BEC5",
                "#B0BEC5",
                "#B0BEC5",
                "#B0BEC5",
                "#B0BEC5",
                "#B0BEC5",
                "#B0BEC5",
                "#B0BEC5",
                "#B0BEC5",
                "#B0BEC5",
                "#B0BEC5",
                "#B0BEC5",
                "#B0BEC5",
                "#B0BEC5",
                "#B0BEC5",
                "#B0BEC5",
                "#B0BEC5",
                "#B0BEC5",
                "#B0BEC5",
                "#B0BEC5",
                "#B0BEC5",
                "#B0BEC5",
                "#B0BEC5",
                "#B0BEC5"
               ]
              ]
             }
            ],
            "label": "Topic 10",
            "method": "update"
           },
           {
            "args": [
             {
              "marker.color": [
               [
                "#B0BEC5",
                "#B0BEC5",
                "#B0BEC5",
                "#B0BEC5",
                "#B0BEC5",
                "#B0BEC5",
                "#B0BEC5",
                "#B0BEC5",
                "#B0BEC5",
                "#B0BEC5",
                "#B0BEC5",
                "red",
                "#B0BEC5",
                "#B0BEC5",
                "#B0BEC5",
                "#B0BEC5",
                "#B0BEC5",
                "#B0BEC5",
                "#B0BEC5",
                "#B0BEC5",
                "#B0BEC5",
                "#B0BEC5",
                "#B0BEC5",
                "#B0BEC5",
                "#B0BEC5",
                "#B0BEC5",
                "#B0BEC5",
                "#B0BEC5",
                "#B0BEC5",
                "#B0BEC5",
                "#B0BEC5",
                "#B0BEC5",
                "#B0BEC5",
                "#B0BEC5",
                "#B0BEC5",
                "#B0BEC5",
                "#B0BEC5",
                "#B0BEC5"
               ]
              ]
             }
            ],
            "label": "Topic 11",
            "method": "update"
           },
           {
            "args": [
             {
              "marker.color": [
               [
                "#B0BEC5",
                "#B0BEC5",
                "#B0BEC5",
                "#B0BEC5",
                "#B0BEC5",
                "#B0BEC5",
                "#B0BEC5",
                "#B0BEC5",
                "#B0BEC5",
                "#B0BEC5",
                "#B0BEC5",
                "#B0BEC5",
                "red",
                "#B0BEC5",
                "#B0BEC5",
                "#B0BEC5",
                "#B0BEC5",
                "#B0BEC5",
                "#B0BEC5",
                "#B0BEC5",
                "#B0BEC5",
                "#B0BEC5",
                "#B0BEC5",
                "#B0BEC5",
                "#B0BEC5",
                "#B0BEC5",
                "#B0BEC5",
                "#B0BEC5",
                "#B0BEC5",
                "#B0BEC5",
                "#B0BEC5",
                "#B0BEC5",
                "#B0BEC5",
                "#B0BEC5",
                "#B0BEC5",
                "#B0BEC5",
                "#B0BEC5",
                "#B0BEC5"
               ]
              ]
             }
            ],
            "label": "Topic 12",
            "method": "update"
           },
           {
            "args": [
             {
              "marker.color": [
               [
                "#B0BEC5",
                "#B0BEC5",
                "#B0BEC5",
                "#B0BEC5",
                "#B0BEC5",
                "#B0BEC5",
                "#B0BEC5",
                "#B0BEC5",
                "#B0BEC5",
                "#B0BEC5",
                "#B0BEC5",
                "#B0BEC5",
                "#B0BEC5",
                "red",
                "#B0BEC5",
                "#B0BEC5",
                "#B0BEC5",
                "#B0BEC5",
                "#B0BEC5",
                "#B0BEC5",
                "#B0BEC5",
                "#B0BEC5",
                "#B0BEC5",
                "#B0BEC5",
                "#B0BEC5",
                "#B0BEC5",
                "#B0BEC5",
                "#B0BEC5",
                "#B0BEC5",
                "#B0BEC5",
                "#B0BEC5",
                "#B0BEC5",
                "#B0BEC5",
                "#B0BEC5",
                "#B0BEC5",
                "#B0BEC5",
                "#B0BEC5",
                "#B0BEC5"
               ]
              ]
             }
            ],
            "label": "Topic 13",
            "method": "update"
           },
           {
            "args": [
             {
              "marker.color": [
               [
                "#B0BEC5",
                "#B0BEC5",
                "#B0BEC5",
                "#B0BEC5",
                "#B0BEC5",
                "#B0BEC5",
                "#B0BEC5",
                "#B0BEC5",
                "#B0BEC5",
                "#B0BEC5",
                "#B0BEC5",
                "#B0BEC5",
                "#B0BEC5",
                "#B0BEC5",
                "red",
                "#B0BEC5",
                "#B0BEC5",
                "#B0BEC5",
                "#B0BEC5",
                "#B0BEC5",
                "#B0BEC5",
                "#B0BEC5",
                "#B0BEC5",
                "#B0BEC5",
                "#B0BEC5",
                "#B0BEC5",
                "#B0BEC5",
                "#B0BEC5",
                "#B0BEC5",
                "#B0BEC5",
                "#B0BEC5",
                "#B0BEC5",
                "#B0BEC5",
                "#B0BEC5",
                "#B0BEC5",
                "#B0BEC5",
                "#B0BEC5",
                "#B0BEC5"
               ]
              ]
             }
            ],
            "label": "Topic 14",
            "method": "update"
           },
           {
            "args": [
             {
              "marker.color": [
               [
                "#B0BEC5",
                "#B0BEC5",
                "#B0BEC5",
                "#B0BEC5",
                "#B0BEC5",
                "#B0BEC5",
                "#B0BEC5",
                "#B0BEC5",
                "#B0BEC5",
                "#B0BEC5",
                "#B0BEC5",
                "#B0BEC5",
                "#B0BEC5",
                "#B0BEC5",
                "#B0BEC5",
                "red",
                "#B0BEC5",
                "#B0BEC5",
                "#B0BEC5",
                "#B0BEC5",
                "#B0BEC5",
                "#B0BEC5",
                "#B0BEC5",
                "#B0BEC5",
                "#B0BEC5",
                "#B0BEC5",
                "#B0BEC5",
                "#B0BEC5",
                "#B0BEC5",
                "#B0BEC5",
                "#B0BEC5",
                "#B0BEC5",
                "#B0BEC5",
                "#B0BEC5",
                "#B0BEC5",
                "#B0BEC5",
                "#B0BEC5",
                "#B0BEC5"
               ]
              ]
             }
            ],
            "label": "Topic 15",
            "method": "update"
           },
           {
            "args": [
             {
              "marker.color": [
               [
                "#B0BEC5",
                "#B0BEC5",
                "#B0BEC5",
                "#B0BEC5",
                "#B0BEC5",
                "#B0BEC5",
                "#B0BEC5",
                "#B0BEC5",
                "#B0BEC5",
                "#B0BEC5",
                "#B0BEC5",
                "#B0BEC5",
                "#B0BEC5",
                "#B0BEC5",
                "#B0BEC5",
                "#B0BEC5",
                "red",
                "#B0BEC5",
                "#B0BEC5",
                "#B0BEC5",
                "#B0BEC5",
                "#B0BEC5",
                "#B0BEC5",
                "#B0BEC5",
                "#B0BEC5",
                "#B0BEC5",
                "#B0BEC5",
                "#B0BEC5",
                "#B0BEC5",
                "#B0BEC5",
                "#B0BEC5",
                "#B0BEC5",
                "#B0BEC5",
                "#B0BEC5",
                "#B0BEC5",
                "#B0BEC5",
                "#B0BEC5",
                "#B0BEC5"
               ]
              ]
             }
            ],
            "label": "Topic 16",
            "method": "update"
           },
           {
            "args": [
             {
              "marker.color": [
               [
                "#B0BEC5",
                "#B0BEC5",
                "#B0BEC5",
                "#B0BEC5",
                "#B0BEC5",
                "#B0BEC5",
                "#B0BEC5",
                "#B0BEC5",
                "#B0BEC5",
                "#B0BEC5",
                "#B0BEC5",
                "#B0BEC5",
                "#B0BEC5",
                "#B0BEC5",
                "#B0BEC5",
                "#B0BEC5",
                "#B0BEC5",
                "red",
                "#B0BEC5",
                "#B0BEC5",
                "#B0BEC5",
                "#B0BEC5",
                "#B0BEC5",
                "#B0BEC5",
                "#B0BEC5",
                "#B0BEC5",
                "#B0BEC5",
                "#B0BEC5",
                "#B0BEC5",
                "#B0BEC5",
                "#B0BEC5",
                "#B0BEC5",
                "#B0BEC5",
                "#B0BEC5",
                "#B0BEC5",
                "#B0BEC5",
                "#B0BEC5",
                "#B0BEC5"
               ]
              ]
             }
            ],
            "label": "Topic 17",
            "method": "update"
           },
           {
            "args": [
             {
              "marker.color": [
               [
                "#B0BEC5",
                "#B0BEC5",
                "#B0BEC5",
                "#B0BEC5",
                "#B0BEC5",
                "#B0BEC5",
                "#B0BEC5",
                "#B0BEC5",
                "#B0BEC5",
                "#B0BEC5",
                "#B0BEC5",
                "#B0BEC5",
                "#B0BEC5",
                "#B0BEC5",
                "#B0BEC5",
                "#B0BEC5",
                "#B0BEC5",
                "#B0BEC5",
                "red",
                "#B0BEC5",
                "#B0BEC5",
                "#B0BEC5",
                "#B0BEC5",
                "#B0BEC5",
                "#B0BEC5",
                "#B0BEC5",
                "#B0BEC5",
                "#B0BEC5",
                "#B0BEC5",
                "#B0BEC5",
                "#B0BEC5",
                "#B0BEC5",
                "#B0BEC5",
                "#B0BEC5",
                "#B0BEC5",
                "#B0BEC5",
                "#B0BEC5",
                "#B0BEC5"
               ]
              ]
             }
            ],
            "label": "Topic 18",
            "method": "update"
           },
           {
            "args": [
             {
              "marker.color": [
               [
                "#B0BEC5",
                "#B0BEC5",
                "#B0BEC5",
                "#B0BEC5",
                "#B0BEC5",
                "#B0BEC5",
                "#B0BEC5",
                "#B0BEC5",
                "#B0BEC5",
                "#B0BEC5",
                "#B0BEC5",
                "#B0BEC5",
                "#B0BEC5",
                "#B0BEC5",
                "#B0BEC5",
                "#B0BEC5",
                "#B0BEC5",
                "#B0BEC5",
                "#B0BEC5",
                "red",
                "#B0BEC5",
                "#B0BEC5",
                "#B0BEC5",
                "#B0BEC5",
                "#B0BEC5",
                "#B0BEC5",
                "#B0BEC5",
                "#B0BEC5",
                "#B0BEC5",
                "#B0BEC5",
                "#B0BEC5",
                "#B0BEC5",
                "#B0BEC5",
                "#B0BEC5",
                "#B0BEC5",
                "#B0BEC5",
                "#B0BEC5",
                "#B0BEC5"
               ]
              ]
             }
            ],
            "label": "Topic 19",
            "method": "update"
           },
           {
            "args": [
             {
              "marker.color": [
               [
                "#B0BEC5",
                "#B0BEC5",
                "#B0BEC5",
                "#B0BEC5",
                "#B0BEC5",
                "#B0BEC5",
                "#B0BEC5",
                "#B0BEC5",
                "#B0BEC5",
                "#B0BEC5",
                "#B0BEC5",
                "#B0BEC5",
                "#B0BEC5",
                "#B0BEC5",
                "#B0BEC5",
                "#B0BEC5",
                "#B0BEC5",
                "#B0BEC5",
                "#B0BEC5",
                "#B0BEC5",
                "red",
                "#B0BEC5",
                "#B0BEC5",
                "#B0BEC5",
                "#B0BEC5",
                "#B0BEC5",
                "#B0BEC5",
                "#B0BEC5",
                "#B0BEC5",
                "#B0BEC5",
                "#B0BEC5",
                "#B0BEC5",
                "#B0BEC5",
                "#B0BEC5",
                "#B0BEC5",
                "#B0BEC5",
                "#B0BEC5",
                "#B0BEC5"
               ]
              ]
             }
            ],
            "label": "Topic 20",
            "method": "update"
           },
           {
            "args": [
             {
              "marker.color": [
               [
                "#B0BEC5",
                "#B0BEC5",
                "#B0BEC5",
                "#B0BEC5",
                "#B0BEC5",
                "#B0BEC5",
                "#B0BEC5",
                "#B0BEC5",
                "#B0BEC5",
                "#B0BEC5",
                "#B0BEC5",
                "#B0BEC5",
                "#B0BEC5",
                "#B0BEC5",
                "#B0BEC5",
                "#B0BEC5",
                "#B0BEC5",
                "#B0BEC5",
                "#B0BEC5",
                "#B0BEC5",
                "#B0BEC5",
                "red",
                "#B0BEC5",
                "#B0BEC5",
                "#B0BEC5",
                "#B0BEC5",
                "#B0BEC5",
                "#B0BEC5",
                "#B0BEC5",
                "#B0BEC5",
                "#B0BEC5",
                "#B0BEC5",
                "#B0BEC5",
                "#B0BEC5",
                "#B0BEC5",
                "#B0BEC5",
                "#B0BEC5",
                "#B0BEC5"
               ]
              ]
             }
            ],
            "label": "Topic 21",
            "method": "update"
           },
           {
            "args": [
             {
              "marker.color": [
               [
                "#B0BEC5",
                "#B0BEC5",
                "#B0BEC5",
                "#B0BEC5",
                "#B0BEC5",
                "#B0BEC5",
                "#B0BEC5",
                "#B0BEC5",
                "#B0BEC5",
                "#B0BEC5",
                "#B0BEC5",
                "#B0BEC5",
                "#B0BEC5",
                "#B0BEC5",
                "#B0BEC5",
                "#B0BEC5",
                "#B0BEC5",
                "#B0BEC5",
                "#B0BEC5",
                "#B0BEC5",
                "#B0BEC5",
                "#B0BEC5",
                "red",
                "#B0BEC5",
                "#B0BEC5",
                "#B0BEC5",
                "#B0BEC5",
                "#B0BEC5",
                "#B0BEC5",
                "#B0BEC5",
                "#B0BEC5",
                "#B0BEC5",
                "#B0BEC5",
                "#B0BEC5",
                "#B0BEC5",
                "#B0BEC5",
                "#B0BEC5",
                "#B0BEC5"
               ]
              ]
             }
            ],
            "label": "Topic 22",
            "method": "update"
           },
           {
            "args": [
             {
              "marker.color": [
               [
                "#B0BEC5",
                "#B0BEC5",
                "#B0BEC5",
                "#B0BEC5",
                "#B0BEC5",
                "#B0BEC5",
                "#B0BEC5",
                "#B0BEC5",
                "#B0BEC5",
                "#B0BEC5",
                "#B0BEC5",
                "#B0BEC5",
                "#B0BEC5",
                "#B0BEC5",
                "#B0BEC5",
                "#B0BEC5",
                "#B0BEC5",
                "#B0BEC5",
                "#B0BEC5",
                "#B0BEC5",
                "#B0BEC5",
                "#B0BEC5",
                "#B0BEC5",
                "red",
                "#B0BEC5",
                "#B0BEC5",
                "#B0BEC5",
                "#B0BEC5",
                "#B0BEC5",
                "#B0BEC5",
                "#B0BEC5",
                "#B0BEC5",
                "#B0BEC5",
                "#B0BEC5",
                "#B0BEC5",
                "#B0BEC5",
                "#B0BEC5",
                "#B0BEC5"
               ]
              ]
             }
            ],
            "label": "Topic 23",
            "method": "update"
           },
           {
            "args": [
             {
              "marker.color": [
               [
                "#B0BEC5",
                "#B0BEC5",
                "#B0BEC5",
                "#B0BEC5",
                "#B0BEC5",
                "#B0BEC5",
                "#B0BEC5",
                "#B0BEC5",
                "#B0BEC5",
                "#B0BEC5",
                "#B0BEC5",
                "#B0BEC5",
                "#B0BEC5",
                "#B0BEC5",
                "#B0BEC5",
                "#B0BEC5",
                "#B0BEC5",
                "#B0BEC5",
                "#B0BEC5",
                "#B0BEC5",
                "#B0BEC5",
                "#B0BEC5",
                "#B0BEC5",
                "#B0BEC5",
                "red",
                "#B0BEC5",
                "#B0BEC5",
                "#B0BEC5",
                "#B0BEC5",
                "#B0BEC5",
                "#B0BEC5",
                "#B0BEC5",
                "#B0BEC5",
                "#B0BEC5",
                "#B0BEC5",
                "#B0BEC5",
                "#B0BEC5",
                "#B0BEC5"
               ]
              ]
             }
            ],
            "label": "Topic 24",
            "method": "update"
           },
           {
            "args": [
             {
              "marker.color": [
               [
                "#B0BEC5",
                "#B0BEC5",
                "#B0BEC5",
                "#B0BEC5",
                "#B0BEC5",
                "#B0BEC5",
                "#B0BEC5",
                "#B0BEC5",
                "#B0BEC5",
                "#B0BEC5",
                "#B0BEC5",
                "#B0BEC5",
                "#B0BEC5",
                "#B0BEC5",
                "#B0BEC5",
                "#B0BEC5",
                "#B0BEC5",
                "#B0BEC5",
                "#B0BEC5",
                "#B0BEC5",
                "#B0BEC5",
                "#B0BEC5",
                "#B0BEC5",
                "#B0BEC5",
                "#B0BEC5",
                "red",
                "#B0BEC5",
                "#B0BEC5",
                "#B0BEC5",
                "#B0BEC5",
                "#B0BEC5",
                "#B0BEC5",
                "#B0BEC5",
                "#B0BEC5",
                "#B0BEC5",
                "#B0BEC5",
                "#B0BEC5",
                "#B0BEC5"
               ]
              ]
             }
            ],
            "label": "Topic 25",
            "method": "update"
           },
           {
            "args": [
             {
              "marker.color": [
               [
                "#B0BEC5",
                "#B0BEC5",
                "#B0BEC5",
                "#B0BEC5",
                "#B0BEC5",
                "#B0BEC5",
                "#B0BEC5",
                "#B0BEC5",
                "#B0BEC5",
                "#B0BEC5",
                "#B0BEC5",
                "#B0BEC5",
                "#B0BEC5",
                "#B0BEC5",
                "#B0BEC5",
                "#B0BEC5",
                "#B0BEC5",
                "#B0BEC5",
                "#B0BEC5",
                "#B0BEC5",
                "#B0BEC5",
                "#B0BEC5",
                "#B0BEC5",
                "#B0BEC5",
                "#B0BEC5",
                "#B0BEC5",
                "red",
                "#B0BEC5",
                "#B0BEC5",
                "#B0BEC5",
                "#B0BEC5",
                "#B0BEC5",
                "#B0BEC5",
                "#B0BEC5",
                "#B0BEC5",
                "#B0BEC5",
                "#B0BEC5",
                "#B0BEC5"
               ]
              ]
             }
            ],
            "label": "Topic 26",
            "method": "update"
           },
           {
            "args": [
             {
              "marker.color": [
               [
                "#B0BEC5",
                "#B0BEC5",
                "#B0BEC5",
                "#B0BEC5",
                "#B0BEC5",
                "#B0BEC5",
                "#B0BEC5",
                "#B0BEC5",
                "#B0BEC5",
                "#B0BEC5",
                "#B0BEC5",
                "#B0BEC5",
                "#B0BEC5",
                "#B0BEC5",
                "#B0BEC5",
                "#B0BEC5",
                "#B0BEC5",
                "#B0BEC5",
                "#B0BEC5",
                "#B0BEC5",
                "#B0BEC5",
                "#B0BEC5",
                "#B0BEC5",
                "#B0BEC5",
                "#B0BEC5",
                "#B0BEC5",
                "#B0BEC5",
                "red",
                "#B0BEC5",
                "#B0BEC5",
                "#B0BEC5",
                "#B0BEC5",
                "#B0BEC5",
                "#B0BEC5",
                "#B0BEC5",
                "#B0BEC5",
                "#B0BEC5",
                "#B0BEC5"
               ]
              ]
             }
            ],
            "label": "Topic 27",
            "method": "update"
           },
           {
            "args": [
             {
              "marker.color": [
               [
                "#B0BEC5",
                "#B0BEC5",
                "#B0BEC5",
                "#B0BEC5",
                "#B0BEC5",
                "#B0BEC5",
                "#B0BEC5",
                "#B0BEC5",
                "#B0BEC5",
                "#B0BEC5",
                "#B0BEC5",
                "#B0BEC5",
                "#B0BEC5",
                "#B0BEC5",
                "#B0BEC5",
                "#B0BEC5",
                "#B0BEC5",
                "#B0BEC5",
                "#B0BEC5",
                "#B0BEC5",
                "#B0BEC5",
                "#B0BEC5",
                "#B0BEC5",
                "#B0BEC5",
                "#B0BEC5",
                "#B0BEC5",
                "#B0BEC5",
                "#B0BEC5",
                "red",
                "#B0BEC5",
                "#B0BEC5",
                "#B0BEC5",
                "#B0BEC5",
                "#B0BEC5",
                "#B0BEC5",
                "#B0BEC5",
                "#B0BEC5",
                "#B0BEC5"
               ]
              ]
             }
            ],
            "label": "Topic 28",
            "method": "update"
           },
           {
            "args": [
             {
              "marker.color": [
               [
                "#B0BEC5",
                "#B0BEC5",
                "#B0BEC5",
                "#B0BEC5",
                "#B0BEC5",
                "#B0BEC5",
                "#B0BEC5",
                "#B0BEC5",
                "#B0BEC5",
                "#B0BEC5",
                "#B0BEC5",
                "#B0BEC5",
                "#B0BEC5",
                "#B0BEC5",
                "#B0BEC5",
                "#B0BEC5",
                "#B0BEC5",
                "#B0BEC5",
                "#B0BEC5",
                "#B0BEC5",
                "#B0BEC5",
                "#B0BEC5",
                "#B0BEC5",
                "#B0BEC5",
                "#B0BEC5",
                "#B0BEC5",
                "#B0BEC5",
                "#B0BEC5",
                "#B0BEC5",
                "red",
                "#B0BEC5",
                "#B0BEC5",
                "#B0BEC5",
                "#B0BEC5",
                "#B0BEC5",
                "#B0BEC5",
                "#B0BEC5",
                "#B0BEC5"
               ]
              ]
             }
            ],
            "label": "Topic 29",
            "method": "update"
           },
           {
            "args": [
             {
              "marker.color": [
               [
                "#B0BEC5",
                "#B0BEC5",
                "#B0BEC5",
                "#B0BEC5",
                "#B0BEC5",
                "#B0BEC5",
                "#B0BEC5",
                "#B0BEC5",
                "#B0BEC5",
                "#B0BEC5",
                "#B0BEC5",
                "#B0BEC5",
                "#B0BEC5",
                "#B0BEC5",
                "#B0BEC5",
                "#B0BEC5",
                "#B0BEC5",
                "#B0BEC5",
                "#B0BEC5",
                "#B0BEC5",
                "#B0BEC5",
                "#B0BEC5",
                "#B0BEC5",
                "#B0BEC5",
                "#B0BEC5",
                "#B0BEC5",
                "#B0BEC5",
                "#B0BEC5",
                "#B0BEC5",
                "#B0BEC5",
                "red",
                "#B0BEC5",
                "#B0BEC5",
                "#B0BEC5",
                "#B0BEC5",
                "#B0BEC5",
                "#B0BEC5",
                "#B0BEC5"
               ]
              ]
             }
            ],
            "label": "Topic 30",
            "method": "update"
           },
           {
            "args": [
             {
              "marker.color": [
               [
                "#B0BEC5",
                "#B0BEC5",
                "#B0BEC5",
                "#B0BEC5",
                "#B0BEC5",
                "#B0BEC5",
                "#B0BEC5",
                "#B0BEC5",
                "#B0BEC5",
                "#B0BEC5",
                "#B0BEC5",
                "#B0BEC5",
                "#B0BEC5",
                "#B0BEC5",
                "#B0BEC5",
                "#B0BEC5",
                "#B0BEC5",
                "#B0BEC5",
                "#B0BEC5",
                "#B0BEC5",
                "#B0BEC5",
                "#B0BEC5",
                "#B0BEC5",
                "#B0BEC5",
                "#B0BEC5",
                "#B0BEC5",
                "#B0BEC5",
                "#B0BEC5",
                "#B0BEC5",
                "#B0BEC5",
                "#B0BEC5",
                "red",
                "#B0BEC5",
                "#B0BEC5",
                "#B0BEC5",
                "#B0BEC5",
                "#B0BEC5",
                "#B0BEC5"
               ]
              ]
             }
            ],
            "label": "Topic 31",
            "method": "update"
           },
           {
            "args": [
             {
              "marker.color": [
               [
                "#B0BEC5",
                "#B0BEC5",
                "#B0BEC5",
                "#B0BEC5",
                "#B0BEC5",
                "#B0BEC5",
                "#B0BEC5",
                "#B0BEC5",
                "#B0BEC5",
                "#B0BEC5",
                "#B0BEC5",
                "#B0BEC5",
                "#B0BEC5",
                "#B0BEC5",
                "#B0BEC5",
                "#B0BEC5",
                "#B0BEC5",
                "#B0BEC5",
                "#B0BEC5",
                "#B0BEC5",
                "#B0BEC5",
                "#B0BEC5",
                "#B0BEC5",
                "#B0BEC5",
                "#B0BEC5",
                "#B0BEC5",
                "#B0BEC5",
                "#B0BEC5",
                "#B0BEC5",
                "#B0BEC5",
                "#B0BEC5",
                "#B0BEC5",
                "red",
                "#B0BEC5",
                "#B0BEC5",
                "#B0BEC5",
                "#B0BEC5",
                "#B0BEC5"
               ]
              ]
             }
            ],
            "label": "Topic 32",
            "method": "update"
           },
           {
            "args": [
             {
              "marker.color": [
               [
                "#B0BEC5",
                "#B0BEC5",
                "#B0BEC5",
                "#B0BEC5",
                "#B0BEC5",
                "#B0BEC5",
                "#B0BEC5",
                "#B0BEC5",
                "#B0BEC5",
                "#B0BEC5",
                "#B0BEC5",
                "#B0BEC5",
                "#B0BEC5",
                "#B0BEC5",
                "#B0BEC5",
                "#B0BEC5",
                "#B0BEC5",
                "#B0BEC5",
                "#B0BEC5",
                "#B0BEC5",
                "#B0BEC5",
                "#B0BEC5",
                "#B0BEC5",
                "#B0BEC5",
                "#B0BEC5",
                "#B0BEC5",
                "#B0BEC5",
                "#B0BEC5",
                "#B0BEC5",
                "#B0BEC5",
                "#B0BEC5",
                "#B0BEC5",
                "#B0BEC5",
                "red",
                "#B0BEC5",
                "#B0BEC5",
                "#B0BEC5",
                "#B0BEC5"
               ]
              ]
             }
            ],
            "label": "Topic 33",
            "method": "update"
           },
           {
            "args": [
             {
              "marker.color": [
               [
                "#B0BEC5",
                "#B0BEC5",
                "#B0BEC5",
                "#B0BEC5",
                "#B0BEC5",
                "#B0BEC5",
                "#B0BEC5",
                "#B0BEC5",
                "#B0BEC5",
                "#B0BEC5",
                "#B0BEC5",
                "#B0BEC5",
                "#B0BEC5",
                "#B0BEC5",
                "#B0BEC5",
                "#B0BEC5",
                "#B0BEC5",
                "#B0BEC5",
                "#B0BEC5",
                "#B0BEC5",
                "#B0BEC5",
                "#B0BEC5",
                "#B0BEC5",
                "#B0BEC5",
                "#B0BEC5",
                "#B0BEC5",
                "#B0BEC5",
                "#B0BEC5",
                "#B0BEC5",
                "#B0BEC5",
                "#B0BEC5",
                "#B0BEC5",
                "#B0BEC5",
                "#B0BEC5",
                "red",
                "#B0BEC5",
                "#B0BEC5",
                "#B0BEC5"
               ]
              ]
             }
            ],
            "label": "Topic 34",
            "method": "update"
           },
           {
            "args": [
             {
              "marker.color": [
               [
                "#B0BEC5",
                "#B0BEC5",
                "#B0BEC5",
                "#B0BEC5",
                "#B0BEC5",
                "#B0BEC5",
                "#B0BEC5",
                "#B0BEC5",
                "#B0BEC5",
                "#B0BEC5",
                "#B0BEC5",
                "#B0BEC5",
                "#B0BEC5",
                "#B0BEC5",
                "#B0BEC5",
                "#B0BEC5",
                "#B0BEC5",
                "#B0BEC5",
                "#B0BEC5",
                "#B0BEC5",
                "#B0BEC5",
                "#B0BEC5",
                "#B0BEC5",
                "#B0BEC5",
                "#B0BEC5",
                "#B0BEC5",
                "#B0BEC5",
                "#B0BEC5",
                "#B0BEC5",
                "#B0BEC5",
                "#B0BEC5",
                "#B0BEC5",
                "#B0BEC5",
                "#B0BEC5",
                "#B0BEC5",
                "red",
                "#B0BEC5",
                "#B0BEC5"
               ]
              ]
             }
            ],
            "label": "Topic 35",
            "method": "update"
           },
           {
            "args": [
             {
              "marker.color": [
               [
                "#B0BEC5",
                "#B0BEC5",
                "#B0BEC5",
                "#B0BEC5",
                "#B0BEC5",
                "#B0BEC5",
                "#B0BEC5",
                "#B0BEC5",
                "#B0BEC5",
                "#B0BEC5",
                "#B0BEC5",
                "#B0BEC5",
                "#B0BEC5",
                "#B0BEC5",
                "#B0BEC5",
                "#B0BEC5",
                "#B0BEC5",
                "#B0BEC5",
                "#B0BEC5",
                "#B0BEC5",
                "#B0BEC5",
                "#B0BEC5",
                "#B0BEC5",
                "#B0BEC5",
                "#B0BEC5",
                "#B0BEC5",
                "#B0BEC5",
                "#B0BEC5",
                "#B0BEC5",
                "#B0BEC5",
                "#B0BEC5",
                "#B0BEC5",
                "#B0BEC5",
                "#B0BEC5",
                "#B0BEC5",
                "#B0BEC5",
                "red",
                "#B0BEC5"
               ]
              ]
             }
            ],
            "label": "Topic 36",
            "method": "update"
           },
           {
            "args": [
             {
              "marker.color": [
               [
                "#B0BEC5",
                "#B0BEC5",
                "#B0BEC5",
                "#B0BEC5",
                "#B0BEC5",
                "#B0BEC5",
                "#B0BEC5",
                "#B0BEC5",
                "#B0BEC5",
                "#B0BEC5",
                "#B0BEC5",
                "#B0BEC5",
                "#B0BEC5",
                "#B0BEC5",
                "#B0BEC5",
                "#B0BEC5",
                "#B0BEC5",
                "#B0BEC5",
                "#B0BEC5",
                "#B0BEC5",
                "#B0BEC5",
                "#B0BEC5",
                "#B0BEC5",
                "#B0BEC5",
                "#B0BEC5",
                "#B0BEC5",
                "#B0BEC5",
                "#B0BEC5",
                "#B0BEC5",
                "#B0BEC5",
                "#B0BEC5",
                "#B0BEC5",
                "#B0BEC5",
                "#B0BEC5",
                "#B0BEC5",
                "#B0BEC5",
                "#B0BEC5",
                "red"
               ]
              ]
             }
            ],
            "label": "Topic 37",
            "method": "update"
           }
          ]
         }
        ],
        "template": {
         "data": {
          "bar": [
           {
            "error_x": {
             "color": "rgb(36,36,36)"
            },
            "error_y": {
             "color": "rgb(36,36,36)"
            },
            "marker": {
             "line": {
              "color": "white",
              "width": 0.5
             },
             "pattern": {
              "fillmode": "overlay",
              "size": 10,
              "solidity": 0.2
             }
            },
            "type": "bar"
           }
          ],
          "barpolar": [
           {
            "marker": {
             "line": {
              "color": "white",
              "width": 0.5
             },
             "pattern": {
              "fillmode": "overlay",
              "size": 10,
              "solidity": 0.2
             }
            },
            "type": "barpolar"
           }
          ],
          "carpet": [
           {
            "aaxis": {
             "endlinecolor": "rgb(36,36,36)",
             "gridcolor": "white",
             "linecolor": "white",
             "minorgridcolor": "white",
             "startlinecolor": "rgb(36,36,36)"
            },
            "baxis": {
             "endlinecolor": "rgb(36,36,36)",
             "gridcolor": "white",
             "linecolor": "white",
             "minorgridcolor": "white",
             "startlinecolor": "rgb(36,36,36)"
            },
            "type": "carpet"
           }
          ],
          "choropleth": [
           {
            "colorbar": {
             "outlinewidth": 1,
             "tickcolor": "rgb(36,36,36)",
             "ticks": "outside"
            },
            "type": "choropleth"
           }
          ],
          "contour": [
           {
            "colorbar": {
             "outlinewidth": 1,
             "tickcolor": "rgb(36,36,36)",
             "ticks": "outside"
            },
            "colorscale": [
             [
              0,
              "#440154"
             ],
             [
              0.1111111111111111,
              "#482878"
             ],
             [
              0.2222222222222222,
              "#3e4989"
             ],
             [
              0.3333333333333333,
              "#31688e"
             ],
             [
              0.4444444444444444,
              "#26828e"
             ],
             [
              0.5555555555555556,
              "#1f9e89"
             ],
             [
              0.6666666666666666,
              "#35b779"
             ],
             [
              0.7777777777777778,
              "#6ece58"
             ],
             [
              0.8888888888888888,
              "#b5de2b"
             ],
             [
              1,
              "#fde725"
             ]
            ],
            "type": "contour"
           }
          ],
          "contourcarpet": [
           {
            "colorbar": {
             "outlinewidth": 1,
             "tickcolor": "rgb(36,36,36)",
             "ticks": "outside"
            },
            "type": "contourcarpet"
           }
          ],
          "heatmap": [
           {
            "colorbar": {
             "outlinewidth": 1,
             "tickcolor": "rgb(36,36,36)",
             "ticks": "outside"
            },
            "colorscale": [
             [
              0,
              "#440154"
             ],
             [
              0.1111111111111111,
              "#482878"
             ],
             [
              0.2222222222222222,
              "#3e4989"
             ],
             [
              0.3333333333333333,
              "#31688e"
             ],
             [
              0.4444444444444444,
              "#26828e"
             ],
             [
              0.5555555555555556,
              "#1f9e89"
             ],
             [
              0.6666666666666666,
              "#35b779"
             ],
             [
              0.7777777777777778,
              "#6ece58"
             ],
             [
              0.8888888888888888,
              "#b5de2b"
             ],
             [
              1,
              "#fde725"
             ]
            ],
            "type": "heatmap"
           }
          ],
          "heatmapgl": [
           {
            "colorbar": {
             "outlinewidth": 1,
             "tickcolor": "rgb(36,36,36)",
             "ticks": "outside"
            },
            "colorscale": [
             [
              0,
              "#440154"
             ],
             [
              0.1111111111111111,
              "#482878"
             ],
             [
              0.2222222222222222,
              "#3e4989"
             ],
             [
              0.3333333333333333,
              "#31688e"
             ],
             [
              0.4444444444444444,
              "#26828e"
             ],
             [
              0.5555555555555556,
              "#1f9e89"
             ],
             [
              0.6666666666666666,
              "#35b779"
             ],
             [
              0.7777777777777778,
              "#6ece58"
             ],
             [
              0.8888888888888888,
              "#b5de2b"
             ],
             [
              1,
              "#fde725"
             ]
            ],
            "type": "heatmapgl"
           }
          ],
          "histogram": [
           {
            "marker": {
             "line": {
              "color": "white",
              "width": 0.6
             }
            },
            "type": "histogram"
           }
          ],
          "histogram2d": [
           {
            "colorbar": {
             "outlinewidth": 1,
             "tickcolor": "rgb(36,36,36)",
             "ticks": "outside"
            },
            "colorscale": [
             [
              0,
              "#440154"
             ],
             [
              0.1111111111111111,
              "#482878"
             ],
             [
              0.2222222222222222,
              "#3e4989"
             ],
             [
              0.3333333333333333,
              "#31688e"
             ],
             [
              0.4444444444444444,
              "#26828e"
             ],
             [
              0.5555555555555556,
              "#1f9e89"
             ],
             [
              0.6666666666666666,
              "#35b779"
             ],
             [
              0.7777777777777778,
              "#6ece58"
             ],
             [
              0.8888888888888888,
              "#b5de2b"
             ],
             [
              1,
              "#fde725"
             ]
            ],
            "type": "histogram2d"
           }
          ],
          "histogram2dcontour": [
           {
            "colorbar": {
             "outlinewidth": 1,
             "tickcolor": "rgb(36,36,36)",
             "ticks": "outside"
            },
            "colorscale": [
             [
              0,
              "#440154"
             ],
             [
              0.1111111111111111,
              "#482878"
             ],
             [
              0.2222222222222222,
              "#3e4989"
             ],
             [
              0.3333333333333333,
              "#31688e"
             ],
             [
              0.4444444444444444,
              "#26828e"
             ],
             [
              0.5555555555555556,
              "#1f9e89"
             ],
             [
              0.6666666666666666,
              "#35b779"
             ],
             [
              0.7777777777777778,
              "#6ece58"
             ],
             [
              0.8888888888888888,
              "#b5de2b"
             ],
             [
              1,
              "#fde725"
             ]
            ],
            "type": "histogram2dcontour"
           }
          ],
          "mesh3d": [
           {
            "colorbar": {
             "outlinewidth": 1,
             "tickcolor": "rgb(36,36,36)",
             "ticks": "outside"
            },
            "type": "mesh3d"
           }
          ],
          "parcoords": [
           {
            "line": {
             "colorbar": {
              "outlinewidth": 1,
              "tickcolor": "rgb(36,36,36)",
              "ticks": "outside"
             }
            },
            "type": "parcoords"
           }
          ],
          "pie": [
           {
            "automargin": true,
            "type": "pie"
           }
          ],
          "scatter": [
           {
            "fillpattern": {
             "fillmode": "overlay",
             "size": 10,
             "solidity": 0.2
            },
            "type": "scatter"
           }
          ],
          "scatter3d": [
           {
            "line": {
             "colorbar": {
              "outlinewidth": 1,
              "tickcolor": "rgb(36,36,36)",
              "ticks": "outside"
             }
            },
            "marker": {
             "colorbar": {
              "outlinewidth": 1,
              "tickcolor": "rgb(36,36,36)",
              "ticks": "outside"
             }
            },
            "type": "scatter3d"
           }
          ],
          "scattercarpet": [
           {
            "marker": {
             "colorbar": {
              "outlinewidth": 1,
              "tickcolor": "rgb(36,36,36)",
              "ticks": "outside"
             }
            },
            "type": "scattercarpet"
           }
          ],
          "scattergeo": [
           {
            "marker": {
             "colorbar": {
              "outlinewidth": 1,
              "tickcolor": "rgb(36,36,36)",
              "ticks": "outside"
             }
            },
            "type": "scattergeo"
           }
          ],
          "scattergl": [
           {
            "marker": {
             "colorbar": {
              "outlinewidth": 1,
              "tickcolor": "rgb(36,36,36)",
              "ticks": "outside"
             }
            },
            "type": "scattergl"
           }
          ],
          "scattermapbox": [
           {
            "marker": {
             "colorbar": {
              "outlinewidth": 1,
              "tickcolor": "rgb(36,36,36)",
              "ticks": "outside"
             }
            },
            "type": "scattermapbox"
           }
          ],
          "scatterpolar": [
           {
            "marker": {
             "colorbar": {
              "outlinewidth": 1,
              "tickcolor": "rgb(36,36,36)",
              "ticks": "outside"
             }
            },
            "type": "scatterpolar"
           }
          ],
          "scatterpolargl": [
           {
            "marker": {
             "colorbar": {
              "outlinewidth": 1,
              "tickcolor": "rgb(36,36,36)",
              "ticks": "outside"
             }
            },
            "type": "scatterpolargl"
           }
          ],
          "scatterternary": [
           {
            "marker": {
             "colorbar": {
              "outlinewidth": 1,
              "tickcolor": "rgb(36,36,36)",
              "ticks": "outside"
             }
            },
            "type": "scatterternary"
           }
          ],
          "surface": [
           {
            "colorbar": {
             "outlinewidth": 1,
             "tickcolor": "rgb(36,36,36)",
             "ticks": "outside"
            },
            "colorscale": [
             [
              0,
              "#440154"
             ],
             [
              0.1111111111111111,
              "#482878"
             ],
             [
              0.2222222222222222,
              "#3e4989"
             ],
             [
              0.3333333333333333,
              "#31688e"
             ],
             [
              0.4444444444444444,
              "#26828e"
             ],
             [
              0.5555555555555556,
              "#1f9e89"
             ],
             [
              0.6666666666666666,
              "#35b779"
             ],
             [
              0.7777777777777778,
              "#6ece58"
             ],
             [
              0.8888888888888888,
              "#b5de2b"
             ],
             [
              1,
              "#fde725"
             ]
            ],
            "type": "surface"
           }
          ],
          "table": [
           {
            "cells": {
             "fill": {
              "color": "rgb(237,237,237)"
             },
             "line": {
              "color": "white"
             }
            },
            "header": {
             "fill": {
              "color": "rgb(217,217,217)"
             },
             "line": {
              "color": "white"
             }
            },
            "type": "table"
           }
          ]
         },
         "layout": {
          "annotationdefaults": {
           "arrowhead": 0,
           "arrowwidth": 1
          },
          "autotypenumbers": "strict",
          "coloraxis": {
           "colorbar": {
            "outlinewidth": 1,
            "tickcolor": "rgb(36,36,36)",
            "ticks": "outside"
           }
          },
          "colorscale": {
           "diverging": [
            [
             0,
             "rgb(103,0,31)"
            ],
            [
             0.1,
             "rgb(178,24,43)"
            ],
            [
             0.2,
             "rgb(214,96,77)"
            ],
            [
             0.3,
             "rgb(244,165,130)"
            ],
            [
             0.4,
             "rgb(253,219,199)"
            ],
            [
             0.5,
             "rgb(247,247,247)"
            ],
            [
             0.6,
             "rgb(209,229,240)"
            ],
            [
             0.7,
             "rgb(146,197,222)"
            ],
            [
             0.8,
             "rgb(67,147,195)"
            ],
            [
             0.9,
             "rgb(33,102,172)"
            ],
            [
             1,
             "rgb(5,48,97)"
            ]
           ],
           "sequential": [
            [
             0,
             "#440154"
            ],
            [
             0.1111111111111111,
             "#482878"
            ],
            [
             0.2222222222222222,
             "#3e4989"
            ],
            [
             0.3333333333333333,
             "#31688e"
            ],
            [
             0.4444444444444444,
             "#26828e"
            ],
            [
             0.5555555555555556,
             "#1f9e89"
            ],
            [
             0.6666666666666666,
             "#35b779"
            ],
            [
             0.7777777777777778,
             "#6ece58"
            ],
            [
             0.8888888888888888,
             "#b5de2b"
            ],
            [
             1,
             "#fde725"
            ]
           ],
           "sequentialminus": [
            [
             0,
             "#440154"
            ],
            [
             0.1111111111111111,
             "#482878"
            ],
            [
             0.2222222222222222,
             "#3e4989"
            ],
            [
             0.3333333333333333,
             "#31688e"
            ],
            [
             0.4444444444444444,
             "#26828e"
            ],
            [
             0.5555555555555556,
             "#1f9e89"
            ],
            [
             0.6666666666666666,
             "#35b779"
            ],
            [
             0.7777777777777778,
             "#6ece58"
            ],
            [
             0.8888888888888888,
             "#b5de2b"
            ],
            [
             1,
             "#fde725"
            ]
           ]
          },
          "colorway": [
           "#1F77B4",
           "#FF7F0E",
           "#2CA02C",
           "#D62728",
           "#9467BD",
           "#8C564B",
           "#E377C2",
           "#7F7F7F",
           "#BCBD22",
           "#17BECF"
          ],
          "font": {
           "color": "rgb(36,36,36)"
          },
          "geo": {
           "bgcolor": "white",
           "lakecolor": "white",
           "landcolor": "white",
           "showlakes": true,
           "showland": true,
           "subunitcolor": "white"
          },
          "hoverlabel": {
           "align": "left"
          },
          "hovermode": "closest",
          "mapbox": {
           "style": "light"
          },
          "paper_bgcolor": "white",
          "plot_bgcolor": "white",
          "polar": {
           "angularaxis": {
            "gridcolor": "rgb(232,232,232)",
            "linecolor": "rgb(36,36,36)",
            "showgrid": false,
            "showline": true,
            "ticks": "outside"
           },
           "bgcolor": "white",
           "radialaxis": {
            "gridcolor": "rgb(232,232,232)",
            "linecolor": "rgb(36,36,36)",
            "showgrid": false,
            "showline": true,
            "ticks": "outside"
           }
          },
          "scene": {
           "xaxis": {
            "backgroundcolor": "white",
            "gridcolor": "rgb(232,232,232)",
            "gridwidth": 2,
            "linecolor": "rgb(36,36,36)",
            "showbackground": true,
            "showgrid": false,
            "showline": true,
            "ticks": "outside",
            "zeroline": false,
            "zerolinecolor": "rgb(36,36,36)"
           },
           "yaxis": {
            "backgroundcolor": "white",
            "gridcolor": "rgb(232,232,232)",
            "gridwidth": 2,
            "linecolor": "rgb(36,36,36)",
            "showbackground": true,
            "showgrid": false,
            "showline": true,
            "ticks": "outside",
            "zeroline": false,
            "zerolinecolor": "rgb(36,36,36)"
           },
           "zaxis": {
            "backgroundcolor": "white",
            "gridcolor": "rgb(232,232,232)",
            "gridwidth": 2,
            "linecolor": "rgb(36,36,36)",
            "showbackground": true,
            "showgrid": false,
            "showline": true,
            "ticks": "outside",
            "zeroline": false,
            "zerolinecolor": "rgb(36,36,36)"
           }
          },
          "shapedefaults": {
           "fillcolor": "black",
           "line": {
            "width": 0
           },
           "opacity": 0.3
          },
          "ternary": {
           "aaxis": {
            "gridcolor": "rgb(232,232,232)",
            "linecolor": "rgb(36,36,36)",
            "showgrid": false,
            "showline": true,
            "ticks": "outside"
           },
           "baxis": {
            "gridcolor": "rgb(232,232,232)",
            "linecolor": "rgb(36,36,36)",
            "showgrid": false,
            "showline": true,
            "ticks": "outside"
           },
           "bgcolor": "white",
           "caxis": {
            "gridcolor": "rgb(232,232,232)",
            "linecolor": "rgb(36,36,36)",
            "showgrid": false,
            "showline": true,
            "ticks": "outside"
           }
          },
          "title": {
           "x": 0.05
          },
          "xaxis": {
           "automargin": true,
           "gridcolor": "rgb(232,232,232)",
           "linecolor": "rgb(36,36,36)",
           "showgrid": false,
           "showline": true,
           "ticks": "outside",
           "title": {
            "standoff": 15
           },
           "zeroline": false,
           "zerolinecolor": "rgb(36,36,36)"
          },
          "yaxis": {
           "automargin": true,
           "gridcolor": "rgb(232,232,232)",
           "linecolor": "rgb(36,36,36)",
           "showgrid": false,
           "showline": true,
           "ticks": "outside",
           "title": {
            "standoff": 15
           },
           "zeroline": false,
           "zerolinecolor": "rgb(36,36,36)"
          }
         }
        },
        "title": {
         "font": {
          "color": "Black",
          "size": 22
         },
         "text": "<b>Intertopic Distance Map</b>",
         "x": 0.5,
         "xanchor": "center",
         "y": 0.95,
         "yanchor": "top"
        },
        "width": 650,
        "xaxis": {
         "anchor": "y",
         "domain": [
          0,
          1
         ],
         "range": [
          -14.222345685958862,
          31.608597373962404
         ],
         "title": {
          "text": ""
         },
         "visible": false
        },
        "yaxis": {
         "anchor": "x",
         "domain": [
          0,
          1
         ],
         "range": [
          -15.64139108657837,
          27.31139669418335
         ],
         "title": {
          "text": ""
         },
         "visible": false
        }
       }
      }
     },
     "metadata": {},
     "output_type": "display_data"
    }
   ],
   "source": [
    "# install Jupyter Notebook Renderers if \"No renderer could be found for mimetype application/vnd.plotly.v1+json\"\n",
    "topic_model.visualize_topics()"
   ]
  },
  {
   "cell_type": "code",
   "execution_count": 13,
   "metadata": {},
   "outputs": [],
   "source": [
    "# Next is creating labels and testing the model performance"
   ]
  }
 ],
 "metadata": {
  "kernelspec": {
   "display_name": "Python 3",
   "language": "python",
   "name": "python3"
  },
  "language_info": {
   "codemirror_mode": {
    "name": "ipython",
    "version": 3
   },
   "file_extension": ".py",
   "mimetype": "text/x-python",
   "name": "python",
   "nbconvert_exporter": "python",
   "pygments_lexer": "ipython3",
   "version": "3.8.5"
  },
  "orig_nbformat": 4
 },
 "nbformat": 4,
 "nbformat_minor": 2
}
