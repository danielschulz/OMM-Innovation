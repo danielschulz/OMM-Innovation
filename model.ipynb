{
 "cells": [
  {
   "cell_type": "code",
   "execution_count": 57,
   "metadata": {},
   "outputs": [
    {
     "data": {
      "text/html": [
       "<div>\n",
       "<style scoped>\n",
       "    .dataframe tbody tr th:only-of-type {\n",
       "        vertical-align: middle;\n",
       "    }\n",
       "\n",
       "    .dataframe tbody tr th {\n",
       "        vertical-align: top;\n",
       "    }\n",
       "\n",
       "    .dataframe thead th {\n",
       "        text-align: right;\n",
       "    }\n",
       "</style>\n",
       "<table border=\"1\" class=\"dataframe\">\n",
       "  <thead>\n",
       "    <tr style=\"text-align: right;\">\n",
       "      <th></th>\n",
       "      <th>Unnamed: 0</th>\n",
       "      <th>Name</th>\n",
       "      <th>Product_ID</th>\n",
       "      <th>Product_UserTypeID</th>\n",
       "      <th>AT_MaraBshmCax3D</th>\n",
       "      <th>AT_MaraNtgew</th>\n",
       "      <th>AT_MaraVolum</th>\n",
       "      <th>AT_SAPID</th>\n",
       "      <th>AT_MaraMatkl</th>\n",
       "      <th>AT_MaraNumtp</th>\n",
       "      <th>...</th>\n",
       "      <th>AT_MaraLabor</th>\n",
       "      <th>AT_MaraExtwg</th>\n",
       "      <th>AT_MaraBismt</th>\n",
       "      <th>AT_MaraMeins</th>\n",
       "      <th>AT_MaraMtart</th>\n",
       "      <th>AT_MaraGroes</th>\n",
       "      <th>AT_LeadingSystem</th>\n",
       "      <th>AT_MaraNtgew_UnitID</th>\n",
       "      <th>AT_MaraVolum_UnitID</th>\n",
       "      <th>AT_MaraBrgew_UnitID</th>\n",
       "    </tr>\n",
       "  </thead>\n",
       "  <tbody>\n",
       "    <tr>\n",
       "      <th>0</th>\n",
       "      <td>1</td>\n",
       "      <td>9001422279 - Lens Head Screw M4x8</td>\n",
       "      <td>MAT_928319</td>\n",
       "      <td>Material</td>\n",
       "      <td>60100004395930</td>\n",
       "      <td>1.300</td>\n",
       "      <td>0.000</td>\n",
       "      <td>9001422279</td>\n",
       "      <td>H002 - Customized screws</td>\n",
       "      <td>NaN</td>\n",
       "      <td>...</td>\n",
       "      <td>H10 - FCGB  Inserra, Bortolo</td>\n",
       "      <td>NaN</td>\n",
       "      <td>5750172759</td>\n",
       "      <td>piece(s)</td>\n",
       "      <td>Materials which are externally procured</td>\n",
       "      <td>NaN</td>\n",
       "      <td>SAP</td>\n",
       "      <td>unece.unit.GRM</td>\n",
       "      <td>unece.unit.DMQ</td>\n",
       "      <td>unece.unit.GRM</td>\n",
       "    </tr>\n",
       "    <tr>\n",
       "      <th>1</th>\n",
       "      <td>2</td>\n",
       "      <td>9001730689 - CP body laser printed WT45HV14FR</td>\n",
       "      <td>MAT_928320</td>\n",
       "      <td>Material</td>\n",
       "      <td>NaN</td>\n",
       "      <td>0.318</td>\n",
       "      <td>0.000</td>\n",
       "      <td>9001730689</td>\n",
       "      <td>R239 - xxx - do not use anymore</td>\n",
       "      <td>prefabricated parts</td>\n",
       "      <td>...</td>\n",
       "      <td>WD0 - FLCD  Default (FDW)</td>\n",
       "      <td>NaN</td>\n",
       "      <td>9001452855</td>\n",
       "      <td>piece(s)</td>\n",
       "      <td>Materials which can be potentially produced in...</td>\n",
       "      <td>NaN</td>\n",
       "      <td>SAP</td>\n",
       "      <td>unece.unit.KGM</td>\n",
       "      <td>unece.unit.CMQ</td>\n",
       "      <td>unece.unit.KGM</td>\n",
       "    </tr>\n",
       "    <tr>\n",
       "      <th>2</th>\n",
       "      <td>3</td>\n",
       "      <td>9001730699 - USER MA. SE (WT45HV14FR), FR</td>\n",
       "      <td>MAT_928323</td>\n",
       "      <td>Material</td>\n",
       "      <td>NaN</td>\n",
       "      <td>0.020</td>\n",
       "      <td>0.000</td>\n",
       "      <td>9001730699</td>\n",
       "      <td>X810 - Printed material (general)</td>\n",
       "      <td>NaN</td>\n",
       "      <td>...</td>\n",
       "      <td>WD0 - FLCD  Default (FDW)</td>\n",
       "      <td>NaN</td>\n",
       "      <td>9001452871</td>\n",
       "      <td>piece(s)</td>\n",
       "      <td>Materials which can be potentially produced in...</td>\n",
       "      <td>NaN</td>\n",
       "      <td>SAP</td>\n",
       "      <td>unece.unit.KGM</td>\n",
       "      <td>unece.unit.CMQ</td>\n",
       "      <td>unece.unit.KGM</td>\n",
       "    </tr>\n",
       "    <tr>\n",
       "      <th>3</th>\n",
       "      <td>4</td>\n",
       "      <td>9001731054 - fascia panel GV650A.UC Int  White...</td>\n",
       "      <td>MAT_928324</td>\n",
       "      <td>Material</td>\n",
       "      <td>60100007114130</td>\n",
       "      <td>0.000</td>\n",
       "      <td>0.000</td>\n",
       "      <td>9001731054</td>\n",
       "      <td>R250 - Injected parts (general)</td>\n",
       "      <td>NaN</td>\n",
       "      <td>...</td>\n",
       "      <td>G8A - FDG Neukirchner,Daniel</td>\n",
       "      <td>NaN</td>\n",
       "      <td>8001186041</td>\n",
       "      <td>piece(s)</td>\n",
       "      <td>Materials which can be potentially produced in...</td>\n",
       "      <td>NaN</td>\n",
       "      <td>SAP</td>\n",
       "      <td>unece.unit.GRM</td>\n",
       "      <td>unece.unit.CMQ</td>\n",
       "      <td>unece.unit.GRM</td>\n",
       "    </tr>\n",
       "    <tr>\n",
       "      <th>4</th>\n",
       "      <td>5</td>\n",
       "      <td>9001762412 - Cable Harness operat. EE 590  SP....</td>\n",
       "      <td>MAT_928325</td>\n",
       "      <td>Material</td>\n",
       "      <td>60100008886908</td>\n",
       "      <td>26.800</td>\n",
       "      <td>0.000</td>\n",
       "      <td>9001762412</td>\n",
       "      <td>L592 - IDC+IDC jumpers</td>\n",
       "      <td>NaN</td>\n",
       "      <td>...</td>\n",
       "      <td>VBI - FCGB  Schuhmacher, Jochen</td>\n",
       "      <td>NaN</td>\n",
       "      <td>NaN</td>\n",
       "      <td>piece(s)</td>\n",
       "      <td>Materials which are externally procured</td>\n",
       "      <td>L  590MM</td>\n",
       "      <td>SAP</td>\n",
       "      <td>unece.unit.GRM</td>\n",
       "      <td>unece.unit.DMQ</td>\n",
       "      <td>unece.unit.GRM</td>\n",
       "    </tr>\n",
       "  </tbody>\n",
       "</table>\n",
       "<p>5 rows × 34 columns</p>\n",
       "</div>"
      ],
      "text/plain": [
       "  Unnamed: 0                                               Name  Product_ID   \n",
       "0          1                  9001422279 - Lens Head Screw M4x8  MAT_928319  \\\n",
       "1          2      9001730689 - CP body laser printed WT45HV14FR  MAT_928320   \n",
       "2          3          9001730699 - USER MA. SE (WT45HV14FR), FR  MAT_928323   \n",
       "3          4  9001731054 - fascia panel GV650A.UC Int  White...  MAT_928324   \n",
       "4          5  9001762412 - Cable Harness operat. EE 590  SP....  MAT_928325   \n",
       "\n",
       "  Product_UserTypeID AT_MaraBshmCax3D AT_MaraNtgew AT_MaraVolum    AT_SAPID   \n",
       "0           Material   60100004395930        1.300        0.000  9001422279  \\\n",
       "1           Material              NaN        0.318        0.000  9001730689   \n",
       "2           Material              NaN        0.020        0.000  9001730699   \n",
       "3           Material   60100007114130        0.000        0.000  9001731054   \n",
       "4           Material   60100008886908       26.800        0.000  9001762412   \n",
       "\n",
       "                        AT_MaraMatkl         AT_MaraNumtp  ...   \n",
       "0           H002 - Customized screws                  NaN  ...  \\\n",
       "1    R239 - xxx - do not use anymore  prefabricated parts  ...   \n",
       "2  X810 - Printed material (general)                  NaN  ...   \n",
       "3    R250 - Injected parts (general)                  NaN  ...   \n",
       "4             L592 - IDC+IDC jumpers                  NaN  ...   \n",
       "\n",
       "                      AT_MaraLabor AT_MaraExtwg AT_MaraBismt AT_MaraMeins   \n",
       "0     H10 - FCGB  Inserra, Bortolo          NaN   5750172759     piece(s)  \\\n",
       "1        WD0 - FLCD  Default (FDW)          NaN   9001452855     piece(s)   \n",
       "2        WD0 - FLCD  Default (FDW)          NaN   9001452871     piece(s)   \n",
       "3     G8A - FDG Neukirchner,Daniel          NaN   8001186041     piece(s)   \n",
       "4  VBI - FCGB  Schuhmacher, Jochen          NaN          NaN     piece(s)   \n",
       "\n",
       "                                        AT_MaraMtart AT_MaraGroes   \n",
       "0            Materials which are externally procured          NaN  \\\n",
       "1  Materials which can be potentially produced in...          NaN   \n",
       "2  Materials which can be potentially produced in...          NaN   \n",
       "3  Materials which can be potentially produced in...          NaN   \n",
       "4            Materials which are externally procured     L  590MM   \n",
       "\n",
       "  AT_LeadingSystem AT_MaraNtgew_UnitID AT_MaraVolum_UnitID AT_MaraBrgew_UnitID  \n",
       "0              SAP      unece.unit.GRM      unece.unit.DMQ      unece.unit.GRM  \n",
       "1              SAP      unece.unit.KGM      unece.unit.CMQ      unece.unit.KGM  \n",
       "2              SAP      unece.unit.KGM      unece.unit.CMQ      unece.unit.KGM  \n",
       "3              SAP      unece.unit.GRM      unece.unit.CMQ      unece.unit.GRM  \n",
       "4              SAP      unece.unit.GRM      unece.unit.DMQ      unece.unit.GRM  \n",
       "\n",
       "[5 rows x 34 columns]"
      ]
     },
     "execution_count": 57,
     "metadata": {},
     "output_type": "execute_result"
    }
   ],
   "source": [
    "import pandas as pd\n",
    "\n",
    "df = pd.read_csv(r'data/pandas_df2.csv', dtype='str').iloc[:1000]\n",
    "df.head()"
   ]
  },
  {
   "cell_type": "code",
   "execution_count": 58,
   "metadata": {},
   "outputs": [],
   "source": [
    "# keep only the columns we deem necessary\n",
    "df = df[['Name', 'AT_MaraMatkl', 'AT_MaraMaktx', 'AT_MaraBrgew', 'AT_MaraMtart', 'AT_MaraLabor']]\n",
    "\n",
    "# merge all columns into one\n",
    "df = df.astype(str).apply(lambda x: ' '.join(x), axis=1)\n",
    "\n",
    "# remove all non-alphanumeric characters\n",
    "df.replace(r'[^a-zA-Z]', ' ', regex=True, inplace=True)\n",
    "\n",
    "# remove all single characters from one column dataframe\n",
    "df = df.astype(str).apply(lambda x: ' '.join([w for w in x.split() if len(w)>1]))\n",
    "\n",
    "# remove uneccessary spaces\n",
    "df = df.astype(str).apply(lambda x: ' '.join(x.split()))\n",
    "\n",
    "# lower case\n",
    "df = df.astype(str).apply(lambda x: x.lower())\n",
    "\n",
    "# remove non alphanumeric characters\n",
    "df.replace(r'[^a-zA-Z0-9]', ' ', regex=True, inplace=True)\n",
    "\n",
    "# remove strings that contain numbers\n",
    "df = df.astype(str).apply(lambda x: ' '.join([w for w in x.split() if not any(c.isdigit() for c in w)]))\n",
    "\n",
    "# lower case\n",
    "df = df.astype(str).apply(lambda x: x.lower())\n",
    "\n",
    "# stemming\n",
    "from nltk.stem import PorterStemmer\n",
    "stemmer = PorterStemmer()\n",
    "df = df.astype(str).apply(lambda x: ' '.join([stemmer.stem(w) for w in x.split()]))\n",
    "\n",
    "# remove duplicate words in one row\n",
    "df = df.astype(str).apply(lambda x: ' '.join(sorted(set(x.split()), key=x.split().index)))"
   ]
  },
  {
   "cell_type": "code",
   "execution_count": 59,
   "metadata": {},
   "outputs": [
    {
     "data": {
      "text/plain": [
       "0    len head screw custom materi which are extern ...\n",
       "1    cp bodi laser print wt hv fr xxx do not use an...\n",
       "2    user ma se wt hv fr print materi gener which c...\n",
       "3    fascia panel gv uc int white inject part gener...\n",
       "4    cabl har operat ee sp idc jumper materi which ...\n",
       "dtype: object"
      ]
     },
     "execution_count": 59,
     "metadata": {},
     "output_type": "execute_result"
    }
   ],
   "source": [
    "df.head()\n"
   ]
  },
  {
   "cell_type": "code",
   "execution_count": 60,
   "metadata": {},
   "outputs": [
    {
     "data": {
      "text/plain": [
       "['len head screw custom materi which are extern procur fcgb inserra bortolo',\n",
       " 'cp bodi laser print wt hv fr xxx do not use anymor materi which can be potenti produc intern wd flcd default fdw',\n",
       " 'user ma se wt hv fr print materi gener which can be potenti produc intern wd flcd default fdw',\n",
       " 'fascia panel gv uc int white inject part gener materi which can be potenti produc intern fdg neukirchn daniel',\n",
       " 'cabl har operat ee sp idc jumper materi which are extern procur vbi fcgb schuhmach jochen',\n",
       " 'cabl har operat ee mm sp idc jumper materi which are extern procur vbi fcgb schuhmach jochen',\n",
       " 'wire yellow green dummi materi which can be potenti produc intern fcgl schmitt benoit',\n",
       " 'wire yellow green dummi materi which can be potenti produc intern fcgl schmitt benoit',\n",
       " 'wire yellow green dummi materi which can be potenti produc intern fcgl schmitt benoit',\n",
       " 'dough hook mum compl spare part wire good materi which can be potenti produc intern cs fne default']"
      ]
     },
     "execution_count": 60,
     "metadata": {},
     "output_type": "execute_result"
    }
   ],
   "source": [
    "# create list from dataframe\n",
    "df_list = df.values.tolist()\n",
    "df_list[:10]"
   ]
  },
  {
   "cell_type": "code",
   "execution_count": 61,
   "metadata": {},
   "outputs": [],
   "source": [
    "from bertopic import BERTopic\n",
    "\n",
    "topic_model = BERTopic(language=\"multilingual\") \n",
    "topics, probs = topic_model.fit_transform(df_list)"
   ]
  },
  {
   "cell_type": "code",
   "execution_count": 62,
   "metadata": {},
   "outputs": [
    {
     "data": {
      "text/html": [
       "<div>\n",
       "<style scoped>\n",
       "    .dataframe tbody tr th:only-of-type {\n",
       "        vertical-align: middle;\n",
       "    }\n",
       "\n",
       "    .dataframe tbody tr th {\n",
       "        vertical-align: top;\n",
       "    }\n",
       "\n",
       "    .dataframe thead th {\n",
       "        text-align: right;\n",
       "    }\n",
       "</style>\n",
       "<table border=\"1\" class=\"dataframe\">\n",
       "  <thead>\n",
       "    <tr style=\"text-align: right;\">\n",
       "      <th></th>\n",
       "      <th>Topic</th>\n",
       "      <th>Count</th>\n",
       "      <th>Name</th>\n",
       "    </tr>\n",
       "  </thead>\n",
       "  <tbody>\n",
       "    <tr>\n",
       "      <th>0</th>\n",
       "      <td>-1</td>\n",
       "      <td>153</td>\n",
       "      <td>-1_dummi_which_materi_fne</td>\n",
       "    </tr>\n",
       "    <tr>\n",
       "      <th>1</th>\n",
       "      <td>0</td>\n",
       "      <td>44</td>\n",
       "      <td>0_steel_wire_stainless_made</td>\n",
       "    </tr>\n",
       "    <tr>\n",
       "      <th>2</th>\n",
       "      <td>1</td>\n",
       "      <td>44</td>\n",
       "      <td>1_sotlar_saso_mmr_basic</td>\n",
       "    </tr>\n",
       "    <tr>\n",
       "      <th>3</th>\n",
       "      <td>2</td>\n",
       "      <td>41</td>\n",
       "      <td>2_hing_dnak_kj_top</td>\n",
       "    </tr>\n",
       "    <tr>\n",
       "      <th>4</th>\n",
       "      <td>3</td>\n",
       "      <td>35</td>\n",
       "      <td>3_print_flcn_wax_klosn</td>\n",
       "    </tr>\n",
       "    <tr>\n",
       "      <th>5</th>\n",
       "      <td>4</td>\n",
       "      <td>32</td>\n",
       "      <td>4_box_corrug_fold_board</td>\n",
       "    </tr>\n",
       "    <tr>\n",
       "      <th>6</th>\n",
       "      <td>5</td>\n",
       "      <td>31</td>\n",
       "      <td>5_slider_anton_kriznik_gener</td>\n",
       "    </tr>\n",
       "    <tr>\n",
       "      <th>7</th>\n",
       "      <td>6</td>\n",
       "      <td>28</td>\n",
       "      <td>6_paint_coil_sheet_coat</td>\n",
       "    </tr>\n",
       "    <tr>\n",
       "      <th>8</th>\n",
       "      <td>7</td>\n",
       "      <td>28</td>\n",
       "      <td>7_electron_unit_incl_em</td>\n",
       "    </tr>\n",
       "    <tr>\n",
       "      <th>9</th>\n",
       "      <td>8</td>\n",
       "      <td>26</td>\n",
       "      <td>8_chopper_subcontract_assembl_saso</td>\n",
       "    </tr>\n",
       "    <tr>\n",
       "      <th>10</th>\n",
       "      <td>9</td>\n",
       "      <td>26</td>\n",
       "      <td>9_legend_adhes_flcl_me</td>\n",
       "    </tr>\n",
       "    <tr>\n",
       "      <th>11</th>\n",
       "      <td>10</td>\n",
       "      <td>25</td>\n",
       "      <td>10_hous_saso_sotlar_mmr</td>\n",
       "    </tr>\n",
       "    <tr>\n",
       "      <th>12</th>\n",
       "      <td>11</td>\n",
       "      <td>25</td>\n",
       "      <td>11_spare_subcontract_basic_applianc</td>\n",
       "    </tr>\n",
       "    <tr>\n",
       "      <th>13</th>\n",
       "      <td>12</td>\n",
       "      <td>24</td>\n",
       "      <td>12_rate_plate_herman_jan</td>\n",
       "    </tr>\n",
       "    <tr>\n",
       "      <th>14</th>\n",
       "      <td>13</td>\n",
       "      <td>23</td>\n",
       "      <td>13_print_manual_maria_anna</td>\n",
       "    </tr>\n",
       "    <tr>\n",
       "      <th>15</th>\n",
       "      <td>14</td>\n",
       "      <td>23</td>\n",
       "      <td>14_hous_technic_herman_jan</td>\n",
       "    </tr>\n",
       "    <tr>\n",
       "      <th>16</th>\n",
       "      <td>15</td>\n",
       "      <td>21</td>\n",
       "      <td>15_joint_arm_hf_ac</td>\n",
       "    </tr>\n",
       "    <tr>\n",
       "      <th>17</th>\n",
       "      <td>16</td>\n",
       "      <td>20</td>\n",
       "      <td>16_xxx_use_not_do</td>\n",
       "    </tr>\n",
       "    <tr>\n",
       "      <th>18</th>\n",
       "      <td>17</td>\n",
       "      <td>20</td>\n",
       "      <td>17_drive_and_metal_cover</td>\n",
       "    </tr>\n",
       "    <tr>\n",
       "      <th>19</th>\n",
       "      <td>18</td>\n",
       "      <td>20</td>\n",
       "      <td>18_gift_karolina_piela_corrug</td>\n",
       "    </tr>\n",
       "    <tr>\n",
       "      <th>20</th>\n",
       "      <td>19</td>\n",
       "      <td>20</td>\n",
       "      <td>19_dummi_herman_jan_base</td>\n",
       "    </tr>\n",
       "    <tr>\n",
       "      <th>21</th>\n",
       "      <td>20</td>\n",
       "      <td>20</td>\n",
       "      <td>20_stand_anton_kriznik_iv</td>\n",
       "    </tr>\n",
       "    <tr>\n",
       "      <th>22</th>\n",
       "      <td>21</td>\n",
       "      <td>19</td>\n",
       "      <td>21_aesthet_inox_high_relat</td>\n",
       "    </tr>\n",
       "    <tr>\n",
       "      <th>23</th>\n",
       "      <td>22</td>\n",
       "      <td>18</td>\n",
       "      <td>22_sig_hous_ral_saso</td>\n",
       "    </tr>\n",
       "    <tr>\n",
       "      <th>24</th>\n",
       "      <td>23</td>\n",
       "      <td>18</td>\n",
       "      <td>23_arm_assem_hous_lower</td>\n",
       "    </tr>\n",
       "    <tr>\n",
       "      <th>25</th>\n",
       "      <td>24</td>\n",
       "      <td>17</td>\n",
       "      <td>24_base_applianc_anton_kriznik</td>\n",
       "    </tr>\n",
       "    <tr>\n",
       "      <th>26</th>\n",
       "      <td>25</td>\n",
       "      <td>17</td>\n",
       "      <td>25_overinject_hybrid_metal_complex</td>\n",
       "    </tr>\n",
       "    <tr>\n",
       "      <th>27</th>\n",
       "      <td>26</td>\n",
       "      <td>17</td>\n",
       "      <td>26_blender_incl_unit_cpl</td>\n",
       "    </tr>\n",
       "    <tr>\n",
       "      <th>28</th>\n",
       "      <td>27</td>\n",
       "      <td>16</td>\n",
       "      <td>27_requir_surfac_special_with</td>\n",
       "    </tr>\n",
       "    <tr>\n",
       "      <th>29</th>\n",
       "      <td>28</td>\n",
       "      <td>16</td>\n",
       "      <td>28_blender_bayonett_cover_ii</td>\n",
       "    </tr>\n",
       "    <tr>\n",
       "      <th>30</th>\n",
       "      <td>29</td>\n",
       "      <td>16</td>\n",
       "      <td>29_ring_inner_outer_anton</td>\n",
       "    </tr>\n",
       "    <tr>\n",
       "      <th>31</th>\n",
       "      <td>30</td>\n",
       "      <td>15</td>\n",
       "      <td>30_ceram_glass_cristal_undefin</td>\n",
       "    </tr>\n",
       "    <tr>\n",
       "      <th>32</th>\n",
       "      <td>31</td>\n",
       "      <td>14</td>\n",
       "      <td>31_bo_hbj_evo_fcgi</td>\n",
       "    </tr>\n",
       "    <tr>\n",
       "      <th>33</th>\n",
       "      <td>32</td>\n",
       "      <td>14</td>\n",
       "      <td>32_label_pi_maciolek_lukasz</td>\n",
       "    </tr>\n",
       "    <tr>\n",
       "      <th>34</th>\n",
       "      <td>33</td>\n",
       "      <td>14</td>\n",
       "      <td>33_cc_of_extern_are</td>\n",
       "    </tr>\n",
       "    <tr>\n",
       "      <th>35</th>\n",
       "      <td>34</td>\n",
       "      <td>13</td>\n",
       "      <td>34_flang_technic_jan_herman</td>\n",
       "    </tr>\n",
       "    <tr>\n",
       "      <th>36</th>\n",
       "      <td>35</td>\n",
       "      <td>12</td>\n",
       "      <td>35_case_complex_cover_technic</td>\n",
       "    </tr>\n",
       "    <tr>\n",
       "      <th>37</th>\n",
       "      <td>36</td>\n",
       "      <td>12</td>\n",
       "      <td>36_lower_other_incl_unit</td>\n",
       "    </tr>\n",
       "    <tr>\n",
       "      <th>38</th>\n",
       "      <td>37</td>\n",
       "      <td>12</td>\n",
       "      <td>37_bowl_mixer_of_plastic</td>\n",
       "    </tr>\n",
       "    <tr>\n",
       "      <th>39</th>\n",
       "      <td>38</td>\n",
       "      <td>11</td>\n",
       "      <td>38_ew_base_applianc_kriznik</td>\n",
       "    </tr>\n",
       "  </tbody>\n",
       "</table>\n",
       "</div>"
      ],
      "text/plain": [
       "    Topic  Count                                 Name\n",
       "0      -1    153            -1_dummi_which_materi_fne\n",
       "1       0     44          0_steel_wire_stainless_made\n",
       "2       1     44              1_sotlar_saso_mmr_basic\n",
       "3       2     41                   2_hing_dnak_kj_top\n",
       "4       3     35               3_print_flcn_wax_klosn\n",
       "5       4     32              4_box_corrug_fold_board\n",
       "6       5     31         5_slider_anton_kriznik_gener\n",
       "7       6     28              6_paint_coil_sheet_coat\n",
       "8       7     28              7_electron_unit_incl_em\n",
       "9       8     26   8_chopper_subcontract_assembl_saso\n",
       "10      9     26               9_legend_adhes_flcl_me\n",
       "11     10     25              10_hous_saso_sotlar_mmr\n",
       "12     11     25  11_spare_subcontract_basic_applianc\n",
       "13     12     24             12_rate_plate_herman_jan\n",
       "14     13     23           13_print_manual_maria_anna\n",
       "15     14     23           14_hous_technic_herman_jan\n",
       "16     15     21                   15_joint_arm_hf_ac\n",
       "17     16     20                    16_xxx_use_not_do\n",
       "18     17     20             17_drive_and_metal_cover\n",
       "19     18     20        18_gift_karolina_piela_corrug\n",
       "20     19     20             19_dummi_herman_jan_base\n",
       "21     20     20            20_stand_anton_kriznik_iv\n",
       "22     21     19           21_aesthet_inox_high_relat\n",
       "23     22     18                 22_sig_hous_ral_saso\n",
       "24     23     18              23_arm_assem_hous_lower\n",
       "25     24     17       24_base_applianc_anton_kriznik\n",
       "26     25     17   25_overinject_hybrid_metal_complex\n",
       "27     26     17             26_blender_incl_unit_cpl\n",
       "28     27     16        27_requir_surfac_special_with\n",
       "29     28     16         28_blender_bayonett_cover_ii\n",
       "30     29     16            29_ring_inner_outer_anton\n",
       "31     30     15       30_ceram_glass_cristal_undefin\n",
       "32     31     14                   31_bo_hbj_evo_fcgi\n",
       "33     32     14          32_label_pi_maciolek_lukasz\n",
       "34     33     14                  33_cc_of_extern_are\n",
       "35     34     13          34_flang_technic_jan_herman\n",
       "36     35     12        35_case_complex_cover_technic\n",
       "37     36     12             36_lower_other_incl_unit\n",
       "38     37     12             37_bowl_mixer_of_plastic\n",
       "39     38     11          38_ew_base_applianc_kriznik"
      ]
     },
     "execution_count": 62,
     "metadata": {},
     "output_type": "execute_result"
    }
   ],
   "source": [
    "topic_model.get_topic_info()"
   ]
  },
  {
   "cell_type": "code",
   "execution_count": 11,
   "metadata": {},
   "outputs": [],
   "source": [
    "# topic_model.get_document_info(df_list)[:10]"
   ]
  },
  {
   "cell_type": "code",
   "execution_count": 10,
   "metadata": {},
   "outputs": [],
   "source": [
    "# install Jupyter Notebook Renderers if \"No renderer could be found for mimetype application/vnd.plotly.v1+json\"\n",
    "# topic_model.visualize_topics()"
   ]
  },
  {
   "cell_type": "code",
   "execution_count": 63,
   "metadata": {},
   "outputs": [
    {
     "name": "stderr",
     "output_type": "stream",
     "text": [
      "100%|██████████| 38/38 [00:00<00:00, 173.58it/s]\n"
     ]
    }
   ],
   "source": [
    "from scipy.cluster import hierarchy as sch\n",
    "\n",
    "# Hierarchical topics\n",
    "linkage_function = lambda x: sch.linkage(x, 'single', optimal_ordering=True)\n",
    "hierarchical_topics = topic_model.hierarchical_topics(df_list, linkage_function=linkage_function)"
   ]
  },
  {
   "cell_type": "code",
   "execution_count": 64,
   "metadata": {},
   "outputs": [
    {
     "data": {
      "application/vnd.plotly.v1+json": {
       "config": {
        "plotlyServerURL": "https://plot.ly"
       },
       "data": [
        {
         "hoverinfo": "text",
         "marker": {
          "color": "rgb(61,153,112)"
         },
         "mode": "lines",
         "text": [
          "gift_karolina_piela_corrug_fold",
          "",
          "",
          "box_corrug_fold_board_fcpr"
         ],
         "type": "scatter",
         "x": [
          0,
          0.42358495683298647,
          0.42358495683298647,
          0
         ],
         "xaxis": "x",
         "y": [
          -15,
          -15,
          -25,
          -25
         ],
         "yaxis": "y"
        },
        {
         "hoverinfo": "text",
         "marker": {
          "color": "rgb(0,116,217)"
         },
         "mode": "lines",
         "text": [
          "label_pi_maciolek_lukasz_mfw",
          "",
          "",
          "box_corrug_fold_board_fcpr"
         ],
         "type": "scatter",
         "x": [
          0,
          1.419341411348522,
          1.419341411348522,
          0.42358495683298647
         ],
         "xaxis": "x",
         "y": [
          -5,
          -5,
          -20,
          -20
         ],
         "yaxis": "y"
        },
        {
         "hoverinfo": "text",
         "marker": {
          "color": "rgb(0,116,217)"
         },
         "mode": "lines",
         "text": [
          "bo_hbj_evo_fcgi_sg",
          "",
          "",
          "print_manual_maria_anna_hcj"
         ],
         "type": "scatter",
         "x": [
          0,
          1.1367298681455997,
          1.1367298681455997,
          0
         ],
         "xaxis": "x",
         "y": [
          -35,
          -35,
          -45,
          -45
         ],
         "yaxis": "y"
        },
        {
         "hoverinfo": "text",
         "marker": {
          "color": "rgb(0,116,217)"
         },
         "mode": "lines",
         "text": [
          "iu_print_manual_user_procur",
          "",
          "",
          "print_flcn_wax_klosn_wm"
         ],
         "type": "scatter",
         "x": [
          1.1367298681455997,
          1.2899320738020448,
          1.2899320738020448,
          0
         ],
         "xaxis": "x",
         "y": [
          -40,
          -40,
          -55,
          -55
         ],
         "yaxis": "y"
        },
        {
         "hoverinfo": "text",
         "marker": {
          "color": "rgb(0,116,217)"
         },
         "mode": "lines",
         "text": [
          "ceram_glass_cristal_undefin_spare",
          "",
          "",
          "print_flcn_wax_klosn_wm"
         ],
         "type": "scatter",
         "x": [
          0,
          1.2379545164510484,
          1.2379545164510484,
          0
         ],
         "xaxis": "x",
         "y": [
          -65,
          -65,
          -75,
          -75
         ],
         "yaxis": "y"
        },
        {
         "hoverinfo": "text",
         "marker": {
          "color": "rgb(0,116,217)"
         },
         "mode": "lines",
         "text": [
          "cc_of_extern_are_procur",
          "",
          "",
          "bowl_mixer_of_plastic_cube"
         ],
         "type": "scatter",
         "x": [
          1.2379545164510484,
          1.512809042664137,
          1.512809042664137,
          0
         ],
         "xaxis": "x",
         "y": [
          -70,
          -70,
          -85,
          -85
         ],
         "yaxis": "y"
        },
        {
         "hoverinfo": "text",
         "marker": {
          "color": "rgb(0,116,217)"
         },
         "mode": "lines",
         "text": [
          "steel_wire_stainless_made_good",
          "",
          "",
          "of_bowl_cc_herman_jan"
         ],
         "type": "scatter",
         "x": [
          1.2899320738020448,
          1.6498943094197207,
          1.6498943094197207,
          1.512809042664137
         ],
         "xaxis": "x",
         "y": [
          -47.5,
          -47.5,
          -77.5,
          -77.5
         ],
         "yaxis": "y"
        },
        {
         "hoverinfo": "text",
         "marker": {
          "color": "rgb(0,116,217)"
         },
         "mode": "lines",
         "text": [
          "aesthet_inox_high_relat_tool",
          "",
          "",
          "hing_dnak_kj_top_qinchao"
         ],
         "type": "scatter",
         "x": [
          0,
          1.055282235894064,
          1.055282235894064,
          0
         ],
         "xaxis": "x",
         "y": [
          -105,
          -105,
          -115,
          -115
         ],
         "yaxis": "y"
        },
        {
         "hoverinfo": "text",
         "marker": {
          "color": "rgb(0,116,217)"
         },
         "mode": "lines",
         "text": [
          "aesthet_inox_high_relat_tool",
          "",
          "",
          "legend_adhes_flcl_me_flw"
         ],
         "type": "scatter",
         "x": [
          0,
          1.2870495137404439,
          1.2870495137404439,
          1.055282235894064
         ],
         "xaxis": "x",
         "y": [
          -95,
          -95,
          -110,
          -110
         ],
         "yaxis": "y"
        },
        {
         "hoverinfo": "text",
         "marker": {
          "color": "rgb(0,116,217)"
         },
         "mode": "lines",
         "text": [
          "aesthet_inox_high_relat_tool",
          "",
          "",
          "legend_adhes_flcl_me_flw"
         ],
         "type": "scatter",
         "x": [
          1.6498943094197207,
          1.7274308475896931,
          1.7274308475896931,
          1.2870495137404439
         ],
         "xaxis": "x",
         "y": [
          -62.5,
          -62.5,
          -102.5,
          -102.5
         ],
         "yaxis": "y"
        },
        {
         "hoverinfo": "text",
         "marker": {
          "color": "rgb(0,116,217)"
         },
         "mode": "lines",
         "text": [
          "aesthet_inox_high_relat_tool",
          "",
          "",
          "legend_adhes_flcl_me_flw"
         ],
         "type": "scatter",
         "x": [
          1.419341411348522,
          2.1885103321980925,
          2.1885103321980925,
          1.7274308475896931
         ],
         "xaxis": "x",
         "y": [
          -12.5,
          -12.5,
          -82.5,
          -82.5
         ],
         "yaxis": "y"
        },
        {
         "hoverinfo": "text",
         "marker": {
          "color": "rgb(0,116,217)"
         },
         "mode": "lines",
         "text": [
          "fcpr_box_corrug_fold_board",
          "",
          "",
          "legend_adhes_flcl_me_flw"
         ],
         "type": "scatter",
         "x": [
          0,
          1.177586074356818,
          1.177586074356818,
          0
         ],
         "xaxis": "x",
         "y": [
          -125,
          -125,
          -135,
          -135
         ],
         "yaxis": "y"
        },
        {
         "hoverinfo": "text",
         "marker": {
          "color": "rgb(255,65,54)"
         },
         "mode": "lines",
         "text": [
          "lower_other_incl_unit_arm",
          "",
          "",
          "electron_unit_incl_em_other"
         ],
         "type": "scatter",
         "x": [
          0,
          0.8537160370557483,
          0.8537160370557483,
          0
         ],
         "xaxis": "x",
         "y": [
          -145,
          -145,
          -155,
          -155
         ],
         "yaxis": "y"
        },
        {
         "hoverinfo": "text",
         "marker": {
          "color": "rgb(0,116,217)"
         },
         "mode": "lines",
         "text": [
          "paint_coil_sheet_coat_side",
          "",
          "",
          "electron_unit_incl_em_other"
         ],
         "type": "scatter",
         "x": [
          0.8537160370557483,
          1.049584442545039,
          1.049584442545039,
          0
         ],
         "xaxis": "x",
         "y": [
          -150,
          -150,
          -165,
          -165
         ],
         "yaxis": "y"
        },
        {
         "hoverinfo": "text",
         "marker": {
          "color": "rgb(0,116,217)"
         },
         "mode": "lines",
         "text": [
          "joint_arm_hf_ac_iii",
          "",
          "",
          "arm_assem_hous_lower_upper"
         ],
         "type": "scatter",
         "x": [
          1.177586074356818,
          1.3874981770775952,
          1.3874981770775952,
          1.049584442545039
         ],
         "xaxis": "x",
         "y": [
          -130,
          -130,
          -157.5,
          -157.5
         ],
         "yaxis": "y"
        },
        {
         "hoverinfo": "text",
         "marker": {
          "color": "rgb(35,205,205)"
         },
         "mode": "lines",
         "text": [
          "joint_arm_hf_ac_iii",
          "",
          "",
          "arm_assem_hous_lower_upper"
         ],
         "type": "scatter",
         "x": [
          0,
          0.519792295712683,
          0.519792295712683,
          0
         ],
         "xaxis": "x",
         "y": [
          -175,
          -175,
          -185,
          -185
         ],
         "yaxis": "y"
        },
        {
         "hoverinfo": "text",
         "marker": {
          "color": "rgb(0,116,217)"
         },
         "mode": "lines",
         "text": [
          "overinject_hybrid_metal_complex_alu",
          "",
          "",
          "drive_and_metal_cover_unit"
         ],
         "type": "scatter",
         "x": [
          1.3874981770775952,
          1.7988525008794611,
          1.7988525008794611,
          0.519792295712683
         ],
         "xaxis": "x",
         "y": [
          -143.75,
          -143.75,
          -180,
          -180
         ],
         "yaxis": "y"
        },
        {
         "hoverinfo": "text",
         "marker": {
          "color": "rgb(0,116,217)"
         },
         "mode": "lines",
         "text": [
          "blender_incl_unit_cpl_assembl",
          "",
          "",
          "blender_bayonett_cover_ii_herman"
         ],
         "type": "scatter",
         "x": [
          0,
          1.052620260695258,
          1.052620260695258,
          0
         ],
         "xaxis": "x",
         "y": [
          -195,
          -195,
          -205,
          -205
         ],
         "yaxis": "y"
        },
        {
         "hoverinfo": "text",
         "marker": {
          "color": "rgb(0,116,217)"
         },
         "mode": "lines",
         "text": [
          "flang_technic_jan_herman_complex",
          "",
          "",
          "case_complex_cover_technic_jan"
         ],
         "type": "scatter",
         "x": [
          0,
          1.2461267927853512,
          1.2461267927853512,
          0
         ],
         "xaxis": "x",
         "y": [
          -215,
          -215,
          -225,
          -225
         ],
         "yaxis": "y"
        },
        {
         "hoverinfo": "text",
         "marker": {
          "color": "rgb(0,116,217)"
         },
         "mode": "lines",
         "text": [
          "hous_technic_herman_jan_vzf",
          "",
          "",
          "case_technic_complex_cover_jan"
         ],
         "type": "scatter",
         "x": [
          1.2461267927853512,
          1.3228699737476122,
          1.3228699737476122,
          0
         ],
         "xaxis": "x",
         "y": [
          -220,
          -220,
          -235,
          -235
         ],
         "yaxis": "y"
        },
        {
         "hoverinfo": "text",
         "marker": {
          "color": "rgb(0,116,217)"
         },
         "mode": "lines",
         "text": [
          "blender_cover_ii_incl_unit",
          "",
          "",
          "technic_jan_herman_case_gener"
         ],
         "type": "scatter",
         "x": [
          1.052620260695258,
          1.4375350161280558,
          1.4375350161280558,
          1.3228699737476122
         ],
         "xaxis": "x",
         "y": [
          -200,
          -200,
          -227.5,
          -227.5
         ],
         "yaxis": "y"
        },
        {
         "hoverinfo": "text",
         "marker": {
          "color": "rgb(133,20,75)"
         },
         "mode": "lines",
         "text": [
          "blender_cover_ii_incl_unit",
          "",
          "",
          "rate_plate_herman_jan_dummi"
         ],
         "type": "scatter",
         "x": [
          0,
          0.9784755885891386,
          0.9784755885891386,
          0
         ],
         "xaxis": "x",
         "y": [
          -245,
          -245,
          -255,
          -255
         ],
         "yaxis": "y"
        },
        {
         "hoverinfo": "text",
         "marker": {
          "color": "rgb(0,116,217)"
         },
         "mode": "lines",
         "text": [
          "blender_cover_ii_incl_unit",
          "",
          "",
          "rate_plate_herman_jan_dummi"
         ],
         "type": "scatter",
         "x": [
          0,
          1.1097193465810153,
          1.1097193465810153,
          0
         ],
         "xaxis": "x",
         "y": [
          -265,
          -265,
          -275,
          -275
         ],
         "yaxis": "y"
        },
        {
         "hoverinfo": "text",
         "marker": {
          "color": "rgb(0,116,217)"
         },
         "mode": "lines",
         "text": [
          "blender_cover_ii_incl_unit",
          "",
          "",
          "rate_plate_herman_jan_dummi"
         ],
         "type": "scatter",
         "x": [
          0.9784755885891386,
          1.1367247874325836,
          1.1367247874325836,
          1.1097193465810153
         ],
         "xaxis": "x",
         "y": [
          -250,
          -250,
          -270,
          -270
         ],
         "yaxis": "y"
        },
        {
         "hoverinfo": "text",
         "marker": {
          "color": "rgb(0,116,217)"
         },
         "mode": "lines",
         "text": [
          "ew_base_applianc_kriznik_anton",
          "",
          "",
          "base_applianc_anton_kriznik_tw"
         ],
         "type": "scatter",
         "x": [
          1.4375350161280558,
          1.615778630636503,
          1.615778630636503,
          1.1367247874325836
         ],
         "xaxis": "x",
         "y": [
          -213.75,
          -213.75,
          -260,
          -260
         ],
         "yaxis": "y"
        },
        {
         "hoverinfo": "text",
         "marker": {
          "color": "rgb(255,220,0)"
         },
         "mode": "lines",
         "text": [
          "base_applianc_ew_anton_kriznik",
          "",
          "",
          "dummi_herman_jan_base_applianc"
         ],
         "type": "scatter",
         "x": [
          0,
          0.7739438425494021,
          0.7739438425494021,
          0
         ],
         "xaxis": "x",
         "y": [
          -285,
          -285,
          -295,
          -295
         ],
         "yaxis": "y"
        },
        {
         "hoverinfo": "text",
         "marker": {
          "color": "rgb(40,35,35)"
         },
         "mode": "lines",
         "text": [
          "stand_anton_kriznik_iv_dummi",
          "",
          "",
          "slider_anton_kriznik_gener_part"
         ],
         "type": "scatter",
         "x": [
          0,
          0.7348982271911714,
          0.7348982271911714,
          0
         ],
         "xaxis": "x",
         "y": [
          -305,
          -305,
          -315,
          -315
         ],
         "yaxis": "y"
        },
        {
         "hoverinfo": "text",
         "marker": {
          "color": "rgb(40,35,35)"
         },
         "mode": "lines",
         "text": [
          "ring_inner_outer_anton_kriznik",
          "",
          "",
          "anton_kriznik_slider_mum_part"
         ],
         "type": "scatter",
         "x": [
          0.7348982271911714,
          0.9343497259888952,
          0.9343497259888952,
          0
         ],
         "xaxis": "x",
         "y": [
          -310,
          -310,
          -325,
          -325
         ],
         "yaxis": "y"
        },
        {
         "hoverinfo": "text",
         "marker": {
          "color": "rgb(0,116,217)"
         },
         "mode": "lines",
         "text": [
          "ring_inner_outer_anton_kriznik",
          "",
          "",
          "xxx_use_not_do_anymor"
         ],
         "type": "scatter",
         "x": [
          0.7739438425494021,
          1.3452960199799544,
          1.3452960199799544,
          0.9343497259888952
         ],
         "xaxis": "x",
         "y": [
          -290,
          -290,
          -317.5,
          -317.5
         ],
         "yaxis": "y"
        },
        {
         "hoverinfo": "text",
         "marker": {
          "color": "rgb(0,116,217)"
         },
         "mode": "lines",
         "text": [
          "base_applianc_dummi_mum_ew",
          "",
          "",
          "xxx_use_not_do_anymor"
         ],
         "type": "scatter",
         "x": [
          1.615778630636503,
          1.8669008129743634,
          1.8669008129743634,
          1.3452960199799544
         ],
         "xaxis": "x",
         "y": [
          -236.875,
          -236.875,
          -303.75,
          -303.75
         ],
         "yaxis": "y"
        },
        {
         "hoverinfo": "text",
         "marker": {
          "color": "rgb(0,116,217)"
         },
         "mode": "lines",
         "text": [
          "base_applianc_dummi_mum_ew",
          "",
          "",
          "xxx_use_not_do_anymor"
         ],
         "type": "scatter",
         "x": [
          1.7988525008794611,
          2.475919502819458,
          2.475919502819458,
          1.8669008129743634
         ],
         "xaxis": "x",
         "y": [
          -161.875,
          -161.875,
          -270.3125,
          -270.3125
         ],
         "yaxis": "y"
        },
        {
         "hoverinfo": "text",
         "marker": {
          "color": "rgb(61,153,112)"
         },
         "mode": "lines",
         "text": [
          "hous_saso_sotlar_mmr_bottom",
          "",
          "",
          "sig_hous_ral_saso_sotlar"
         ],
         "type": "scatter",
         "x": [
          0,
          0.7183473076878197,
          0.7183473076878197,
          0
         ],
         "xaxis": "x",
         "y": [
          -345,
          -345,
          -355,
          -355
         ],
         "yaxis": "y"
        },
        {
         "hoverinfo": "text",
         "marker": {
          "color": "rgb(0,116,217)"
         },
         "mode": "lines",
         "text": [
          "requir_surfac_special_with_gehaeusedeckel",
          "",
          "",
          "hous_sotlar_saso_ii_top"
         ],
         "type": "scatter",
         "x": [
          0,
          1.2852023649934534,
          1.2852023649934534,
          0.7183473076878197
         ],
         "xaxis": "x",
         "y": [
          -335,
          -335,
          -350,
          -350
         ],
         "yaxis": "y"
        },
        {
         "hoverinfo": "text",
         "marker": {
          "color": "rgb(255,65,54)"
         },
         "mode": "lines",
         "text": [
          "sotlar_saso_mmr_basic_app",
          "",
          "",
          "spare_subcontract_basic_applianc_sotlar"
         ],
         "type": "scatter",
         "x": [
          0,
          0.7841997502063439,
          0.7841997502063439,
          0
         ],
         "xaxis": "x",
         "y": [
          -365,
          -365,
          -375,
          -375
         ],
         "yaxis": "y"
        },
        {
         "hoverinfo": "text",
         "marker": {
          "color": "rgb(255,65,54)"
         },
         "mode": "lines",
         "text": [
          "basic_sotlar_saso_mmr_applianc",
          "",
          "",
          "chopper_subcontract_assembl_saso_sotlar"
         ],
         "type": "scatter",
         "x": [
          0.7841997502063439,
          0.9107694663790898,
          0.9107694663790898,
          0
         ],
         "xaxis": "x",
         "y": [
          -370,
          -370,
          -385,
          -385
         ],
         "yaxis": "y"
        },
        {
         "hoverinfo": "text",
         "marker": {
          "color": "rgb(0,116,217)"
         },
         "mode": "lines",
         "text": [
          "basic_sotlar_saso_mmr_applianc",
          "",
          "",
          "chopper_subcontract_assembl_saso_sotlar"
         ],
         "type": "scatter",
         "x": [
          1.2852023649934534,
          1.5155896121747945,
          1.5155896121747945,
          0.9107694663790898
         ],
         "xaxis": "x",
         "y": [
          -342.5,
          -342.5,
          -377.5,
          -377.5
         ],
         "yaxis": "y"
        },
        {
         "hoverinfo": "text",
         "marker": {
          "color": "rgb(0,116,217)"
         },
         "mode": "lines",
         "text": [
          "basic_sotlar_saso_mmr_applianc",
          "",
          "",
          "chopper_subcontract_assembl_saso_sotlar"
         ],
         "type": "scatter",
         "x": [
          2.475919502819458,
          3.100294750448644,
          3.100294750448644,
          1.5155896121747945
         ],
         "xaxis": "x",
         "y": [
          -216.09375,
          -216.09375,
          -360,
          -360
         ],
         "yaxis": "y"
        },
        {
         "hoverinfo": "text",
         "marker": {
          "color": "rgb(0,116,217)"
         },
         "mode": "lines",
         "text": [
          "basic_sotlar_saso_mmr_applianc",
          "",
          "",
          "chopper_subcontract_assembl_saso_sotlar"
         ],
         "type": "scatter",
         "x": [
          2.1885103321980925,
          3.9658927544259432,
          3.9658927544259432,
          3.100294750448644
         ],
         "xaxis": "x",
         "y": [
          -47.5,
          -47.5,
          -288.046875,
          -288.046875
         ],
         "yaxis": "y"
        },
        {
         "hoverinfo": "text",
         "hovertext": [
          "iu_print_manual_user_procur",
          "cc_of_extern_are_procur",
          "steel_wire_stainless_made_good",
          "aesthet_inox_high_relat_tool",
          "aesthet_inox_high_relat_tool",
          "paint_coil_sheet_coat_side",
          "joint_arm_hf_ac_iii",
          "overinject_hybrid_metal_complex_alu",
          "hous_technic_herman_jan_vzf",
          "blender_cover_ii_incl_unit",
          "blender_cover_ii_incl_unit",
          "ew_base_applianc_kriznik_anton",
          "ring_inner_outer_anton_kriznik",
          "ring_inner_outer_anton_kriznik",
          "base_applianc_dummi_mum_ew",
          "base_applianc_dummi_mum_ew",
          "basic_sotlar_saso_mmr_applianc",
          "basic_sotlar_saso_mmr_applianc",
          "basic_sotlar_saso_mmr_applianc",
          "basic_sotlar_saso_mmr_applianc"
         ],
         "marker": {
          "color": "black"
         },
         "mode": "markers",
         "showlegend": false,
         "type": "scatter",
         "x": [
          1.1367298681455997,
          1.2379545164510484,
          1.2899320738020448,
          1.6498943094197207,
          1.419341411348522,
          0.8537160370557483,
          1.177586074356818,
          1.3874981770775952,
          1.2461267927853512,
          1.052620260695258,
          0.9784755885891386,
          1.4375350161280558,
          0.7348982271911714,
          0.7739438425494021,
          1.615778630636503,
          1.7988525008794611,
          0.7841997502063439,
          1.2852023649934534,
          2.475919502819458,
          2.1885103321980925
         ],
         "y": [
          -40,
          -70,
          -47.5,
          -62.5,
          -12.5,
          -150,
          -130,
          -143.75,
          -220,
          -200,
          -250,
          -213.75,
          -310,
          -290,
          -236.875,
          -161.875,
          -370,
          -342.5,
          -216.09375,
          -47.5
         ]
        },
        {
         "hoverinfo": "text",
         "hovertext": [
          "box_corrug_fold_board_fcpr",
          "of_bowl_cc_herman_jan",
          "legend_adhes_flcl_me_flw",
          "legend_adhes_flcl_me_flw",
          "legend_adhes_flcl_me_flw",
          "arm_assem_hous_lower_upper",
          "drive_and_metal_cover_unit",
          "technic_jan_herman_case_gener",
          "rate_plate_herman_jan_dummi",
          "base_applianc_anton_kriznik_tw",
          "xxx_use_not_do_anymor",
          "xxx_use_not_do_anymor",
          "xxx_use_not_do_anymor",
          "hous_sotlar_saso_ii_top",
          "chopper_subcontract_assembl_saso_sotlar",
          "chopper_subcontract_assembl_saso_sotlar",
          "chopper_subcontract_assembl_saso_sotlar"
         ],
         "marker": {
          "color": "black"
         },
         "mode": "markers",
         "showlegend": false,
         "type": "scatter",
         "x": [
          0.42358495683298647,
          1.512809042664137,
          1.055282235894064,
          1.2870495137404439,
          1.7274308475896931,
          1.049584442545039,
          0.519792295712683,
          1.3228699737476122,
          1.1097193465810153,
          1.1367247874325836,
          0.9343497259888952,
          1.3452960199799544,
          1.8669008129743634,
          0.7183473076878197,
          0.9107694663790898,
          1.5155896121747945,
          3.100294750448644
         ],
         "y": [
          -20,
          -77.5,
          -110,
          -102.5,
          -82.5,
          -157.5,
          -180,
          -227.5,
          -270,
          -260,
          -317.5,
          -303.75,
          -270.3125,
          -350,
          -377.5,
          -360,
          -288.046875
         ]
        }
       ],
       "layout": {
        "autosize": false,
        "height": 785,
        "hoverlabel": {
         "bgcolor": "white",
         "font": {
          "family": "Rockwell",
          "size": 16
         }
        },
        "hovermode": "closest",
        "plot_bgcolor": "#ECEFF1",
        "showlegend": false,
        "template": {
         "data": {
          "bar": [
           {
            "error_x": {
             "color": "#2a3f5f"
            },
            "error_y": {
             "color": "#2a3f5f"
            },
            "marker": {
             "line": {
              "color": "white",
              "width": 0.5
             },
             "pattern": {
              "fillmode": "overlay",
              "size": 10,
              "solidity": 0.2
             }
            },
            "type": "bar"
           }
          ],
          "barpolar": [
           {
            "marker": {
             "line": {
              "color": "white",
              "width": 0.5
             },
             "pattern": {
              "fillmode": "overlay",
              "size": 10,
              "solidity": 0.2
             }
            },
            "type": "barpolar"
           }
          ],
          "carpet": [
           {
            "aaxis": {
             "endlinecolor": "#2a3f5f",
             "gridcolor": "#C8D4E3",
             "linecolor": "#C8D4E3",
             "minorgridcolor": "#C8D4E3",
             "startlinecolor": "#2a3f5f"
            },
            "baxis": {
             "endlinecolor": "#2a3f5f",
             "gridcolor": "#C8D4E3",
             "linecolor": "#C8D4E3",
             "minorgridcolor": "#C8D4E3",
             "startlinecolor": "#2a3f5f"
            },
            "type": "carpet"
           }
          ],
          "choropleth": [
           {
            "colorbar": {
             "outlinewidth": 0,
             "ticks": ""
            },
            "type": "choropleth"
           }
          ],
          "contour": [
           {
            "colorbar": {
             "outlinewidth": 0,
             "ticks": ""
            },
            "colorscale": [
             [
              0,
              "#0d0887"
             ],
             [
              0.1111111111111111,
              "#46039f"
             ],
             [
              0.2222222222222222,
              "#7201a8"
             ],
             [
              0.3333333333333333,
              "#9c179e"
             ],
             [
              0.4444444444444444,
              "#bd3786"
             ],
             [
              0.5555555555555556,
              "#d8576b"
             ],
             [
              0.6666666666666666,
              "#ed7953"
             ],
             [
              0.7777777777777778,
              "#fb9f3a"
             ],
             [
              0.8888888888888888,
              "#fdca26"
             ],
             [
              1,
              "#f0f921"
             ]
            ],
            "type": "contour"
           }
          ],
          "contourcarpet": [
           {
            "colorbar": {
             "outlinewidth": 0,
             "ticks": ""
            },
            "type": "contourcarpet"
           }
          ],
          "heatmap": [
           {
            "colorbar": {
             "outlinewidth": 0,
             "ticks": ""
            },
            "colorscale": [
             [
              0,
              "#0d0887"
             ],
             [
              0.1111111111111111,
              "#46039f"
             ],
             [
              0.2222222222222222,
              "#7201a8"
             ],
             [
              0.3333333333333333,
              "#9c179e"
             ],
             [
              0.4444444444444444,
              "#bd3786"
             ],
             [
              0.5555555555555556,
              "#d8576b"
             ],
             [
              0.6666666666666666,
              "#ed7953"
             ],
             [
              0.7777777777777778,
              "#fb9f3a"
             ],
             [
              0.8888888888888888,
              "#fdca26"
             ],
             [
              1,
              "#f0f921"
             ]
            ],
            "type": "heatmap"
           }
          ],
          "heatmapgl": [
           {
            "colorbar": {
             "outlinewidth": 0,
             "ticks": ""
            },
            "colorscale": [
             [
              0,
              "#0d0887"
             ],
             [
              0.1111111111111111,
              "#46039f"
             ],
             [
              0.2222222222222222,
              "#7201a8"
             ],
             [
              0.3333333333333333,
              "#9c179e"
             ],
             [
              0.4444444444444444,
              "#bd3786"
             ],
             [
              0.5555555555555556,
              "#d8576b"
             ],
             [
              0.6666666666666666,
              "#ed7953"
             ],
             [
              0.7777777777777778,
              "#fb9f3a"
             ],
             [
              0.8888888888888888,
              "#fdca26"
             ],
             [
              1,
              "#f0f921"
             ]
            ],
            "type": "heatmapgl"
           }
          ],
          "histogram": [
           {
            "marker": {
             "pattern": {
              "fillmode": "overlay",
              "size": 10,
              "solidity": 0.2
             }
            },
            "type": "histogram"
           }
          ],
          "histogram2d": [
           {
            "colorbar": {
             "outlinewidth": 0,
             "ticks": ""
            },
            "colorscale": [
             [
              0,
              "#0d0887"
             ],
             [
              0.1111111111111111,
              "#46039f"
             ],
             [
              0.2222222222222222,
              "#7201a8"
             ],
             [
              0.3333333333333333,
              "#9c179e"
             ],
             [
              0.4444444444444444,
              "#bd3786"
             ],
             [
              0.5555555555555556,
              "#d8576b"
             ],
             [
              0.6666666666666666,
              "#ed7953"
             ],
             [
              0.7777777777777778,
              "#fb9f3a"
             ],
             [
              0.8888888888888888,
              "#fdca26"
             ],
             [
              1,
              "#f0f921"
             ]
            ],
            "type": "histogram2d"
           }
          ],
          "histogram2dcontour": [
           {
            "colorbar": {
             "outlinewidth": 0,
             "ticks": ""
            },
            "colorscale": [
             [
              0,
              "#0d0887"
             ],
             [
              0.1111111111111111,
              "#46039f"
             ],
             [
              0.2222222222222222,
              "#7201a8"
             ],
             [
              0.3333333333333333,
              "#9c179e"
             ],
             [
              0.4444444444444444,
              "#bd3786"
             ],
             [
              0.5555555555555556,
              "#d8576b"
             ],
             [
              0.6666666666666666,
              "#ed7953"
             ],
             [
              0.7777777777777778,
              "#fb9f3a"
             ],
             [
              0.8888888888888888,
              "#fdca26"
             ],
             [
              1,
              "#f0f921"
             ]
            ],
            "type": "histogram2dcontour"
           }
          ],
          "mesh3d": [
           {
            "colorbar": {
             "outlinewidth": 0,
             "ticks": ""
            },
            "type": "mesh3d"
           }
          ],
          "parcoords": [
           {
            "line": {
             "colorbar": {
              "outlinewidth": 0,
              "ticks": ""
             }
            },
            "type": "parcoords"
           }
          ],
          "pie": [
           {
            "automargin": true,
            "type": "pie"
           }
          ],
          "scatter": [
           {
            "fillpattern": {
             "fillmode": "overlay",
             "size": 10,
             "solidity": 0.2
            },
            "type": "scatter"
           }
          ],
          "scatter3d": [
           {
            "line": {
             "colorbar": {
              "outlinewidth": 0,
              "ticks": ""
             }
            },
            "marker": {
             "colorbar": {
              "outlinewidth": 0,
              "ticks": ""
             }
            },
            "type": "scatter3d"
           }
          ],
          "scattercarpet": [
           {
            "marker": {
             "colorbar": {
              "outlinewidth": 0,
              "ticks": ""
             }
            },
            "type": "scattercarpet"
           }
          ],
          "scattergeo": [
           {
            "marker": {
             "colorbar": {
              "outlinewidth": 0,
              "ticks": ""
             }
            },
            "type": "scattergeo"
           }
          ],
          "scattergl": [
           {
            "marker": {
             "colorbar": {
              "outlinewidth": 0,
              "ticks": ""
             }
            },
            "type": "scattergl"
           }
          ],
          "scattermapbox": [
           {
            "marker": {
             "colorbar": {
              "outlinewidth": 0,
              "ticks": ""
             }
            },
            "type": "scattermapbox"
           }
          ],
          "scatterpolar": [
           {
            "marker": {
             "colorbar": {
              "outlinewidth": 0,
              "ticks": ""
             }
            },
            "type": "scatterpolar"
           }
          ],
          "scatterpolargl": [
           {
            "marker": {
             "colorbar": {
              "outlinewidth": 0,
              "ticks": ""
             }
            },
            "type": "scatterpolargl"
           }
          ],
          "scatterternary": [
           {
            "marker": {
             "colorbar": {
              "outlinewidth": 0,
              "ticks": ""
             }
            },
            "type": "scatterternary"
           }
          ],
          "surface": [
           {
            "colorbar": {
             "outlinewidth": 0,
             "ticks": ""
            },
            "colorscale": [
             [
              0,
              "#0d0887"
             ],
             [
              0.1111111111111111,
              "#46039f"
             ],
             [
              0.2222222222222222,
              "#7201a8"
             ],
             [
              0.3333333333333333,
              "#9c179e"
             ],
             [
              0.4444444444444444,
              "#bd3786"
             ],
             [
              0.5555555555555556,
              "#d8576b"
             ],
             [
              0.6666666666666666,
              "#ed7953"
             ],
             [
              0.7777777777777778,
              "#fb9f3a"
             ],
             [
              0.8888888888888888,
              "#fdca26"
             ],
             [
              1,
              "#f0f921"
             ]
            ],
            "type": "surface"
           }
          ],
          "table": [
           {
            "cells": {
             "fill": {
              "color": "#EBF0F8"
             },
             "line": {
              "color": "white"
             }
            },
            "header": {
             "fill": {
              "color": "#C8D4E3"
             },
             "line": {
              "color": "white"
             }
            },
            "type": "table"
           }
          ]
         },
         "layout": {
          "annotationdefaults": {
           "arrowcolor": "#2a3f5f",
           "arrowhead": 0,
           "arrowwidth": 1
          },
          "autotypenumbers": "strict",
          "coloraxis": {
           "colorbar": {
            "outlinewidth": 0,
            "ticks": ""
           }
          },
          "colorscale": {
           "diverging": [
            [
             0,
             "#8e0152"
            ],
            [
             0.1,
             "#c51b7d"
            ],
            [
             0.2,
             "#de77ae"
            ],
            [
             0.3,
             "#f1b6da"
            ],
            [
             0.4,
             "#fde0ef"
            ],
            [
             0.5,
             "#f7f7f7"
            ],
            [
             0.6,
             "#e6f5d0"
            ],
            [
             0.7,
             "#b8e186"
            ],
            [
             0.8,
             "#7fbc41"
            ],
            [
             0.9,
             "#4d9221"
            ],
            [
             1,
             "#276419"
            ]
           ],
           "sequential": [
            [
             0,
             "#0d0887"
            ],
            [
             0.1111111111111111,
             "#46039f"
            ],
            [
             0.2222222222222222,
             "#7201a8"
            ],
            [
             0.3333333333333333,
             "#9c179e"
            ],
            [
             0.4444444444444444,
             "#bd3786"
            ],
            [
             0.5555555555555556,
             "#d8576b"
            ],
            [
             0.6666666666666666,
             "#ed7953"
            ],
            [
             0.7777777777777778,
             "#fb9f3a"
            ],
            [
             0.8888888888888888,
             "#fdca26"
            ],
            [
             1,
             "#f0f921"
            ]
           ],
           "sequentialminus": [
            [
             0,
             "#0d0887"
            ],
            [
             0.1111111111111111,
             "#46039f"
            ],
            [
             0.2222222222222222,
             "#7201a8"
            ],
            [
             0.3333333333333333,
             "#9c179e"
            ],
            [
             0.4444444444444444,
             "#bd3786"
            ],
            [
             0.5555555555555556,
             "#d8576b"
            ],
            [
             0.6666666666666666,
             "#ed7953"
            ],
            [
             0.7777777777777778,
             "#fb9f3a"
            ],
            [
             0.8888888888888888,
             "#fdca26"
            ],
            [
             1,
             "#f0f921"
            ]
           ]
          },
          "colorway": [
           "#636efa",
           "#EF553B",
           "#00cc96",
           "#ab63fa",
           "#FFA15A",
           "#19d3f3",
           "#FF6692",
           "#B6E880",
           "#FF97FF",
           "#FECB52"
          ],
          "font": {
           "color": "#2a3f5f"
          },
          "geo": {
           "bgcolor": "white",
           "lakecolor": "white",
           "landcolor": "white",
           "showlakes": true,
           "showland": true,
           "subunitcolor": "#C8D4E3"
          },
          "hoverlabel": {
           "align": "left"
          },
          "hovermode": "closest",
          "mapbox": {
           "style": "light"
          },
          "paper_bgcolor": "white",
          "plot_bgcolor": "white",
          "polar": {
           "angularaxis": {
            "gridcolor": "#EBF0F8",
            "linecolor": "#EBF0F8",
            "ticks": ""
           },
           "bgcolor": "white",
           "radialaxis": {
            "gridcolor": "#EBF0F8",
            "linecolor": "#EBF0F8",
            "ticks": ""
           }
          },
          "scene": {
           "xaxis": {
            "backgroundcolor": "white",
            "gridcolor": "#DFE8F3",
            "gridwidth": 2,
            "linecolor": "#EBF0F8",
            "showbackground": true,
            "ticks": "",
            "zerolinecolor": "#EBF0F8"
           },
           "yaxis": {
            "backgroundcolor": "white",
            "gridcolor": "#DFE8F3",
            "gridwidth": 2,
            "linecolor": "#EBF0F8",
            "showbackground": true,
            "ticks": "",
            "zerolinecolor": "#EBF0F8"
           },
           "zaxis": {
            "backgroundcolor": "white",
            "gridcolor": "#DFE8F3",
            "gridwidth": 2,
            "linecolor": "#EBF0F8",
            "showbackground": true,
            "ticks": "",
            "zerolinecolor": "#EBF0F8"
           }
          },
          "shapedefaults": {
           "line": {
            "color": "#2a3f5f"
           }
          },
          "ternary": {
           "aaxis": {
            "gridcolor": "#DFE8F3",
            "linecolor": "#A2B1C6",
            "ticks": ""
           },
           "baxis": {
            "gridcolor": "#DFE8F3",
            "linecolor": "#A2B1C6",
            "ticks": ""
           },
           "bgcolor": "white",
           "caxis": {
            "gridcolor": "#DFE8F3",
            "linecolor": "#A2B1C6",
            "ticks": ""
           }
          },
          "title": {
           "x": 0.05
          },
          "xaxis": {
           "automargin": true,
           "gridcolor": "#EBF0F8",
           "linecolor": "#EBF0F8",
           "ticks": "",
           "title": {
            "standoff": 15
           },
           "zerolinecolor": "#EBF0F8",
           "zerolinewidth": 2
          },
          "yaxis": {
           "automargin": true,
           "gridcolor": "#EBF0F8",
           "linecolor": "#EBF0F8",
           "ticks": "",
           "title": {
            "standoff": 15
           },
           "zerolinecolor": "#EBF0F8",
           "zerolinewidth": 2
          }
         }
        },
        "title": {
         "font": {
          "color": "Black",
          "size": 22
         },
         "text": "<b>Hierarchical Clustering</b>",
         "x": 0.5,
         "xanchor": "center",
         "yanchor": "top"
        },
        "width": 1000,
        "xaxis": {
         "mirror": "allticks",
         "rangemode": "tozero",
         "showgrid": false,
         "showline": true,
         "showticklabels": true,
         "ticks": "outside",
         "type": "linear",
         "zeroline": false
        },
        "yaxis": {
         "mirror": "allticks",
         "range": [
          -390,
          0
         ],
         "rangemode": "tozero",
         "showgrid": false,
         "showline": true,
         "showticklabels": true,
         "tickmode": "array",
         "ticks": "outside",
         "ticktext": [
          "32_label_pi_maciolek",
          "18_gift_karolina_piela",
          "4_box_corrug_fold",
          "31_bo_hbj_evo",
          "13_print_manual_maria",
          "30_ceram_glass_cristal",
          "2_hing_dnak_kj",
          "21_aesthet_inox_high",
          "9_legend_adhes_flcl",
          "0_steel_wire_stainless",
          "33_cc_of_extern",
          "37_bowl_mixer_of",
          "16_xxx_use_not",
          "29_ring_inner_outer",
          "20_stand_anton_kriznik",
          "5_slider_anton_kriznik",
          "23_arm_assem_hous",
          "24_base_applianc_anton",
          "38_ew_base_applianc",
          "19_dummi_herman_jan",
          "12_rate_plate_herman",
          "15_joint_arm_hf",
          "25_overinject_hybrid_metal",
          "3_print_flcn_wax",
          "17_drive_and_metal",
          "36_lower_other_incl",
          "7_electron_unit_incl",
          "6_paint_coil_sheet",
          "26_blender_incl_unit",
          "28_blender_bayonett_cover",
          "35_case_complex_cover",
          "34_flang_technic_jan",
          "14_hous_technic_herman",
          "27_requir_surfac_special",
          "10_hous_saso_sotlar",
          "22_sig_hous_ral",
          "1_sotlar_saso_mmr",
          "11_spare_subcontract_basic",
          "8_chopper_subcontract_assembl"
         ],
         "tickvals": [
          -5,
          -15,
          -25,
          -35,
          -45,
          -55,
          -65,
          -75,
          -85,
          -95,
          -105,
          -115,
          -125,
          -135,
          -145,
          -155,
          -165,
          -175,
          -185,
          -195,
          -205,
          -215,
          -225,
          -235,
          -245,
          -255,
          -265,
          -275,
          -285,
          -295,
          -305,
          -315,
          -325,
          -335,
          -345,
          -355,
          -365,
          -375,
          -385
         ],
         "type": "linear",
         "zeroline": false
        }
       }
      }
     },
     "metadata": {},
     "output_type": "display_data"
    }
   ],
   "source": [
    "topic_model.visualize_hierarchy(hierarchical_topics=hierarchical_topics)"
   ]
  }
 ],
 "metadata": {
  "kernelspec": {
   "display_name": "Python 3",
   "language": "python",
   "name": "python3"
  },
  "language_info": {
   "codemirror_mode": {
    "name": "ipython",
    "version": 3
   },
   "file_extension": ".py",
   "mimetype": "text/x-python",
   "name": "python",
   "nbconvert_exporter": "python",
   "pygments_lexer": "ipython3",
   "version": "3.9.4"
  },
  "orig_nbformat": 4
 },
 "nbformat": 4,
 "nbformat_minor": 2
}
