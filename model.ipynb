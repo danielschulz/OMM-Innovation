{
 "cells": [
  {
   "cell_type": "code",
   "execution_count": null,
   "metadata": {
    "tags": []
   },
   "outputs": [],
   "source": [
    "# select Kernel conda_amazonei_pytorch_latest_p37\n",
    "!pip install -r requirements.txt > /dev/null 2>&1 && echo \"All packages were installed successfully.\" || echo \"An error occurred while installing packages.\""
   ]
  },
  {
   "cell_type": "code",
   "execution_count": null,
   "metadata": {
    "tags": []
   },
   "outputs": [],
   "source": [
    "import boto3\n",
    "import pandas as pd\n",
    "\n",
    "# Verbindung zum S3-Bucket herstellen\n",
    "s3 = boto3.resource('s3')\n",
    "\n",
    "# Bucket-Namen und Pfad zur Datei\n",
    "bucket_name = 'task-bazaar-sagemaker'\n",
    "file_key = 'pandas_df2.csv'\n",
    "\n",
    "# Datei aus dem Bucket herunterladen\n",
    "s3.Bucket(bucket_name).download_file(file_key, 'local-file-name.csv')\n",
    "\n",
    "# Datei in ein Pandas DataFrame laden\n",
    "df = pd.read_csv('local-file-name.csv', dtype='str')\n",
    "\n",
    "# Anzeigen der ersten fünf Zeilen des DataFrames\n",
    "df.head()"
   ]
  },
  {
   "cell_type": "code",
   "execution_count": null,
   "metadata": {
    "tags": []
   },
   "outputs": [],
   "source": [
    "# track progress\n",
    "from tqdm import tqdm\n",
    "tqdm.pandas()\n",
    "\n",
    "# keep only the columns we deem necessary\n",
    "df = df[['Name', 'AT_MaraMatkl', 'AT_MaraMaktx', 'AT_MaraBrgew', 'AT_MaraMtart', 'AT_MaraLabor']]\n",
    "\n",
    "# merge all columns into one\n",
    "df = df.astype(str).progress_apply(lambda x: ' '.join(x), axis=1)\n",
    "\n",
    "# lower case\n",
    "df = df.astype(str).progress_apply(lambda x: x.lower())\n",
    "\n",
    "# remove all short words from one column dataframe\n",
    "df = df.astype(str).progress_apply(lambda x: ' '.join([w for w in x.split() if len(w)>2]))\n",
    "\n",
    "# remove strings that contain numbers\n",
    "df = df.astype(str).progress_apply(lambda x: ' '.join([w for w in x.split() if not any(c.isdigit() for c in w)]))\n",
    "\n",
    "# remove non alphanumeric characters\n",
    "import re\n",
    "df = df.astype(str).progress_apply(lambda x: re.sub(r'[^a-zA-Z0-9]', ' ', x))\n",
    "\n",
    "# remove uneccessary spaces\n",
    "df = df.astype(str).progress_apply(lambda x: ' '.join(x.split()))\n",
    "\n",
    "# remove duplicate words in one row\n",
    "df = df.astype(str).progress_apply(lambda x: ' '.join(sorted(set(x.split()), key=x.split().index)))"
   ]
  },
  {
   "cell_type": "code",
   "execution_count": null,
   "metadata": {
    "tags": []
   },
   "outputs": [],
   "source": [
    "# create list from dataframe\n",
    "df_list = df.values.tolist()\n",
    "df_list = df_list[:20000] # remove [:20000] once more computing power is available"
   ]
  },
  {
   "cell_type": "code",
   "execution_count": null,
   "metadata": {
    "tags": []
   },
   "outputs": [],
   "source": [
    "%%time\n",
    "from bertopic import BERTopic\n",
    "\n",
    "topic_model = BERTopic()\n",
    "print(\"topic_model build\")\n",
    "topics, probs = topic_model.fit_transform(df_list)"
   ]
  },
  {
   "cell_type": "code",
   "execution_count": null,
   "metadata": {
    "tags": []
   },
   "outputs": [],
   "source": [
    "topic_model.get_topic_info()"
   ]
  },
  {
   "cell_type": "code",
   "execution_count": null,
   "metadata": {},
   "outputs": [],
   "source": [
    "topic_model.get_document_info(df_list)[:10]"
   ]
  },
  {
   "cell_type": "code",
   "execution_count": null,
   "metadata": {},
   "outputs": [],
   "source": [
    "#visualization\n",
    "\"\"\"\n",
    "from scipy.cluster import hierarchy as sch\n",
    "\n",
    "# Hierarchical topics\n",
    "linkage_function = lambda x: sch.linkage(x, 'single', optimal_ordering=True)\n",
    "hierarchical_topics = topic_model.hierarchical_topics(df_list, linkage_function=linkage_function)\n",
    "\n",
    "topic_model.visualize_hierarchy(hierarchical_topics=hierarchical_topics)\n",
    "\"\"\""
   ]
  }
 ],
 "metadata": {
  "kernelspec": {
   "display_name": "conda_amazonei_pytorch_latest_p37",
   "language": "python",
   "name": "conda_amazonei_pytorch_latest_p37"
  },
  "language_info": {
   "codemirror_mode": {
    "name": "ipython",
    "version": 3
   },
   "file_extension": ".py",
   "mimetype": "text/x-python",
   "name": "python",
   "nbconvert_exporter": "python",
   "pygments_lexer": "ipython3",
   "version": "3.7.10"
  }
 },
 "nbformat": 4,
 "nbformat_minor": 4
}
