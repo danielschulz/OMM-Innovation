{
 "cells": [
  {
   "cell_type": "code",
   "execution_count": 2,
   "metadata": {},
   "outputs": [],
   "source": [
    "#Imports\n",
    "import numpy as np\n",
    "import matplotlib.pyplot as plt\n",
    "import pandas as pd\n",
    "import matplotlib.pyplot as plt\n",
    "from scipy.stats import f_oneway\n",
    "from sklearn.cluster import KMeans"
   ]
  },
  {
   "cell_type": "code",
   "execution_count": 3,
   "metadata": {},
   "outputs": [],
   "source": [
    "#Get the desricptive statistics:\n",
    "\n",
    "class DescriptiveStatistics:\n",
    "    '''This class takes the column-names as an input and will return the descriptive statistics. \n",
    "    It is made for the Screw and Non-Screw data per default. If you have other marterials, you \n",
    "    can set them as instance-variables.'''\n",
    "\n",
    "    def __init__(self, column_1, column_2, name_one=\"Screws\",name_two=\"No Screws\"):\n",
    "        self.one = column_1\n",
    "        self.two = column_2\n",
    "        self.n_one = name_one\n",
    "        self.n_two = name_two\n",
    "    \n",
    "    def show_mean(self):\n",
    "        #This function calculates and prints the mean of both columns:\n",
    "        mean_one = self.one.mean()\n",
    "        mean_two = self.two.mean()\n",
    "\n",
    "        print(f\"\\nThe mean of the {self.one.name} column for the {self.n_one} values is {mean_one}.\")\n",
    "        print(f\"The mean of the {self.two.name} column for the {self.n_two} values is {mean_two}.\")\n",
    "    \n",
    "    def show_std(self):\n",
    "        #This function calculates and prints the standarddeviations of both columns:\n",
    "        std_one = self.one.std()\n",
    "        std_two = self.two.std()\n",
    "\n",
    "        print(f\"\\nThe standarddeviation of the {self.one.name} column for the {self.n_one} values is {std_one}.\")\n",
    "        print(f\"The standarddeviation of the {self.two.name} column for the {self.n_two} values is {std_two}.\")\n",
    "    \n",
    "    def show_median(self):\n",
    "        #This function calculates and prints the median of both columns:\n",
    "        median_one = self.one.median()\n",
    "        median_two = self.two.median()\n",
    "\n",
    "        print(f\"\\nThe median of the {self.one.name} column for the {self.n_one} values is {median_one}.\")\n",
    "        print(f\"The median of the {self.two.name} column for the {self.n_two} values is {median_two}.\")\n",
    "\n",
    "    def show_quartiles(self):\n",
    "        #This function calculates and prints the quartiles of the two columns:\n",
    "        quartiles_one = self.one.quantile([0.25, 0.5, 0.75])\n",
    "        quartiles_two = self.two.quantile([0.25, 0.5, 0.75])\n",
    "\n",
    "        print(f\"\\nThe quartiles of the {self.one.name} column for the {self.n_one} values is \\n{quartiles_one}.\")\n",
    "        print(f\"The quarilet of the {self.two.name} column for the {self.n_two} values is \\n{quartiles_two}.\")\n",
    "    \n",
    "    def show_range(self):\n",
    "        #This function calculates and prints the ranges of the two columns:\n",
    "        range_one = self.one.agg(['min', 'max'])\n",
    "        range_two = self.two.agg(['min', 'max'])\n",
    "\n",
    "        print(f\"\\nThe range of the {self.one.name} column for {self.n_one}:\")\n",
    "        print(range_one)\n",
    "        print(f\"The range of the {self.two.name} column for {self.n_two}:\")\n",
    "        print(range_two)\n",
    "    \n",
    "    def print_all(self):\n",
    "        #This function prints range, median, mean standarddeviation and quartiles of the input columns:\n",
    "        self.show_range()\n",
    "        self.show_median()\n",
    "        self.show_mean()\n",
    "        self.show_std()\n",
    "        self.show_quartiles()\n",
    "\n",
    "    def show_variation_ratio(self):\n",
    "        #This function calculates and prints the variation-ratio\n",
    "        vr_one = (self.one.std()/self.one.mean())*100\n",
    "        vr_two = (self.two.std()/self.two.mean())*100\n",
    "\n",
    "        print(f\"Variation-ratio of the {self.one.name} column for the {self.n_one}: {vr_one}\")\n",
    "        print(f\"Variation-ratio no {self.two.name} column for the {self.n_two}: {vr_two}\")"
   ]
  },
  {
   "cell_type": "code",
   "execution_count": 4,
   "metadata": {},
   "outputs": [
    {
     "name": "stderr",
     "output_type": "stream",
     "text": [
      "C:\\Users\\nbabic\\AppData\\Local\\Packages\\PythonSoftwareFoundation.Python.3.7_qbz5n2kfra8p0\\LocalCache\\local-packages\\Python37\\site-packages\\IPython\\core\\interactiveshell.py:3553: DtypeWarning: Columns (9,14,16,17,19,20,25,26) have mixed types.Specify dtype option on import or set low_memory=False.\n",
      "  exec(code_obj, self.user_global_ns, self.user_ns)\n"
     ]
    }
   ],
   "source": [
    "# Load physical marterials info\n",
    "\n",
    "filepath = 'C:/Users/nbabic/Desktop/OMM/Data/3-solutioning/pandas_df2.csv'\n",
    "\n",
    "df = pd.read_csv(filepath)"
   ]
  },
  {
   "cell_type": "code",
   "execution_count": 5,
   "metadata": {},
   "outputs": [
    {
     "data": {
      "text/html": [
       "<div>\n",
       "<style scoped>\n",
       "    .dataframe tbody tr th:only-of-type {\n",
       "        vertical-align: middle;\n",
       "    }\n",
       "\n",
       "    .dataframe tbody tr th {\n",
       "        vertical-align: top;\n",
       "    }\n",
       "\n",
       "    .dataframe thead th {\n",
       "        text-align: right;\n",
       "    }\n",
       "</style>\n",
       "<table border=\"1\" class=\"dataframe\">\n",
       "  <thead>\n",
       "    <tr style=\"text-align: right;\">\n",
       "      <th></th>\n",
       "      <th>Unnamed: 0</th>\n",
       "      <th>Name</th>\n",
       "      <th>Product_ID</th>\n",
       "      <th>Product_UserTypeID</th>\n",
       "      <th>AT_MaraBshmCax3D</th>\n",
       "      <th>AT_MaraNtgew</th>\n",
       "      <th>AT_MaraVolum</th>\n",
       "      <th>AT_SAPID</th>\n",
       "      <th>AT_MaraMatkl</th>\n",
       "      <th>AT_MaraNumtp</th>\n",
       "      <th>...</th>\n",
       "      <th>AT_MaraLabor</th>\n",
       "      <th>AT_MaraExtwg</th>\n",
       "      <th>AT_MaraBismt</th>\n",
       "      <th>AT_MaraMeins</th>\n",
       "      <th>AT_MaraMtart</th>\n",
       "      <th>AT_MaraGroes</th>\n",
       "      <th>AT_LeadingSystem</th>\n",
       "      <th>AT_MaraNtgew_UnitID</th>\n",
       "      <th>AT_MaraVolum_UnitID</th>\n",
       "      <th>AT_MaraBrgew_UnitID</th>\n",
       "    </tr>\n",
       "  </thead>\n",
       "  <tbody>\n",
       "    <tr>\n",
       "      <th>0</th>\n",
       "      <td>1</td>\n",
       "      <td>9001422279 - Lens Head Screw M4x8</td>\n",
       "      <td>MAT_928319</td>\n",
       "      <td>Material</td>\n",
       "      <td>60100004395930</td>\n",
       "      <td>1.300</td>\n",
       "      <td>0.0</td>\n",
       "      <td>9001422279</td>\n",
       "      <td>H002 - Customized screws</td>\n",
       "      <td>NaN</td>\n",
       "      <td>...</td>\n",
       "      <td>H10 - FCGB  Inserra, Bortolo</td>\n",
       "      <td>NaN</td>\n",
       "      <td>5750172759</td>\n",
       "      <td>piece(s)</td>\n",
       "      <td>Materials which are externally procured</td>\n",
       "      <td>NaN</td>\n",
       "      <td>SAP</td>\n",
       "      <td>unece.unit.GRM</td>\n",
       "      <td>unece.unit.DMQ</td>\n",
       "      <td>unece.unit.GRM</td>\n",
       "    </tr>\n",
       "    <tr>\n",
       "      <th>1</th>\n",
       "      <td>2</td>\n",
       "      <td>9001730689 - CP body laser printed WT45HV14FR</td>\n",
       "      <td>MAT_928320</td>\n",
       "      <td>Material</td>\n",
       "      <td>NaN</td>\n",
       "      <td>0.318</td>\n",
       "      <td>0.0</td>\n",
       "      <td>9001730689</td>\n",
       "      <td>R239 - xxx - do not use anymore</td>\n",
       "      <td>prefabricated parts</td>\n",
       "      <td>...</td>\n",
       "      <td>WD0 - FLCD  Default (FDW)</td>\n",
       "      <td>NaN</td>\n",
       "      <td>9001452855</td>\n",
       "      <td>piece(s)</td>\n",
       "      <td>Materials which can be potentially produced in...</td>\n",
       "      <td>NaN</td>\n",
       "      <td>SAP</td>\n",
       "      <td>unece.unit.KGM</td>\n",
       "      <td>unece.unit.CMQ</td>\n",
       "      <td>unece.unit.KGM</td>\n",
       "    </tr>\n",
       "    <tr>\n",
       "      <th>2</th>\n",
       "      <td>3</td>\n",
       "      <td>9001730699 - USER MA. SE (WT45HV14FR), FR</td>\n",
       "      <td>MAT_928323</td>\n",
       "      <td>Material</td>\n",
       "      <td>NaN</td>\n",
       "      <td>0.020</td>\n",
       "      <td>0.0</td>\n",
       "      <td>9001730699</td>\n",
       "      <td>X810 - Printed material (general)</td>\n",
       "      <td>NaN</td>\n",
       "      <td>...</td>\n",
       "      <td>WD0 - FLCD  Default (FDW)</td>\n",
       "      <td>NaN</td>\n",
       "      <td>9001452871</td>\n",
       "      <td>piece(s)</td>\n",
       "      <td>Materials which can be potentially produced in...</td>\n",
       "      <td>NaN</td>\n",
       "      <td>SAP</td>\n",
       "      <td>unece.unit.KGM</td>\n",
       "      <td>unece.unit.CMQ</td>\n",
       "      <td>unece.unit.KGM</td>\n",
       "    </tr>\n",
       "    <tr>\n",
       "      <th>3</th>\n",
       "      <td>4</td>\n",
       "      <td>9001731054 - fascia panel GV650A.UC Int  White...</td>\n",
       "      <td>MAT_928324</td>\n",
       "      <td>Material</td>\n",
       "      <td>60100007114130</td>\n",
       "      <td>0.000</td>\n",
       "      <td>0.0</td>\n",
       "      <td>9001731054</td>\n",
       "      <td>R250 - Injected parts (general)</td>\n",
       "      <td>NaN</td>\n",
       "      <td>...</td>\n",
       "      <td>G8A - FDG Neukirchner,Daniel</td>\n",
       "      <td>NaN</td>\n",
       "      <td>8001186041</td>\n",
       "      <td>piece(s)</td>\n",
       "      <td>Materials which can be potentially produced in...</td>\n",
       "      <td>NaN</td>\n",
       "      <td>SAP</td>\n",
       "      <td>unece.unit.GRM</td>\n",
       "      <td>unece.unit.CMQ</td>\n",
       "      <td>unece.unit.GRM</td>\n",
       "    </tr>\n",
       "    <tr>\n",
       "      <th>4</th>\n",
       "      <td>5</td>\n",
       "      <td>9001762412 - Cable Harness operat. EE 590  SP....</td>\n",
       "      <td>MAT_928325</td>\n",
       "      <td>Material</td>\n",
       "      <td>60100008886908</td>\n",
       "      <td>26.800</td>\n",
       "      <td>0.0</td>\n",
       "      <td>9001762412</td>\n",
       "      <td>L592 - IDC+IDC jumpers</td>\n",
       "      <td>NaN</td>\n",
       "      <td>...</td>\n",
       "      <td>VBI - FCGB  Schuhmacher, Jochen</td>\n",
       "      <td>NaN</td>\n",
       "      <td>NaN</td>\n",
       "      <td>piece(s)</td>\n",
       "      <td>Materials which are externally procured</td>\n",
       "      <td>L  590MM</td>\n",
       "      <td>SAP</td>\n",
       "      <td>unece.unit.GRM</td>\n",
       "      <td>unece.unit.DMQ</td>\n",
       "      <td>unece.unit.GRM</td>\n",
       "    </tr>\n",
       "  </tbody>\n",
       "</table>\n",
       "<p>5 rows × 34 columns</p>\n",
       "</div>"
      ],
      "text/plain": [
       "   Unnamed: 0                                               Name  Product_ID  \\\n",
       "0           1                  9001422279 - Lens Head Screw M4x8  MAT_928319   \n",
       "1           2      9001730689 - CP body laser printed WT45HV14FR  MAT_928320   \n",
       "2           3          9001730699 - USER MA. SE (WT45HV14FR), FR  MAT_928323   \n",
       "3           4  9001731054 - fascia panel GV650A.UC Int  White...  MAT_928324   \n",
       "4           5  9001762412 - Cable Harness operat. EE 590  SP....  MAT_928325   \n",
       "\n",
       "  Product_UserTypeID AT_MaraBshmCax3D  AT_MaraNtgew  AT_MaraVolum    AT_SAPID  \\\n",
       "0           Material   60100004395930         1.300           0.0  9001422279   \n",
       "1           Material              NaN         0.318           0.0  9001730689   \n",
       "2           Material              NaN         0.020           0.0  9001730699   \n",
       "3           Material   60100007114130         0.000           0.0  9001731054   \n",
       "4           Material   60100008886908        26.800           0.0  9001762412   \n",
       "\n",
       "                        AT_MaraMatkl         AT_MaraNumtp  ...  \\\n",
       "0           H002 - Customized screws                  NaN  ...   \n",
       "1    R239 - xxx - do not use anymore  prefabricated parts  ...   \n",
       "2  X810 - Printed material (general)                  NaN  ...   \n",
       "3    R250 - Injected parts (general)                  NaN  ...   \n",
       "4             L592 - IDC+IDC jumpers                  NaN  ...   \n",
       "\n",
       "                      AT_MaraLabor  AT_MaraExtwg AT_MaraBismt AT_MaraMeins  \\\n",
       "0     H10 - FCGB  Inserra, Bortolo           NaN   5750172759     piece(s)   \n",
       "1        WD0 - FLCD  Default (FDW)           NaN   9001452855     piece(s)   \n",
       "2        WD0 - FLCD  Default (FDW)           NaN   9001452871     piece(s)   \n",
       "3     G8A - FDG Neukirchner,Daniel           NaN   8001186041     piece(s)   \n",
       "4  VBI - FCGB  Schuhmacher, Jochen           NaN          NaN     piece(s)   \n",
       "\n",
       "                                        AT_MaraMtart  AT_MaraGroes  \\\n",
       "0            Materials which are externally procured           NaN   \n",
       "1  Materials which can be potentially produced in...           NaN   \n",
       "2  Materials which can be potentially produced in...           NaN   \n",
       "3  Materials which can be potentially produced in...           NaN   \n",
       "4            Materials which are externally procured      L  590MM   \n",
       "\n",
       "  AT_LeadingSystem AT_MaraNtgew_UnitID AT_MaraVolum_UnitID AT_MaraBrgew_UnitID  \n",
       "0              SAP      unece.unit.GRM      unece.unit.DMQ      unece.unit.GRM  \n",
       "1              SAP      unece.unit.KGM      unece.unit.CMQ      unece.unit.KGM  \n",
       "2              SAP      unece.unit.KGM      unece.unit.CMQ      unece.unit.KGM  \n",
       "3              SAP      unece.unit.GRM      unece.unit.CMQ      unece.unit.GRM  \n",
       "4              SAP      unece.unit.GRM      unece.unit.DMQ      unece.unit.GRM  \n",
       "\n",
       "[5 rows x 34 columns]"
      ]
     },
     "execution_count": 5,
     "metadata": {},
     "output_type": "execute_result"
    }
   ],
   "source": [
    "df.head()\n"
   ]
  },
  {
   "cell_type": "code",
   "execution_count": 6,
   "metadata": {},
   "outputs": [],
   "source": [
    "# Check if the first three letters of the Product-ID are a predictor for a special category:\n",
    "\n",
    "#Seperate the first three letters of the IP\n",
    "#df['Product_ID'] = df['Product_ID'].str.replace('_\\d+', '')\n",
    "\n",
    "#Check how much different Product_ID's exist\n",
    "# distinct_IDs = df['Product_ID'].value_counts()\n",
    "\n",
    "# print(distinct_IDs)"
   ]
  },
  {
   "attachments": {},
   "cell_type": "markdown",
   "metadata": {},
   "source": [
    "As you can see, the Product_ID of all marterials are unique. So I want to check, if same marterials are in the same cluster. To get this information, I try to extract the screws(like a colleague did it before) and check, if theyr Product_ID's are in a cluster."
   ]
  },
  {
   "cell_type": "code",
   "execution_count": 7,
   "metadata": {},
   "outputs": [
    {
     "name": "stderr",
     "output_type": "stream",
     "text": [
      "C:\\Users\\nbabic\\AppData\\Local\\Packages\\PythonSoftwareFoundation.Python.3.7_qbz5n2kfra8p0\\LocalCache\\local-packages\\Python37\\site-packages\\ipykernel_launcher.py:2: FutureWarning: The default value of regex will change from True to False in a future version.\n",
      "  \n"
     ]
    }
   ],
   "source": [
    "#Delete the MAT of each row:\n",
    "df['Product_ID'] = df['Product_ID'].str.replace('^[^_]+_', '')"
   ]
  },
  {
   "cell_type": "code",
   "execution_count": 8,
   "metadata": {},
   "outputs": [],
   "source": [
    "#For this, I search for screws like previos colleagues did and than I check the range of the value-numbers:\n",
    "\n",
    "#Create on dataframe of screws and one without screws:\n",
    "df_screws = df[df['Name'].str.contains('screw|tornillo|schraube', case=False)] \n",
    "df_no_screws = df[df['Name'].str.contains('screw|tornillo|schraube') == False] "
   ]
  },
  {
   "cell_type": "code",
   "execution_count": 9,
   "metadata": {},
   "outputs": [],
   "source": [
    "#For making a k means-cluster, I add the column 'k'. In case of screw, \n",
    "#the value should be one in any other case it should be 0 \n",
    "def add_k_column(dataframe):\n",
    "    # Create a boolean mask based on the condition\n",
    "    mask = df['Name'].str.contains('screw|tornillo|schraube', case=False)\n",
    "    \n",
    "    # Create a new column 'k' and set its values based on the mask\n",
    "    df['k'] = 0\n",
    "    df.loc[mask, 'k'] = 1\n",
    "    \n",
    "    # Return the modified DataFrame\n",
    "    return df\n",
    "\n",
    "k_table = add_k_column(df)"
   ]
  },
  {
   "cell_type": "code",
   "execution_count": 10,
   "metadata": {},
   "outputs": [],
   "source": [
    "#Extract only the Product-ID:\n",
    "df_pid_screw = df_screws[\"Product_ID\"]\n",
    "df_pid_noscrews = df_no_screws[\"Product_ID\"]"
   ]
  },
  {
   "cell_type": "code",
   "execution_count": 11,
   "metadata": {},
   "outputs": [],
   "source": [
    "#Makes the values to integers:\n",
    "df_pid_screw = pd.to_numeric(df_pid_screw, errors='coerce')\n",
    "df_pid_noscrews = pd.to_numeric(df_pid_noscrews, errors='coerce')"
   ]
  },
  {
   "cell_type": "code",
   "execution_count": 12,
   "metadata": {},
   "outputs": [
    {
     "name": "stdout",
     "output_type": "stream",
     "text": [
      "\n",
      "The range of the Product_ID column for Screws:\n",
      "min      906770\n",
      "max    10893541\n",
      "Name: Product_ID, dtype: int64\n",
      "The range of the Product_ID column for No Screws:\n",
      "min      900289\n",
      "max    10898548\n",
      "Name: Product_ID, dtype: int64\n",
      "\n",
      "The median of the Product_ID column for the Screws values is 8952099.0.\n",
      "The median of the Product_ID column for the No Screws values is 9424768.0.\n",
      "\n",
      "The mean of the Product_ID column for the Screws values is 6709861.658879471.\n",
      "The mean of the Product_ID column for the No Screws values is 8130125.210537157.\n",
      "\n",
      "The standarddeviation of the Product_ID column for the Screws values is 3807866.4638841315.\n",
      "The standarddeviation of the Product_ID column for the No Screws values is 3090961.070374669.\n",
      "\n",
      "The quartiles of the Product_ID column for the Screws values is \n",
      "0.25    2198560.0\n",
      "0.50    8952099.0\n",
      "0.75    9712702.0\n",
      "Name: Product_ID, dtype: float64.\n",
      "The quarilet of the Product_ID column for the No Screws values is \n",
      "0.25     8173111.5\n",
      "0.50     9424768.0\n",
      "0.75    10097946.5\n",
      "Name: Product_ID, dtype: float64.\n"
     ]
    }
   ],
   "source": [
    "#Get the descriptive statstics:\n",
    "DescriptiveStatistics(df_pid_screw,df_pid_noscrews).print_all()"
   ]
  },
  {
   "attachments": {},
   "cell_type": "markdown",
   "metadata": {},
   "source": [
    "As cou can see, the Product-IDs of the Screws are almost in the same range, like them of the non-screws.\n",
    "I do not see an indicator, that the Product-ID could have predictive power for a product category."
   ]
  },
  {
   "cell_type": "code",
   "execution_count": 13,
   "metadata": {},
   "outputs": [
    {
     "name": "stdout",
     "output_type": "stream",
     "text": [
      "1\n"
     ]
    }
   ],
   "source": [
    "# Check if the ProductUserType_ID is a predictor for a special category:\n",
    "\n",
    "#Check how much different ProductUserType_ID's exist\n",
    "distinct_PIDs = len(df['Product_UserTypeID'].unique())\n",
    "\n",
    "print(distinct_PIDs)\n"
   ]
  },
  {
   "attachments": {},
   "cell_type": "markdown",
   "metadata": {},
   "source": [
    "As you can see, the ProductUserType_ID is no predictor fot the products category. Because all rows have the same value"
   ]
  },
  {
   "attachments": {},
   "cell_type": "markdown",
   "metadata": {},
   "source": [
    "## Check if the AT_MaraBshmCax3Dis a predictor for a special category:"
   ]
  },
  {
   "cell_type": "code",
   "execution_count": 14,
   "metadata": {},
   "outputs": [
    {
     "name": "stdout",
     "output_type": "stream",
     "text": [
      "134002\n"
     ]
    }
   ],
   "source": [
    "#Check how much different values exist for column:\n",
    "distinct_rows = len(df['AT_MaraBshmCax3D'].unique())\n",
    "\n",
    "print(distinct_rows)"
   ]
  },
  {
   "cell_type": "code",
   "execution_count": 15,
   "metadata": {},
   "outputs": [
    {
     "name": "stdout",
     "output_type": "stream",
     "text": [
      "Screws: 4837\n",
      "No Screws: 1218526\n",
      "Non-Vales in Screws Df: 2425\n",
      "Non-Vales in Screws Df: 914541\n",
      "Ratio of All-Values to NaN-values for the Screws-Dataframe: 0.5013438081455448\n",
      "Ratio of All-Values to NaN-values for the No-Screws-Dataframe: 0.7505305590524946\n"
     ]
    }
   ],
   "source": [
    "#Filter the given column:\n",
    "mara_column_screws = df_screws['AT_MaraBshmCax3D']\n",
    "distinct_cs = mara_column_screws\n",
    "mara_column_no_screws = df_no_screws[\"AT_MaraBshmCax3D\"]\n",
    "distinct_cns = mara_column_no_screws\n",
    "\n",
    "#Get number of distict values:\n",
    "print(f\"Screws: {len(distinct_cs)}\")\n",
    "print(f\"No Screws: {len(distinct_cns)}\")\n",
    "\n",
    "#Get the rows with NaN-values:\n",
    "nan_screws = distinct_cs.isna()\n",
    "nan_no_screws = distinct_cns.isna()\n",
    "\n",
    "#Check how much are NaN-values:\n",
    "print(f\"Non-Vales in Screws Df: {nan_screws.sum()}\")\n",
    "print(f\"Non-Vales in Screws Df: {nan_no_screws.sum()}\")\n",
    "\n",
    "#Check out the ratio of Values to NaN-value:\n",
    "ratio_screws = float(nan_screws.sum()) / float(len(distinct_cs))\n",
    "ratio_non_screws = float(nan_no_screws.sum()) / float(len(distinct_cns))\n",
    "\n",
    "print(f\"Ratio of All-Values to NaN-values for the Screws-Dataframe: {ratio_screws}\")\n",
    "\n",
    "print(f\"Ratio of All-Values to NaN-values for the No-Screws-Dataframe: {ratio_non_screws}\")\n"
   ]
  },
  {
   "attachments": {},
   "cell_type": "markdown",
   "metadata": {},
   "source": [
    "For the dataframe of screws, more than half of the rows in this column are NaN values, and for the dataframe of other products, this applies to 75%. Thus, this column seems to have no meaningful information."
   ]
  },
  {
   "attachments": {},
   "cell_type": "markdown",
   "metadata": {},
   "source": [
    "###Check the \"AT_MaraNtgew\" Column!###"
   ]
  },
  {
   "attachments": {},
   "cell_type": "markdown",
   "metadata": {},
   "source": [
    "#For this I will use the Screws-df and the Non-Screws-df again and compare the values in the columns."
   ]
  },
  {
   "cell_type": "code",
   "execution_count": 16,
   "metadata": {},
   "outputs": [],
   "source": [
    "#Set the variables:\n",
    "df_ntg_s = df_screws[\"AT_MaraNtgew\"]\n",
    "df_ntg_ns = df_no_screws[\"AT_MaraNtgew\"]"
   ]
  },
  {
   "cell_type": "code",
   "execution_count": 17,
   "metadata": {},
   "outputs": [
    {
     "name": "stdout",
     "output_type": "stream",
     "text": [
      "\n",
      "The range of the AT_MaraNtgew column for Screws:\n",
      "min       0.0\n",
      "max    2500.0\n",
      "Name: AT_MaraNtgew, dtype: float64\n",
      "The range of the AT_MaraNtgew column for No Screws:\n",
      "min    0.000000e+00\n",
      "max    1.234568e+09\n",
      "Name: AT_MaraNtgew, dtype: float64\n"
     ]
    }
   ],
   "source": [
    "#Get the range:\n",
    "descriptive_ntg = DescriptiveStatistics(df_ntg_s,df_ntg_ns)\n",
    "descriptive_ntg.show_range()"
   ]
  },
  {
   "attachments": {},
   "cell_type": "markdown",
   "metadata": {},
   "source": [
    "As you can see, in this column, the range of the Screws is way different to the range of the rest. In the next step, we will check the Quartiles and some other basic statistics, to get an overview, if this column could predict, if the marterial is a screw or not"
   ]
  },
  {
   "cell_type": "code",
   "execution_count": 18,
   "metadata": {},
   "outputs": [
    {
     "name": "stdout",
     "output_type": "stream",
     "text": [
      "\n",
      "The quartiles of the AT_MaraNtgew column for the Screws values is \n",
      "0.25    0.0\n",
      "0.50    0.0\n",
      "0.75    0.1\n",
      "Name: AT_MaraNtgew, dtype: float64.\n",
      "The quarilet of the AT_MaraNtgew column for the No Screws values is \n",
      "0.25    0.0\n",
      "0.50    0.0\n",
      "0.75    0.1\n",
      "Name: AT_MaraNtgew, dtype: float64.\n",
      "\n",
      "The mean of the AT_MaraNtgew column for the Screws values is 4.8118428778168285.\n",
      "The mean of the AT_MaraNtgew column for the No Screws values is 2151.586901107569.\n",
      "\n",
      "The standarddeviation of the AT_MaraNtgew column for the Screws values is 67.04610427997511.\n",
      "The standarddeviation of the AT_MaraNtgew column for the No Screws values is 1581696.1827548835.\n",
      "\n",
      "The median of the AT_MaraNtgew column for the Screws values is 0.0.\n",
      "The median of the AT_MaraNtgew column for the No Screws values is 0.0.\n"
     ]
    }
   ],
   "source": [
    "descriptive_ntg.show_quartiles()\n",
    "descriptive_ntg.show_mean()\n",
    "descriptive_ntg.show_std()\n",
    "descriptive_ntg.show_median()\n"
   ]
  },
  {
   "cell_type": "code",
   "execution_count": 19,
   "metadata": {},
   "outputs": [
    {
     "name": "stdout",
     "output_type": "stream",
     "text": [
      "Variation-ratio of the AT_MaraNtgew column for the Screws: 1393.356058841108\n",
      "Variation-ratio no AT_MaraNtgew column for the No Screws: 73513.00484031932\n"
     ]
    }
   ],
   "source": [
    "#Calculate the Variation-ratio:\n",
    "descriptive_ntg.show_variation_ratio()"
   ]
  },
  {
   "attachments": {},
   "cell_type": "markdown",
   "metadata": {},
   "source": [
    "As you can see, the variation ratio of this columns is huge (bigger than 100). This column has a huge variation with a lot of statistival outliers."
   ]
  },
  {
   "cell_type": "code",
   "execution_count": 20,
   "metadata": {},
   "outputs": [
    {
     "data": {
      "image/png": "[encoded data removed]",
      "text/plain": [
       "<Figure size 640x480 with 1 Axes>"
      ]
     },
     "metadata": {},
     "output_type": "display_data"
    }
   ],
   "source": [
    "#Create a boxplot of the Screw datafram\n",
    "plt.boxplot(df_ntg_s)\n",
    "\n",
    "#Show graph:\n",
    "plt.show()"
   ]
  },
  {
   "cell_type": "code",
   "execution_count": 21,
   "metadata": {},
   "outputs": [
    {
     "data": {
      "image/png": "[encoded data removed]",
      "text/plain": [
       "<Figure size 640x480 with 1 Axes>"
      ]
     },
     "metadata": {},
     "output_type": "display_data"
    }
   ],
   "source": [
    "#Create a boxplot of the no-Screw datafram\n",
    "plt.boxplot(df_ntg_ns)\n",
    "\n",
    "#Show graph:\n",
    "plt.show()"
   ]
  },
  {
   "attachments": {},
   "cell_type": "markdown",
   "metadata": {},
   "source": [
    "As you can see, there are no rows with the same values. But there are some heavy outliers."
   ]
  },
  {
   "cell_type": "code",
   "execution_count": null,
   "metadata": {},
   "outputs": [],
   "source": [
    "#Anyways I will try making a K-Cluster Mean, to check, if there are any clusters:\n"
   ]
  },
  {
   "cell_type": "code",
   "execution_count": 22,
   "metadata": {},
   "outputs": [
    {
     "data": {
      "text/html": [
       "<div>\n",
       "<style scoped>\n",
       "    .dataframe tbody tr th:only-of-type {\n",
       "        vertical-align: middle;\n",
       "    }\n",
       "\n",
       "    .dataframe tbody tr th {\n",
       "        vertical-align: top;\n",
       "    }\n",
       "\n",
       "    .dataframe thead th {\n",
       "        text-align: right;\n",
       "    }\n",
       "</style>\n",
       "<table border=\"1\" class=\"dataframe\">\n",
       "  <thead>\n",
       "    <tr style=\"text-align: right;\">\n",
       "      <th></th>\n",
       "      <th>Unnamed: 0</th>\n",
       "      <th>Name</th>\n",
       "      <th>Product_ID</th>\n",
       "      <th>Product_UserTypeID</th>\n",
       "      <th>AT_MaraBshmCax3D</th>\n",
       "      <th>AT_MaraNtgew</th>\n",
       "      <th>AT_MaraVolum</th>\n",
       "      <th>AT_SAPID</th>\n",
       "      <th>AT_MaraMatkl</th>\n",
       "      <th>AT_MaraNumtp</th>\n",
       "      <th>...</th>\n",
       "      <th>AT_MaraExtwg</th>\n",
       "      <th>AT_MaraBismt</th>\n",
       "      <th>AT_MaraMeins</th>\n",
       "      <th>AT_MaraMtart</th>\n",
       "      <th>AT_MaraGroes</th>\n",
       "      <th>AT_LeadingSystem</th>\n",
       "      <th>AT_MaraNtgew_UnitID</th>\n",
       "      <th>AT_MaraVolum_UnitID</th>\n",
       "      <th>AT_MaraBrgew_UnitID</th>\n",
       "      <th>k</th>\n",
       "    </tr>\n",
       "  </thead>\n",
       "  <tbody>\n",
       "    <tr>\n",
       "      <th>0</th>\n",
       "      <td>1</td>\n",
       "      <td>9001422279 - Lens Head Screw M4x8</td>\n",
       "      <td>928319</td>\n",
       "      <td>Material</td>\n",
       "      <td>60100004395930</td>\n",
       "      <td>1.300</td>\n",
       "      <td>0.0</td>\n",
       "      <td>9001422279</td>\n",
       "      <td>H002 - Customized screws</td>\n",
       "      <td>NaN</td>\n",
       "      <td>...</td>\n",
       "      <td>NaN</td>\n",
       "      <td>5750172759</td>\n",
       "      <td>piece(s)</td>\n",
       "      <td>Materials which are externally procured</td>\n",
       "      <td>NaN</td>\n",
       "      <td>SAP</td>\n",
       "      <td>unece.unit.GRM</td>\n",
       "      <td>unece.unit.DMQ</td>\n",
       "      <td>unece.unit.GRM</td>\n",
       "      <td>1</td>\n",
       "    </tr>\n",
       "    <tr>\n",
       "      <th>1</th>\n",
       "      <td>2</td>\n",
       "      <td>9001730689 - CP body laser printed WT45HV14FR</td>\n",
       "      <td>928320</td>\n",
       "      <td>Material</td>\n",
       "      <td>NaN</td>\n",
       "      <td>0.318</td>\n",
       "      <td>0.0</td>\n",
       "      <td>9001730689</td>\n",
       "      <td>R239 - xxx - do not use anymore</td>\n",
       "      <td>prefabricated parts</td>\n",
       "      <td>...</td>\n",
       "      <td>NaN</td>\n",
       "      <td>9001452855</td>\n",
       "      <td>piece(s)</td>\n",
       "      <td>Materials which can be potentially produced in...</td>\n",
       "      <td>NaN</td>\n",
       "      <td>SAP</td>\n",
       "      <td>unece.unit.KGM</td>\n",
       "      <td>unece.unit.CMQ</td>\n",
       "      <td>unece.unit.KGM</td>\n",
       "      <td>0</td>\n",
       "    </tr>\n",
       "    <tr>\n",
       "      <th>2</th>\n",
       "      <td>3</td>\n",
       "      <td>9001730699 - USER MA. SE (WT45HV14FR), FR</td>\n",
       "      <td>928323</td>\n",
       "      <td>Material</td>\n",
       "      <td>NaN</td>\n",
       "      <td>0.020</td>\n",
       "      <td>0.0</td>\n",
       "      <td>9001730699</td>\n",
       "      <td>X810 - Printed material (general)</td>\n",
       "      <td>NaN</td>\n",
       "      <td>...</td>\n",
       "      <td>NaN</td>\n",
       "      <td>9001452871</td>\n",
       "      <td>piece(s)</td>\n",
       "      <td>Materials which can be potentially produced in...</td>\n",
       "      <td>NaN</td>\n",
       "      <td>SAP</td>\n",
       "      <td>unece.unit.KGM</td>\n",
       "      <td>unece.unit.CMQ</td>\n",
       "      <td>unece.unit.KGM</td>\n",
       "      <td>0</td>\n",
       "    </tr>\n",
       "    <tr>\n",
       "      <th>3</th>\n",
       "      <td>4</td>\n",
       "      <td>9001731054 - fascia panel GV650A.UC Int  White...</td>\n",
       "      <td>928324</td>\n",
       "      <td>Material</td>\n",
       "      <td>60100007114130</td>\n",
       "      <td>0.000</td>\n",
       "      <td>0.0</td>\n",
       "      <td>9001731054</td>\n",
       "      <td>R250 - Injected parts (general)</td>\n",
       "      <td>NaN</td>\n",
       "      <td>...</td>\n",
       "      <td>NaN</td>\n",
       "      <td>8001186041</td>\n",
       "      <td>piece(s)</td>\n",
       "      <td>Materials which can be potentially produced in...</td>\n",
       "      <td>NaN</td>\n",
       "      <td>SAP</td>\n",
       "      <td>unece.unit.GRM</td>\n",
       "      <td>unece.unit.CMQ</td>\n",
       "      <td>unece.unit.GRM</td>\n",
       "      <td>0</td>\n",
       "    </tr>\n",
       "    <tr>\n",
       "      <th>4</th>\n",
       "      <td>5</td>\n",
       "      <td>9001762412 - Cable Harness operat. EE 590  SP....</td>\n",
       "      <td>928325</td>\n",
       "      <td>Material</td>\n",
       "      <td>60100008886908</td>\n",
       "      <td>26.800</td>\n",
       "      <td>0.0</td>\n",
       "      <td>9001762412</td>\n",
       "      <td>L592 - IDC+IDC jumpers</td>\n",
       "      <td>NaN</td>\n",
       "      <td>...</td>\n",
       "      <td>NaN</td>\n",
       "      <td>NaN</td>\n",
       "      <td>piece(s)</td>\n",
       "      <td>Materials which are externally procured</td>\n",
       "      <td>L  590MM</td>\n",
       "      <td>SAP</td>\n",
       "      <td>unece.unit.GRM</td>\n",
       "      <td>unece.unit.DMQ</td>\n",
       "      <td>unece.unit.GRM</td>\n",
       "      <td>0</td>\n",
       "    </tr>\n",
       "  </tbody>\n",
       "</table>\n",
       "<p>5 rows × 35 columns</p>\n",
       "</div>"
      ],
      "text/plain": [
       "   Unnamed: 0                                               Name Product_ID  \\\n",
       "0           1                  9001422279 - Lens Head Screw M4x8     928319   \n",
       "1           2      9001730689 - CP body laser printed WT45HV14FR     928320   \n",
       "2           3          9001730699 - USER MA. SE (WT45HV14FR), FR     928323   \n",
       "3           4  9001731054 - fascia panel GV650A.UC Int  White...     928324   \n",
       "4           5  9001762412 - Cable Harness operat. EE 590  SP....     928325   \n",
       "\n",
       "  Product_UserTypeID AT_MaraBshmCax3D  AT_MaraNtgew  AT_MaraVolum    AT_SAPID  \\\n",
       "0           Material   60100004395930         1.300           0.0  9001422279   \n",
       "1           Material              NaN         0.318           0.0  9001730689   \n",
       "2           Material              NaN         0.020           0.0  9001730699   \n",
       "3           Material   60100007114130         0.000           0.0  9001731054   \n",
       "4           Material   60100008886908        26.800           0.0  9001762412   \n",
       "\n",
       "                        AT_MaraMatkl         AT_MaraNumtp  ... AT_MaraExtwg  \\\n",
       "0           H002 - Customized screws                  NaN  ...          NaN   \n",
       "1    R239 - xxx - do not use anymore  prefabricated parts  ...          NaN   \n",
       "2  X810 - Printed material (general)                  NaN  ...          NaN   \n",
       "3    R250 - Injected parts (general)                  NaN  ...          NaN   \n",
       "4             L592 - IDC+IDC jumpers                  NaN  ...          NaN   \n",
       "\n",
       "   AT_MaraBismt AT_MaraMeins  \\\n",
       "0    5750172759     piece(s)   \n",
       "1    9001452855     piece(s)   \n",
       "2    9001452871     piece(s)   \n",
       "3    8001186041     piece(s)   \n",
       "4           NaN     piece(s)   \n",
       "\n",
       "                                        AT_MaraMtart AT_MaraGroes  \\\n",
       "0            Materials which are externally procured          NaN   \n",
       "1  Materials which can be potentially produced in...          NaN   \n",
       "2  Materials which can be potentially produced in...          NaN   \n",
       "3  Materials which can be potentially produced in...          NaN   \n",
       "4            Materials which are externally procured     L  590MM   \n",
       "\n",
       "   AT_LeadingSystem AT_MaraNtgew_UnitID AT_MaraVolum_UnitID  \\\n",
       "0               SAP      unece.unit.GRM      unece.unit.DMQ   \n",
       "1               SAP      unece.unit.KGM      unece.unit.CMQ   \n",
       "2               SAP      unece.unit.KGM      unece.unit.CMQ   \n",
       "3               SAP      unece.unit.GRM      unece.unit.CMQ   \n",
       "4               SAP      unece.unit.GRM      unece.unit.DMQ   \n",
       "\n",
       "  AT_MaraBrgew_UnitID  k  \n",
       "0      unece.unit.GRM  1  \n",
       "1      unece.unit.KGM  0  \n",
       "2      unece.unit.KGM  0  \n",
       "3      unece.unit.GRM  0  \n",
       "4      unece.unit.GRM  0  \n",
       "\n",
       "[5 rows x 35 columns]"
      ]
     },
     "execution_count": 22,
     "metadata": {},
     "output_type": "execute_result"
    }
   ],
   "source": [
    "df.head()"
   ]
  },
  {
   "attachments": {},
   "cell_type": "markdown",
   "metadata": {},
   "source": [
    "As you can see, there is a Column, calles \"AT_MaraNtgew_UnitID\". It seems like this shows the unit of measure for the \"AT_MaraNtgew\"-column. It seems like the \"AT_MaraNtgew\"-columns gets measured in Gramm or in Kilogramm. I want to check this and than in the next step, check out, how the variation changes, when I clean the data for this value*"
   ]
  },
  {
   "cell_type": "code",
   "execution_count": 23,
   "metadata": {},
   "outputs": [],
   "source": [
    "#Set the variable\n",
    "df_weight_unit = df[\"AT_MaraNtgew_UnitID\"]\n"
   ]
  },
  {
   "cell_type": "code",
   "execution_count": 24,
   "metadata": {},
   "outputs": [
    {
     "name": "stdout",
     "output_type": "stream",
     "text": [
      "unece.unit.KGM    647662\n",
      "unece.unit.GRM    572127\n",
      "unece.unit.LBR        57\n",
      "unece.unit.MGM        37\n",
      "unece.unit.TNE        23\n",
      "Name: AT_MaraNtgew_UnitID, dtype: int64\n"
     ]
    }
   ],
   "source": [
    "#Show unique values and their frequence:\n",
    "print(df_weight_unit.value_counts())"
   ]
  },
  {
   "attachments": {},
   "cell_type": "markdown",
   "metadata": {},
   "source": [
    "As you can see, there are five different units. Three of them are used very rarely, two are usend very often.\n",
    "In the next Step I want to check, if the rarely ones appear in the screw-section of the df"
   ]
  },
  {
   "cell_type": "code",
   "execution_count": 25,
   "metadata": {},
   "outputs": [
    {
     "name": "stdout",
     "output_type": "stream",
     "text": [
      "unece.unit.KGM    2726\n",
      "unece.unit.GRM    2111\n",
      "Name: AT_MaraNtgew_UnitID, dtype: int64\n"
     ]
    }
   ],
   "source": [
    "#Check, if the rarely once appear in the screw-dataframe:\n",
    "df_units_screws = df_screws[\"AT_MaraNtgew_UnitID\"]\n",
    "print(df_units_screws.value_counts())"
   ]
  },
  {
   "cell_type": "code",
   "execution_count": 26,
   "metadata": {},
   "outputs": [],
   "source": [
    "#Multiply the weight-column with 1000, when the weight-unit is uence.unit.GRM\n",
    "df.loc[df['AT_MaraNtgew_UnitID'] == 'unece.unit.KGM', 'AT_MaraNtgew']*= 1000"
   ]
  },
  {
   "cell_type": "code",
   "execution_count": 27,
   "metadata": {},
   "outputs": [],
   "source": [
    "#Now I create the df's again:\n",
    "#Create on dataframe of screws and one without screws:\n",
    "df_screws = df[df['Name'].str.contains('screw|tornillo|schraube', case=False)] \n",
    "df_no_screws = df[df['Name'].str.contains('screw|tornillo|schraube') == False] \n"
   ]
  },
  {
   "cell_type": "code",
   "execution_count": 28,
   "metadata": {},
   "outputs": [],
   "source": [
    "#Set the variables:\n",
    "df_ntg_s = df_screws[\"AT_MaraNtgew\"]\n",
    "df_ntg_ns = df_no_screws[\"AT_MaraNtgew\"]"
   ]
  },
  {
   "cell_type": "code",
   "execution_count": 29,
   "metadata": {},
   "outputs": [
    {
     "data": {
      "image/png": "[encoded data removed]",
      "text/plain": [
       "<Figure size 640x480 with 1 Axes>"
      ]
     },
     "metadata": {},
     "output_type": "display_data"
    }
   ],
   "source": [
    "#Create a boxplot\n",
    "plt.boxplot(df_ntg_s)\n",
    "\n",
    "#Show graph:\n",
    "plt.show()"
   ]
  },
  {
   "cell_type": "code",
   "execution_count": 30,
   "metadata": {},
   "outputs": [
    {
     "data": {
      "image/png": "[encoded data removed]",
      "text/plain": [
       "<Figure size 640x480 with 1 Axes>"
      ]
     },
     "metadata": {},
     "output_type": "display_data"
    }
   ],
   "source": [
    "#Create a boxplot for the non screws\n",
    "plt.boxplot(df_ntg_ns)\n",
    "!!!!!!!!!\n",
    "#Show graph:\n",
    "plt.show()"
   ]
  },
  {
   "cell_type": "code",
   "execution_count": 31,
   "metadata": {},
   "outputs": [
    {
     "name": "stdout",
     "output_type": "stream",
     "text": [
      "Quartiles Screw: \n",
      "0.25    0.0\n",
      "0.50    0.0\n",
      "0.75    2.0\n",
      "Name: AT_MaraNtgew, dtype: float64\n",
      "Quariles No-Screw: \n",
      "0.25     0.0\n",
      "0.50     0.0\n",
      "0.75    25.0\n",
      "Name: AT_MaraNtgew, dtype: float64\n",
      "\n",
      "Mean Screw: 50.84267314451106\n",
      "Mean No Screw: 2028631.8203777631\n",
      "Standarddeviation Screw: 288.1102127132371\n",
      "Standarddeviation No Screw: 1581657380.8503172\n",
      "\n",
      "Median Screw: 0.0\n",
      "Median No Screw: 2028631.8203777631\n"
     ]
    }
   ],
   "source": [
    "#Calculate the quartiles:\n",
    "quartiles_screw = df_ntg_s.quantile([0.25, 0.5, 0.75])\n",
    "quartiles_no_screw = df_ntg_ns.quantile([0.25, 0.5, 0.75])\n",
    "\n",
    "#Calculate the standard deviation\n",
    "std_screw = df_ntg_s.std()\n",
    "std_no_screw = df_ntg_ns.std()\n",
    "\n",
    "#Calculate the mean\n",
    "mean_screw = df_ntg_s.mean()\n",
    "mean_no_screw = df_ntg_ns.mean()\n",
    "\n",
    "#Calculate the median\n",
    "median_screw = df_ntg_s.median()\n",
    "median_no_screw = df_ntg_ns.median()\n",
    "\n",
    "\n",
    "\n",
    "print(f\"Quartiles Screw: \\n{quartiles_screw}\")\n",
    "print(f\"Quariles No-Screw: \\n{quartiles_no_screw}\")\n",
    "\n",
    "\n",
    "print(f\"\\nMean Screw: {mean_screw}\")\n",
    "print(f\"Mean No Screw: {mean_no_screw}\")\n",
    "print(f\"Standarddeviation Screw: {std_screw}\")\n",
    "print(f\"Standarddeviation No Screw: {std_no_screw}\")\n",
    "\n",
    "\n",
    "print(f\"\\nMedian Screw: {median_screw}\")\n",
    "print(f\"Median No Screw: {mean_no_screw}\")"
   ]
  },
  {
   "attachments": {},
   "cell_type": "markdown",
   "metadata": {},
   "source": [
    "As you can see, even, when we cleaned the data, the variation-ratio is still very high. So the Ntgew. column does not predict the marterial classification."
   ]
  },
  {
   "attachments": {},
   "cell_type": "markdown",
   "metadata": {},
   "source": [
    "Now I will check, if the column AT_MaraVolum has can predict the classification"
   ]
  },
  {
   "cell_type": "code",
   "execution_count": 32,
   "metadata": {},
   "outputs": [
    {
     "data": {
      "text/html": [
       "<div>\n",
       "<style scoped>\n",
       "    .dataframe tbody tr th:only-of-type {\n",
       "        vertical-align: middle;\n",
       "    }\n",
       "\n",
       "    .dataframe tbody tr th {\n",
       "        vertical-align: top;\n",
       "    }\n",
       "\n",
       "    .dataframe thead th {\n",
       "        text-align: right;\n",
       "    }\n",
       "</style>\n",
       "<table border=\"1\" class=\"dataframe\">\n",
       "  <thead>\n",
       "    <tr style=\"text-align: right;\">\n",
       "      <th></th>\n",
       "      <th>Unnamed: 0</th>\n",
       "      <th>Name</th>\n",
       "      <th>Product_ID</th>\n",
       "      <th>Product_UserTypeID</th>\n",
       "      <th>AT_MaraBshmCax3D</th>\n",
       "      <th>AT_MaraNtgew</th>\n",
       "      <th>AT_MaraVolum</th>\n",
       "      <th>AT_SAPID</th>\n",
       "      <th>AT_MaraMatkl</th>\n",
       "      <th>AT_MaraNumtp</th>\n",
       "      <th>...</th>\n",
       "      <th>AT_MaraExtwg</th>\n",
       "      <th>AT_MaraBismt</th>\n",
       "      <th>AT_MaraMeins</th>\n",
       "      <th>AT_MaraMtart</th>\n",
       "      <th>AT_MaraGroes</th>\n",
       "      <th>AT_LeadingSystem</th>\n",
       "      <th>AT_MaraNtgew_UnitID</th>\n",
       "      <th>AT_MaraVolum_UnitID</th>\n",
       "      <th>AT_MaraBrgew_UnitID</th>\n",
       "      <th>k</th>\n",
       "    </tr>\n",
       "  </thead>\n",
       "  <tbody>\n",
       "    <tr>\n",
       "      <th>0</th>\n",
       "      <td>1</td>\n",
       "      <td>9001422279 - Lens Head Screw M4x8</td>\n",
       "      <td>928319</td>\n",
       "      <td>Material</td>\n",
       "      <td>60100004395930</td>\n",
       "      <td>1.3</td>\n",
       "      <td>0.0</td>\n",
       "      <td>9001422279</td>\n",
       "      <td>H002 - Customized screws</td>\n",
       "      <td>NaN</td>\n",
       "      <td>...</td>\n",
       "      <td>NaN</td>\n",
       "      <td>5750172759</td>\n",
       "      <td>piece(s)</td>\n",
       "      <td>Materials which are externally procured</td>\n",
       "      <td>NaN</td>\n",
       "      <td>SAP</td>\n",
       "      <td>unece.unit.GRM</td>\n",
       "      <td>unece.unit.DMQ</td>\n",
       "      <td>unece.unit.GRM</td>\n",
       "      <td>1</td>\n",
       "    </tr>\n",
       "    <tr>\n",
       "      <th>1</th>\n",
       "      <td>2</td>\n",
       "      <td>9001730689 - CP body laser printed WT45HV14FR</td>\n",
       "      <td>928320</td>\n",
       "      <td>Material</td>\n",
       "      <td>NaN</td>\n",
       "      <td>318.0</td>\n",
       "      <td>0.0</td>\n",
       "      <td>9001730689</td>\n",
       "      <td>R239 - xxx - do not use anymore</td>\n",
       "      <td>prefabricated parts</td>\n",
       "      <td>...</td>\n",
       "      <td>NaN</td>\n",
       "      <td>9001452855</td>\n",
       "      <td>piece(s)</td>\n",
       "      <td>Materials which can be potentially produced in...</td>\n",
       "      <td>NaN</td>\n",
       "      <td>SAP</td>\n",
       "      <td>unece.unit.KGM</td>\n",
       "      <td>unece.unit.CMQ</td>\n",
       "      <td>unece.unit.KGM</td>\n",
       "      <td>0</td>\n",
       "    </tr>\n",
       "    <tr>\n",
       "      <th>2</th>\n",
       "      <td>3</td>\n",
       "      <td>9001730699 - USER MA. SE (WT45HV14FR), FR</td>\n",
       "      <td>928323</td>\n",
       "      <td>Material</td>\n",
       "      <td>NaN</td>\n",
       "      <td>20.0</td>\n",
       "      <td>0.0</td>\n",
       "      <td>9001730699</td>\n",
       "      <td>X810 - Printed material (general)</td>\n",
       "      <td>NaN</td>\n",
       "      <td>...</td>\n",
       "      <td>NaN</td>\n",
       "      <td>9001452871</td>\n",
       "      <td>piece(s)</td>\n",
       "      <td>Materials which can be potentially produced in...</td>\n",
       "      <td>NaN</td>\n",
       "      <td>SAP</td>\n",
       "      <td>unece.unit.KGM</td>\n",
       "      <td>unece.unit.CMQ</td>\n",
       "      <td>unece.unit.KGM</td>\n",
       "      <td>0</td>\n",
       "    </tr>\n",
       "    <tr>\n",
       "      <th>3</th>\n",
       "      <td>4</td>\n",
       "      <td>9001731054 - fascia panel GV650A.UC Int  White...</td>\n",
       "      <td>928324</td>\n",
       "      <td>Material</td>\n",
       "      <td>60100007114130</td>\n",
       "      <td>0.0</td>\n",
       "      <td>0.0</td>\n",
       "      <td>9001731054</td>\n",
       "      <td>R250 - Injected parts (general)</td>\n",
       "      <td>NaN</td>\n",
       "      <td>...</td>\n",
       "      <td>NaN</td>\n",
       "      <td>8001186041</td>\n",
       "      <td>piece(s)</td>\n",
       "      <td>Materials which can be potentially produced in...</td>\n",
       "      <td>NaN</td>\n",
       "      <td>SAP</td>\n",
       "      <td>unece.unit.GRM</td>\n",
       "      <td>unece.unit.CMQ</td>\n",
       "      <td>unece.unit.GRM</td>\n",
       "      <td>0</td>\n",
       "    </tr>\n",
       "    <tr>\n",
       "      <th>4</th>\n",
       "      <td>5</td>\n",
       "      <td>9001762412 - Cable Harness operat. EE 590  SP....</td>\n",
       "      <td>928325</td>\n",
       "      <td>Material</td>\n",
       "      <td>60100008886908</td>\n",
       "      <td>26.8</td>\n",
       "      <td>0.0</td>\n",
       "      <td>9001762412</td>\n",
       "      <td>L592 - IDC+IDC jumpers</td>\n",
       "      <td>NaN</td>\n",
       "      <td>...</td>\n",
       "      <td>NaN</td>\n",
       "      <td>NaN</td>\n",
       "      <td>piece(s)</td>\n",
       "      <td>Materials which are externally procured</td>\n",
       "      <td>L  590MM</td>\n",
       "      <td>SAP</td>\n",
       "      <td>unece.unit.GRM</td>\n",
       "      <td>unece.unit.DMQ</td>\n",
       "      <td>unece.unit.GRM</td>\n",
       "      <td>0</td>\n",
       "    </tr>\n",
       "  </tbody>\n",
       "</table>\n",
       "<p>5 rows × 35 columns</p>\n",
       "</div>"
      ],
      "text/plain": [
       "   Unnamed: 0                                               Name Product_ID  \\\n",
       "0           1                  9001422279 - Lens Head Screw M4x8     928319   \n",
       "1           2      9001730689 - CP body laser printed WT45HV14FR     928320   \n",
       "2           3          9001730699 - USER MA. SE (WT45HV14FR), FR     928323   \n",
       "3           4  9001731054 - fascia panel GV650A.UC Int  White...     928324   \n",
       "4           5  9001762412 - Cable Harness operat. EE 590  SP....     928325   \n",
       "\n",
       "  Product_UserTypeID AT_MaraBshmCax3D  AT_MaraNtgew  AT_MaraVolum    AT_SAPID  \\\n",
       "0           Material   60100004395930           1.3           0.0  9001422279   \n",
       "1           Material              NaN         318.0           0.0  9001730689   \n",
       "2           Material              NaN          20.0           0.0  9001730699   \n",
       "3           Material   60100007114130           0.0           0.0  9001731054   \n",
       "4           Material   60100008886908          26.8           0.0  9001762412   \n",
       "\n",
       "                        AT_MaraMatkl         AT_MaraNumtp  ... AT_MaraExtwg  \\\n",
       "0           H002 - Customized screws                  NaN  ...          NaN   \n",
       "1    R239 - xxx - do not use anymore  prefabricated parts  ...          NaN   \n",
       "2  X810 - Printed material (general)                  NaN  ...          NaN   \n",
       "3    R250 - Injected parts (general)                  NaN  ...          NaN   \n",
       "4             L592 - IDC+IDC jumpers                  NaN  ...          NaN   \n",
       "\n",
       "   AT_MaraBismt AT_MaraMeins  \\\n",
       "0    5750172759     piece(s)   \n",
       "1    9001452855     piece(s)   \n",
       "2    9001452871     piece(s)   \n",
       "3    8001186041     piece(s)   \n",
       "4           NaN     piece(s)   \n",
       "\n",
       "                                        AT_MaraMtart AT_MaraGroes  \\\n",
       "0            Materials which are externally procured          NaN   \n",
       "1  Materials which can be potentially produced in...          NaN   \n",
       "2  Materials which can be potentially produced in...          NaN   \n",
       "3  Materials which can be potentially produced in...          NaN   \n",
       "4            Materials which are externally procured     L  590MM   \n",
       "\n",
       "   AT_LeadingSystem AT_MaraNtgew_UnitID AT_MaraVolum_UnitID  \\\n",
       "0               SAP      unece.unit.GRM      unece.unit.DMQ   \n",
       "1               SAP      unece.unit.KGM      unece.unit.CMQ   \n",
       "2               SAP      unece.unit.KGM      unece.unit.CMQ   \n",
       "3               SAP      unece.unit.GRM      unece.unit.CMQ   \n",
       "4               SAP      unece.unit.GRM      unece.unit.DMQ   \n",
       "\n",
       "  AT_MaraBrgew_UnitID  k  \n",
       "0      unece.unit.GRM  1  \n",
       "1      unece.unit.KGM  0  \n",
       "2      unece.unit.KGM  0  \n",
       "3      unece.unit.GRM  0  \n",
       "4      unece.unit.GRM  0  \n",
       "\n",
       "[5 rows x 35 columns]"
      ]
     },
     "execution_count": 32,
     "metadata": {},
     "output_type": "execute_result"
    }
   ],
   "source": [
    "df.head()"
   ]
  },
  {
   "cell_type": "code",
   "execution_count": 33,
   "metadata": {},
   "outputs": [],
   "source": [
    "df_mvolum = df[\"AT_MaraVolum\"]"
   ]
  },
  {
   "cell_type": "code",
   "execution_count": 34,
   "metadata": {},
   "outputs": [
    {
     "name": "stdout",
     "output_type": "stream",
     "text": [
      "0.000         1214978\n",
      "1010.352          871\n",
      "1216.512          268\n",
      "1002.351          240\n",
      "1.000             193\n",
      "               ...   \n",
      "156500.000          1\n",
      "24.800              1\n",
      "9.400               1\n",
      "31.000              1\n",
      "25.000              1\n",
      "Name: AT_MaraVolum, Length: 892, dtype: int64\n"
     ]
    }
   ],
   "source": [
    "#Show unique values and there frequence:\n",
    "print(df_mvolum.value_counts())"
   ]
  },
  {
   "cell_type": "code",
   "execution_count": null,
   "metadata": {},
   "outputs": [],
   "source": []
  }
 ],
 "metadata": {
  "kernelspec": {
   "display_name": "Python 3",
   "language": "python",
   "name": "python3"
  },
  "language_info": {
   "codemirror_mode": {
    "name": "ipython",
    "version": 3
   },
   "file_extension": ".py",
   "mimetype": "text/x-python",
   "name": "python",
   "nbconvert_exporter": "python",
   "pygments_lexer": "ipython3",
   "version": "3.7.9"
  },
  "orig_nbformat": 4
 },
 "nbformat": 4,
 "nbformat_minor": 2
}
