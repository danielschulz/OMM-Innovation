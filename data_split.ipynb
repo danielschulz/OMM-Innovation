{
 "cells": [
  {
   "cell_type": "code",
   "execution_count": 24,
   "metadata": {},
   "outputs": [],
   "source": [
    "import pandas as pd\n",
    "import numpy as np"
   ]
  },
  {
   "cell_type": "code",
   "execution_count": 25,
   "metadata": {},
   "outputs": [],
   "source": [
    "df = pd.read_csv(r'data/pandas_df2.csv', dtype='str')"
   ]
  },
  {
   "cell_type": "code",
   "execution_count": 26,
   "metadata": {},
   "outputs": [],
   "source": [
    "df['AT_MaraMatkl'].replace(r'[^a-zA-Z]', ' ', regex=True, inplace=True)"
   ]
  },
  {
   "cell_type": "code",
   "execution_count": 27,
   "metadata": {},
   "outputs": [],
   "source": [
    "labels = df['AT_MaraMatkl']"
   ]
  },
  {
   "cell_type": "code",
   "execution_count": 49,
   "metadata": {},
   "outputs": [
    {
     "name": "stderr",
     "output_type": "stream",
     "text": [
      "[nltk_data] Downloading package words to\n",
      "[nltk_data]     /Users/floriankark/nltk_data...\n",
      "[nltk_data]   Unzipping corpora/words.zip.\n"
     ]
    }
   ],
   "source": [
    "# remove single characters labels entries\n",
    "labels = labels.astype(str).apply(lambda x: ' '.join([w for w in x.split() if len(w)>1]))\n",
    "\n",
    "# remove uneccessary spaces\n",
    "labels = labels.astype(str).apply(lambda x: ' '.join(x.split()))\n",
    "\n",
    "# remove words that are not in english dictionary\n",
    "import nltk\n",
    "from nltk.corpus import words\n",
    "nltk.download('words')\n",
    "english_words = set(words.words())\n",
    "\n",
    "labels = labels.astype(str).apply(lambda x: ' '.join([word for word in x.split() if word in english_words]))\n"
   ]
  },
  {
   "cell_type": "code",
   "execution_count": 50,
   "metadata": {},
   "outputs": [
    {
     "data": {
      "text/plain": [
       "array(['', 'do not use', 'material general', 'general', 'goods',\n",
       "       'board folding', 'made of stainless steel',\n",
       "       'electronic high complex', 'with hot stamping', 'switch motor',\n",
       "       'material digital printing', 'and', 'ceramic', 'hose',\n",
       "       'rolled steel', 'dip zinc galvanized sealed steel',\n",
       "       'related medium low complexity', 'panel', 'push down turn',\n",
       "       'group plastics general', 'stainless steel',\n",
       "       'related high complexity', 'printed glass', 'made of',\n",
       "       'goods made of stainless steel', 'with special surface', 'metal',\n",
       "       'other material', 'panel system general', 'Tape general', 'with',\n",
       "       'drawn bent general', 'adhesive', 'Plastic', 'basic',\n",
       "       'electronics', 'material offset printing', 'middle complex',\n",
       "       'ceramic glasses special', 'decorated',\n",
       "       'mad of steel with non defined surface', 'bowls', 'turn',\n",
       "       'glass general', 'die cast general', 'unit', 'wire cut', 'for',\n",
       "       'cut adhesive', 'or', 'ceramic glasses standard', 'tape paper',\n",
       "       'moulded', 'do not use any more', 'die cast', 'made of and',\n",
       "       'plastic', 'dip zinc aluminum galvanized steel', 'bent',\n",
       "       'made of steel and stainless steel', 'hot dip galvanized steel',\n",
       "       'bearing general', 'coating general', 'agent', 'material', 'steel',\n",
       "       'button', 'heater', 'mains', 'injection', 'copper', 'equipment',\n",
       "       'Plastic with touch', 'for compressor', 'Tech', 'tube',\n",
       "       'for indicator', 'magnet', 'group general', 'plastic general',\n",
       "       'group plastics', 'profile non magnetic', 'plain glass',\n",
       "       'gasket non magnetic', 'heating', 'foil heater', 'design',\n",
       "       'switch', 'goods filter', 'coated wire goods', 'body', 'on',\n",
       "       'felt', 'wood general', 'metal in house production',\n",
       "       'furniture general', 'painted', 'dip zinc galvanized steel', 'Fan',\n",
       "       'high complex', 'strapping material', 'group',\n",
       "       'injection uncolored', 'group with', 'with real metal',\n",
       "       'felt general', 'group electronics general', 'uncoated steel',\n",
       "       'corrugated board and paper based', 'based', 'to magnet',\n",
       "       'gasket magnetic', 'Pan made of cast iron', 'sheet metal general',\n",
       "       'made of soft rubber general', 'like rubber', 'cast iron general',\n",
       "       'insulation', 'not use', 'glass', 'small design', 'wire goods',\n",
       "       'heat indicator', 'wire general', 'door', 'electronic', 'Pole',\n",
       "       'pole', 'metal uncoated', 'stainless steel structured',\n",
       "       'tape plastics film', 'tape foam', 'unfilled', 'flat',\n",
       "       'glass hob tops', 'taps without safety device', 'Tape',\n",
       "       'taps with safety device', 'plug', 'Pan made of round flat wire',\n",
       "       'taps', 'small Tech', 'Pan made of round flat raw wire', 'up',\n",
       "       'burner', 'rubber general', 'rubber', 'basic circuit board',\n",
       "       'mould', 'dip aluminium zinc galvanized sealed steel',\n",
       "       'hot dip galvanized sealed steel', 'stainless steel blank',\n",
       "       'printed', 'door insulated', 'wiring in general',\n",
       "       'steel and general', 'filter', 'furniture', 'made of steel',\n",
       "       'magnet general', 'aluminium', 'signal housing', 'insert',\n",
       "       'heater accessory', 'wooden design', 'special ass group', 'or cut',\n",
       "       'door with glass surface', 'par', 'rolled strip general',\n",
       "       'of heating heating', 'ceramic glass with coating',\n",
       "       'and other mechanical', 'valve electrical', 'with Al', 'heat',\n",
       "       'sensor', 'wooden board', 'plastic design', 'coating', 'bearing',\n",
       "       'kind scanner plotter', 'dip aluminium zinc galvanized steel',\n",
       "       'galvanized', 'small', 'made of austenitic',\n",
       "       'nozzle small accessory', 'pulp', 'clamp', 'Pan for gas', 'spare',\n",
       "       'anti friction coating for machinery', 'paper', 'panel system',\n",
       "       'spare small', 'protective equipment clothes',\n",
       "       'like rubber general', 'for appliance', 'especially',\n",
       "       'injection white', 'talcum filled', 'for die casting', 'product',\n",
       "       'injection colored', 'complex', 'canteen casino goods food',\n",
       "       'protective equipment', 'ceramic glass',\n",
       "       'bench drilling sawing repair', 'and safety related equipment',\n",
       "       'model testing', 'filled', 'ship prod mat', 'rubber gum plastics',\n",
       "       'tool and equipment maint removal scrapping',\n",
       "       'other non metal general', 'basic basic', 'Kit', 'rubber apron',\n",
       "       'finish cutted', 'nozzle static', 'for vacuum', 'and for',\n",
       "       'asymmetrical door glass diameter', 'shaft', 'tape metal',\n",
       "       'tape double sided', 'gas', 'No frost heat', 'other non metal',\n",
       "       'on plate', 'stainless steel coated', 'small motor',\n",
       "       'electronic basic', 'in tube', 'of zinc coated', 'nan', 'wooden',\n",
       "       'or for', 'valve mechanical', 'electronics with housing',\n",
       "       'No frost heat exchanger assembly', 'bellows',\n",
       "       'austenitic stainless steel', 'sheet metal', 'shaded pole for',\n",
       "       'electronics general', 'Spring hose', 'module basic',\n",
       "       'for gas basic', 'printer plotter', 'painted and', 'group rubber',\n",
       "       'rolled high strength steel', 'dip steel', 'exchanger system',\n",
       "       'of powder coated', 'electronic general', 'semi finished',\n",
       "       'electronics high complex', 'electronics basic',\n",
       "       'purchase lease rent of', 'guide', 'complex complex', 'desi',\n",
       "       'steel general', 'electric lamp', 'complex general',\n",
       "       'unit for cooling', 'non', 'not', 'profile magnetic',\n",
       "       'layout function', 'mould design', 'cast', 'tape layered',\n",
       "       'Rotary', 'basic general', 'coated', 'machine', 'module',\n",
       "       'Rotary valve', 'for cooling', 'dip galvanized', 'intake',\n",
       "       'nozzle turbo', 'electronic complex', 'without for', 'pump',\n",
       "       'machine shrink stretch cardboard', 'Plastic injection molding',\n",
       "       'made of soft rubber', 'semifinished', 'tape', 'for spare use',\n",
       "       'metalworking', 'mobile computer', 'and of stainless or',\n",
       "       'group electronics', 'and supply', 'fixed to any kind of carrier',\n",
       "       'dip zinc aluminum galvanized sealed steel', 'Media', 'expanding',\n",
       "       'module complex', 'nozzle', 'transfer printer label printer',\n",
       "       'for gas general', 'Plastic without touch', 'extrusion white',\n",
       "       'laundry care', 'Tech Tech proof edit',\n",
       "       'standing refrigerator door', 'mo', 'refrigeration',\n",
       "       'coated thin gauge sheet metal', 'hardware', 'for cooling general',\n",
       "       'gauge sheet metal uncoated', 'plastics', 'chalk filled',\n",
       "       'electrics', 'outlet', 'production', 'for gas high complex',\n",
       "       'protective equipment boots', 'elect', 'blow form weld extrusion',\n",
       "       'Plastic ship prod mat'], dtype=object)"
      ]
     },
     "execution_count": 50,
     "metadata": {},
     "output_type": "execute_result"
    }
   ],
   "source": [
    "labels.unique()"
   ]
  },
  {
   "cell_type": "code",
   "execution_count": 52,
   "metadata": {},
   "outputs": [],
   "source": [
    "labels = labels.drop_duplicates()"
   ]
  },
  {
   "cell_type": "code",
   "execution_count": 53,
   "metadata": {},
   "outputs": [
    {
     "data": {
      "text/plain": [
       "329"
      ]
     },
     "execution_count": 53,
     "metadata": {},
     "output_type": "execute_result"
    }
   ],
   "source": [
    "len(labels.unique())"
   ]
  },
  {
   "cell_type": "code",
   "execution_count": 54,
   "metadata": {},
   "outputs": [
    {
     "ename": "ValueError",
     "evalue": "Input data must be a pandas object to reorder",
     "output_type": "error",
     "traceback": [
      "\u001b[0;31m---------------------------------------------------------------------------\u001b[0m",
      "\u001b[0;31mValueError\u001b[0m                                Traceback (most recent call last)",
      "Cell \u001b[0;32mIn[54], line 6\u001b[0m\n\u001b[1;32m      4\u001b[0m sns\u001b[39m.\u001b[39mset_style(\u001b[39m'\u001b[39m\u001b[39mdarkgrid\u001b[39m\u001b[39m'\u001b[39m)\n\u001b[1;32m      5\u001b[0m plt\u001b[39m.\u001b[39mfigure(figsize\u001b[39m=\u001b[39m(\u001b[39m20\u001b[39m,\u001b[39m10\u001b[39m))\n\u001b[0;32m----> 6\u001b[0m sns\u001b[39m.\u001b[39;49mcountplot(labels, order \u001b[39m=\u001b[39;49m labels\u001b[39m.\u001b[39;49mvalue_counts()\u001b[39m.\u001b[39;49mindex)\n\u001b[1;32m      7\u001b[0m plt\u001b[39m.\u001b[39mxticks(rotation\u001b[39m=\u001b[39m\u001b[39m90\u001b[39m)\n\u001b[1;32m      8\u001b[0m plt\u001b[39m.\u001b[39mshow()\n",
      "File \u001b[0;32m/usr/local/lib/python3.9/site-packages/seaborn/categorical.py:2943\u001b[0m, in \u001b[0;36mcountplot\u001b[0;34m(data, x, y, hue, order, hue_order, orient, color, palette, saturation, width, dodge, ax, **kwargs)\u001b[0m\n\u001b[1;32m   2940\u001b[0m \u001b[39melif\u001b[39;00m x \u001b[39mis\u001b[39;00m \u001b[39mnot\u001b[39;00m \u001b[39mNone\u001b[39;00m \u001b[39mand\u001b[39;00m y \u001b[39mis\u001b[39;00m \u001b[39mnot\u001b[39;00m \u001b[39mNone\u001b[39;00m:\n\u001b[1;32m   2941\u001b[0m     \u001b[39mraise\u001b[39;00m \u001b[39mValueError\u001b[39;00m(\u001b[39m\"\u001b[39m\u001b[39mCannot pass values for both `x` and `y`\u001b[39m\u001b[39m\"\u001b[39m)\n\u001b[0;32m-> 2943\u001b[0m plotter \u001b[39m=\u001b[39m _CountPlotter(\n\u001b[1;32m   2944\u001b[0m     x, y, hue, data, order, hue_order,\n\u001b[1;32m   2945\u001b[0m     estimator, errorbar, n_boot, units, seed,\n\u001b[1;32m   2946\u001b[0m     orient, color, palette, saturation,\n\u001b[1;32m   2947\u001b[0m     width, errcolor, errwidth, capsize, dodge\n\u001b[1;32m   2948\u001b[0m )\n\u001b[1;32m   2950\u001b[0m plotter\u001b[39m.\u001b[39mvalue_label \u001b[39m=\u001b[39m \u001b[39m\"\u001b[39m\u001b[39mcount\u001b[39m\u001b[39m\"\u001b[39m\n\u001b[1;32m   2952\u001b[0m \u001b[39mif\u001b[39;00m ax \u001b[39mis\u001b[39;00m \u001b[39mNone\u001b[39;00m:\n",
      "File \u001b[0;32m/usr/local/lib/python3.9/site-packages/seaborn/categorical.py:1530\u001b[0m, in \u001b[0;36m_BarPlotter.__init__\u001b[0;34m(self, x, y, hue, data, order, hue_order, estimator, errorbar, n_boot, units, seed, orient, color, palette, saturation, width, errcolor, errwidth, capsize, dodge)\u001b[0m\n\u001b[1;32m   1525\u001b[0m \u001b[39mdef\u001b[39;00m \u001b[39m__init__\u001b[39m(\u001b[39mself\u001b[39m, x, y, hue, data, order, hue_order,\n\u001b[1;32m   1526\u001b[0m              estimator, errorbar, n_boot, units, seed,\n\u001b[1;32m   1527\u001b[0m              orient, color, palette, saturation, width,\n\u001b[1;32m   1528\u001b[0m              errcolor, errwidth, capsize, dodge):\n\u001b[1;32m   1529\u001b[0m \u001b[39m    \u001b[39m\u001b[39m\"\"\"Initialize the plotter.\"\"\"\u001b[39;00m\n\u001b[0;32m-> 1530\u001b[0m     \u001b[39mself\u001b[39;49m\u001b[39m.\u001b[39;49mestablish_variables(x, y, hue, data, orient,\n\u001b[1;32m   1531\u001b[0m                              order, hue_order, units)\n\u001b[1;32m   1532\u001b[0m     \u001b[39mself\u001b[39m\u001b[39m.\u001b[39mestablish_colors(color, palette, saturation)\n\u001b[1;32m   1533\u001b[0m     \u001b[39mself\u001b[39m\u001b[39m.\u001b[39mestimate_statistic(estimator, errorbar, n_boot, seed)\n",
      "File \u001b[0;32m/usr/local/lib/python3.9/site-packages/seaborn/categorical.py:481\u001b[0m, in \u001b[0;36m_CategoricalPlotter.establish_variables\u001b[0;34m(self, x, y, hue, data, orient, order, hue_order, units)\u001b[0m\n\u001b[1;32m    479\u001b[0m \u001b[39mif\u001b[39;00m order \u001b[39mis\u001b[39;00m \u001b[39mnot\u001b[39;00m \u001b[39mNone\u001b[39;00m:\n\u001b[1;32m    480\u001b[0m     error \u001b[39m=\u001b[39m \u001b[39m\"\u001b[39m\u001b[39mInput data must be a pandas object to reorder\u001b[39m\u001b[39m\"\u001b[39m\n\u001b[0;32m--> 481\u001b[0m     \u001b[39mraise\u001b[39;00m \u001b[39mValueError\u001b[39;00m(error)\n\u001b[1;32m    483\u001b[0m \u001b[39m# The input data is an array\u001b[39;00m\n\u001b[1;32m    484\u001b[0m \u001b[39mif\u001b[39;00m \u001b[39mhasattr\u001b[39m(data, \u001b[39m\"\u001b[39m\u001b[39mshape\u001b[39m\u001b[39m\"\u001b[39m):\n",
      "\u001b[0;31mValueError\u001b[0m: Input data must be a pandas object to reorder"
     ]
    },
    {
     "data": {
      "text/plain": [
       "<Figure size 2000x1000 with 0 Axes>"
      ]
     },
     "metadata": {},
     "output_type": "display_data"
    }
   ],
   "source": [
    "# plot labels by count\n"
   ]
  },
  {
   "cell_type": "code",
   "execution_count": null,
   "metadata": {},
   "outputs": [],
   "source": []
  }
 ],
 "metadata": {
  "kernelspec": {
   "display_name": "Python 3",
   "language": "python",
   "name": "python3"
  },
  "language_info": {
   "codemirror_mode": {
    "name": "ipython",
    "version": 3
   },
   "file_extension": ".py",
   "mimetype": "text/x-python",
   "name": "python",
   "nbconvert_exporter": "python",
   "pygments_lexer": "ipython3",
   "version": "3.9.4"
  },
  "orig_nbformat": 4
 },
 "nbformat": 4,
 "nbformat_minor": 2
}
